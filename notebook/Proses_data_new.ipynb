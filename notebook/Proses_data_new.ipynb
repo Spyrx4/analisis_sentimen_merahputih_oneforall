{
  "cells": [
    {
      "cell_type": "markdown",
      "metadata": {
        "colab_type": "text",
        "id": "view-in-github"
      },
      "source": [
        "<a href=\"https://colab.research.google.com/github/Spyrx4/analisis_sentimen_merahputih_oneforall/blob/main/notebook/Proses_data_new.ipynb\" target=\"_parent\"><img src=\"https://colab.research.google.com/assets/colab-badge.svg\" alt=\"Open In Colab\"/></a>"
      ]
    },
    {
      "cell_type": "code",
      "execution_count": 315,
      "metadata": {
        "id": "fxKWF5NEHnlx"
      },
      "outputs": [],
      "source": [
        "import pandas as pd\n",
        "import numpy as np\n",
        "import matplotlib.pyplot as plt\n",
        "import seaborn as sns\n",
        "from bs4 import BeautifulSoup\n",
        "import re\n",
        "import string\n",
        "import nltk\n",
        "import html\n",
        "import warnings\n",
        "warnings.filterwarnings('ignore')"
      ]
    },
    {
      "cell_type": "code",
      "execution_count": 316,
      "metadata": {
        "id": "IYcMpsDJHzsl"
      },
      "outputs": [],
      "source": [
        "df = pd.read_csv('../data/smerahputih_oneforall.csv')"
      ]
    },
    {
      "cell_type": "code",
      "execution_count": 317,
      "metadata": {
        "colab": {
          "base_uri": "https://localhost:8080/",
          "height": 206
        },
        "id": "g70JFWcjH9wP",
        "outputId": "e7bfcee5-62fe-44b2-a1c4-ab437fc448ec"
      },
      "outputs": [
        {
          "data": {
            "application/vnd.microsoft.datawrangler.viewer.v0+json": {
              "columns": [
                {
                  "name": "index",
                  "rawType": "int64",
                  "type": "integer"
                },
                {
                  "name": "publishedAt",
                  "rawType": "object",
                  "type": "string"
                },
                {
                  "name": "authorDisplayName",
                  "rawType": "object",
                  "type": "string"
                },
                {
                  "name": "textDisplay",
                  "rawType": "object",
                  "type": "string"
                },
                {
                  "name": "likeCount",
                  "rawType": "int64",
                  "type": "integer"
                },
                {
                  "name": "type",
                  "rawType": "object",
                  "type": "string"
                }
              ],
              "ref": "5c920823-c24b-49ce-821e-27bde32de02b",
              "rows": [
                [
                  "0",
                  "2025-08-28T08:45:34Z",
                  "@SyafeQah1990",
                  "Cartoon ni masuk pawagam...??..",
                  "0",
                  "comment"
                ],
                [
                  "1",
                  "2025-08-28T08:29:35Z",
                  "@HusnaNurul-m6h",
                  "ini yg katanya film mengeluarkan dan sampe miliyaran😂😂 ini film apa game android karakter kaku garfik buriqq nonton filem ini serasa nonton game ank kecil",
                  "0",
                  "comment"
                ],
                [
                  "2",
                  "2025-08-28T08:14:10Z",
                  "@AlvinoAWP",
                  "Burung.nya.suara.monyet.cok🗿🗿",
                  "0",
                  "comment"
                ],
                [
                  "3",
                  "2025-08-28T07:56:15Z",
                  "@arkanpradipta8934",
                  "<a href=\"https://www.youtube.com/watch?v=6jdG2WQEgyI&amp;t=39\">0:39</a> apalah ada AMK M4",
                  "0",
                  "comment"
                ],
                [
                  "4",
                  "2025-08-28T07:50:36Z",
                  "@galangadimaskhrisnaherlamb4053",
                  "bahkan jurasik park 1993 lebih bagus dari ini",
                  "1",
                  "comment"
                ]
              ],
              "shape": {
                "columns": 5,
                "rows": 5
              }
            },
            "text/html": [
              "<div>\n",
              "<style scoped>\n",
              "    .dataframe tbody tr th:only-of-type {\n",
              "        vertical-align: middle;\n",
              "    }\n",
              "\n",
              "    .dataframe tbody tr th {\n",
              "        vertical-align: top;\n",
              "    }\n",
              "\n",
              "    .dataframe thead th {\n",
              "        text-align: right;\n",
              "    }\n",
              "</style>\n",
              "<table border=\"1\" class=\"dataframe\">\n",
              "  <thead>\n",
              "    <tr style=\"text-align: right;\">\n",
              "      <th></th>\n",
              "      <th>publishedAt</th>\n",
              "      <th>authorDisplayName</th>\n",
              "      <th>textDisplay</th>\n",
              "      <th>likeCount</th>\n",
              "      <th>type</th>\n",
              "    </tr>\n",
              "  </thead>\n",
              "  <tbody>\n",
              "    <tr>\n",
              "      <th>0</th>\n",
              "      <td>2025-08-28T08:45:34Z</td>\n",
              "      <td>@SyafeQah1990</td>\n",
              "      <td>Cartoon ni masuk pawagam...??..</td>\n",
              "      <td>0</td>\n",
              "      <td>comment</td>\n",
              "    </tr>\n",
              "    <tr>\n",
              "      <th>1</th>\n",
              "      <td>2025-08-28T08:29:35Z</td>\n",
              "      <td>@HusnaNurul-m6h</td>\n",
              "      <td>ini yg katanya film mengeluarkan dan sampe mil...</td>\n",
              "      <td>0</td>\n",
              "      <td>comment</td>\n",
              "    </tr>\n",
              "    <tr>\n",
              "      <th>2</th>\n",
              "      <td>2025-08-28T08:14:10Z</td>\n",
              "      <td>@AlvinoAWP</td>\n",
              "      <td>Burung.nya.suara.monyet.cok🗿🗿</td>\n",
              "      <td>0</td>\n",
              "      <td>comment</td>\n",
              "    </tr>\n",
              "    <tr>\n",
              "      <th>3</th>\n",
              "      <td>2025-08-28T07:56:15Z</td>\n",
              "      <td>@arkanpradipta8934</td>\n",
              "      <td>&lt;a href=\"https://www.youtube.com/watch?v=6jdG2...</td>\n",
              "      <td>0</td>\n",
              "      <td>comment</td>\n",
              "    </tr>\n",
              "    <tr>\n",
              "      <th>4</th>\n",
              "      <td>2025-08-28T07:50:36Z</td>\n",
              "      <td>@galangadimaskhrisnaherlamb4053</td>\n",
              "      <td>bahkan jurasik park 1993 lebih bagus dari ini</td>\n",
              "      <td>1</td>\n",
              "      <td>comment</td>\n",
              "    </tr>\n",
              "  </tbody>\n",
              "</table>\n",
              "</div>"
            ],
            "text/plain": [
              "            publishedAt                authorDisplayName  \\\n",
              "0  2025-08-28T08:45:34Z                    @SyafeQah1990   \n",
              "1  2025-08-28T08:29:35Z                  @HusnaNurul-m6h   \n",
              "2  2025-08-28T08:14:10Z                       @AlvinoAWP   \n",
              "3  2025-08-28T07:56:15Z               @arkanpradipta8934   \n",
              "4  2025-08-28T07:50:36Z  @galangadimaskhrisnaherlamb4053   \n",
              "\n",
              "                                         textDisplay  likeCount     type  \n",
              "0                    Cartoon ni masuk pawagam...??..          0  comment  \n",
              "1  ini yg katanya film mengeluarkan dan sampe mil...          0  comment  \n",
              "2                      Burung.nya.suara.monyet.cok🗿🗿          0  comment  \n",
              "3  <a href=\"https://www.youtube.com/watch?v=6jdG2...          0  comment  \n",
              "4      bahkan jurasik park 1993 lebih bagus dari ini          1  comment  "
            ]
          },
          "execution_count": 317,
          "metadata": {},
          "output_type": "execute_result"
        }
      ],
      "source": [
        "df.head()"
      ]
    },
    {
      "cell_type": "code",
      "execution_count": 318,
      "metadata": {
        "colab": {
          "base_uri": "https://localhost:8080/",
          "height": 424
        },
        "id": "YQ2S6Nz3H-rd",
        "outputId": "5d11a2d5-9131-4f3d-e71a-1fae6787591e"
      },
      "outputs": [
        {
          "data": {
            "application/vnd.microsoft.datawrangler.viewer.v0+json": {
              "columns": [
                {
                  "name": "index",
                  "rawType": "int64",
                  "type": "integer"
                },
                {
                  "name": "publishedAt",
                  "rawType": "object",
                  "type": "string"
                },
                {
                  "name": "authorDisplayName",
                  "rawType": "object",
                  "type": "string"
                },
                {
                  "name": "textDisplay",
                  "rawType": "object",
                  "type": "string"
                },
                {
                  "name": "likeCount",
                  "rawType": "int64",
                  "type": "integer"
                },
                {
                  "name": "type",
                  "rawType": "object",
                  "type": "string"
                }
              ],
              "ref": "f09e2a85-5d98-425f-bd06-adf0dbdf1adb",
              "rows": [
                [
                  "0",
                  "2025-08-28T08:45:34Z",
                  "@SyafeQah1990",
                  "Cartoon ni masuk pawagam...??..",
                  "0",
                  "comment"
                ],
                [
                  "1",
                  "2025-08-28T08:29:35Z",
                  "@HusnaNurul-m6h",
                  "ini yg katanya film mengeluarkan dan sampe miliyaran😂😂 ini film apa game android karakter kaku garfik buriqq nonton filem ini serasa nonton game ank kecil",
                  "0",
                  "comment"
                ],
                [
                  "2",
                  "2025-08-28T08:14:10Z",
                  "@AlvinoAWP",
                  "Burung.nya.suara.monyet.cok🗿🗿",
                  "0",
                  "comment"
                ],
                [
                  "3",
                  "2025-08-28T07:56:15Z",
                  "@arkanpradipta8934",
                  "<a href=\"https://www.youtube.com/watch?v=6jdG2WQEgyI&amp;t=39\">0:39</a> apalah ada AMK M4",
                  "0",
                  "comment"
                ],
                [
                  "4",
                  "2025-08-28T07:50:36Z",
                  "@galangadimaskhrisnaherlamb4053",
                  "bahkan jurasik park 1993 lebih bagus dari ini",
                  "1",
                  "comment"
                ],
                [
                  "5",
                  "2025-08-28T07:46:02Z",
                  "@cloweystar",
                  "national disgrace. even a daz3d h*ntai is better than this 😂😂",
                  "0",
                  "comment"
                ],
                [
                  "6",
                  "2025-08-28T07:32:15Z",
                  "@Haris1604-i3l",
                  "ASLI BURIQ - Lebih Bagus Grafik FREE FIRE 😁",
                  "0",
                  "comment"
                ],
                [
                  "7",
                  "2025-08-28T07:01:48Z",
                  "@afikakorizen",
                  "&quot;berhyenti Jan lanjyut&quot; suaranya slay amat",
                  "0",
                  "comment"
                ],
                [
                  "8",
                  "2025-08-28T06:46:56Z",
                  "@montero2iey",
                  "Tidakkan gua beli di pasar jrr pertualangannya sampai ke tempat rwhasia mending ambil emas 😂😂",
                  "0",
                  "comment"
                ],
                [
                  "9",
                  "2025-08-28T06:35:57Z",
                  "@Ajengayuning17",
                  "Beta buka gudang benderanya hilank",
                  "1",
                  "comment"
                ],
                [
                  "10",
                  "2025-08-28T06:33:27Z",
                  "@AhmadYunus-wo7xc",
                  "so tuff gng",
                  "0",
                  "comment"
                ],
                [
                  "11",
                  "2025-08-28T06:14:52Z",
                  "@MasitohMasitoh-yy6qm",
                  "Mata ku sakit grafik Majapahit",
                  "0",
                  "comment"
                ],
                [
                  "12",
                  "2025-08-28T06:01:02Z",
                  "@Ripalmuhtar",
                  "tolong ini suara burung nya di ganti malah suara monyet",
                  "0",
                  "comment"
                ],
                [
                  "13",
                  "2025-08-28T05:55:09Z",
                  "@mahaakun2",
                  "Animasi dari  dark web ini 😂",
                  "0",
                  "comment"
                ],
                [
                  "14",
                  "2025-08-28T05:43:40Z",
                  "@Alvino68-x",
                  "rudal aja aki aki nya",
                  "0",
                  "comment"
                ],
                [
                  "15",
                  "2025-08-28T05:37:13Z",
                  "@lyzael-k2l",
                  "animasi plagiat gini 🤣",
                  "0",
                  "comment"
                ],
                [
                  "16",
                  "2025-08-28T05:02:11Z",
                  "@GatauAuuu",
                  "bagusan buatan konten kreyator you tube yg modal 67k",
                  "0",
                  "comment"
                ],
                [
                  "17",
                  "2025-08-28T04:38:17Z",
                  "@najlapinter7705",
                  "kalau bendera hilang iya beli 🤣🤣🤣",
                  "1",
                  "comment"
                ],
                [
                  "18",
                  "2025-08-28T04:18:13Z",
                  "@ZainalArifin-zy5kh",
                  "Geli😂",
                  "0",
                  "comment"
                ],
                [
                  "19",
                  "2025-08-28T03:39:25Z",
                  "@winarsihnarsih7466",
                  "biaya elit animasi sulit🙏",
                  "0",
                  "comment"
                ],
                [
                  "20",
                  "2025-08-28T03:24:30Z",
                  "@RizkyMaulana-f9e",
                  "Caracter game ini mah,grafik smoot",
                  "0",
                  "comment"
                ],
                [
                  "21",
                  "2025-08-28T02:58:03Z",
                  "@aleymahfud7302",
                  "Kan pas nyari bendera lewat pasar lah kenapa gk beli bendera di pasar mana nyari bendera nya sampe ke hutan hutan lagi",
                  "0",
                  "comment"
                ],
                [
                  "22",
                  "2025-08-28T02:27:17Z",
                  "@MariaDacosta-r2s",
                  "&quot;Beta buka gudang anggarannya hilang&quot;",
                  "0",
                  "comment"
                ],
                [
                  "23",
                  "2025-08-28T02:14:32Z",
                  "@natananandra5929",
                  "Mayan nih buat hukuman koruptor",
                  "0",
                  "comment"
                ],
                [
                  "24",
                  "2025-08-28T01:40:27Z",
                  "@Danil-i7g4j",
                  "ahh najisss nyeee",
                  "0",
                  "comment"
                ],
                [
                  "25",
                  "2025-08-28T00:49:44Z",
                  "@Attar-V5",
                  "Kenapa sampe lewat hutan wak😹 <a href=\"https://www.youtube.com/watch?v=6jdG2WQEgyI&amp;t=122\">2:02</a>",
                  "0",
                  "comment"
                ],
                [
                  "26",
                  "2025-08-27T23:33:38Z",
                  "@YosafatWanda",
                  "Beta buka gudang bendera hilang",
                  "0",
                  "comment"
                ],
                [
                  "27",
                  "2025-08-27T22:44:45Z",
                  "@Cecep_SiRailfans",
                  "Keluarga somat aja grafik nya aja lebih bagus. Ini mah, animasi jaman orde lama🗿🔥",
                  "0",
                  "comment"
                ],
                [
                  "28",
                  "2025-08-27T21:36:48Z",
                  "@Itzkitty_Xd",
                  "&quot;Beta buka gudang anggarannya kok hilang&quot; 😂",
                  "0",
                  "comment"
                ],
                [
                  "29",
                  "2025-08-27T21:21:45Z",
                  "@Along_fed",
                  "pehh, sgt terkesan pada aku. kerna bisa bikin aku galau juga esmosi terus. aku wakil warga Malaysia, sudah bangga dgn kartun sebelumnya(JUMBO) Alih2 karya yg ini👎😞😞🫣🫣. maaf andai k0mentar aku buatkn sahabat Indonesia marah pd aku. to, aku harus jujur agar karya seterusnya bisa saingi karya kartun Malaysia, bisa kalahkn kami juga lebih bagus, maka kami akn berusaha lebih agar bisa kalahkn semula karya Indonesia. bersaing secara sehat dan profesional, agar bisa maju kehadapannya. salam MALINDO DAMAI. ASSALAMUALAIKUM..",
                  "0",
                  "comment"
                ],
                [
                  "30",
                  "2025-08-27T20:34:41Z",
                  "@legamnyooooo17",
                  "ANIMASI TAI",
                  "0",
                  "comment"
                ],
                [
                  "31",
                  "2025-08-27T20:15:23Z",
                  "@Dikarosi",
                  "ga layak tayang dan ditonton😌",
                  "0",
                  "comment"
                ],
                [
                  "32",
                  "2025-08-27T20:14:24Z",
                  "@Dikarosi",
                  "diliat negara orang woi",
                  "0",
                  "comment"
                ],
                [
                  "33",
                  "2025-08-27T20:13:32Z",
                  "@Dikarosi",
                  "gw yg nonton malu banget anjayyy😭",
                  "0",
                  "comment"
                ],
                [
                  "34",
                  "2025-08-27T18:26:38Z",
                  "@f1r3hunt3rz5",
                  "Oh, um.... Impressive.<br>- Malaysian",
                  "0",
                  "comment"
                ],
                [
                  "35",
                  "2025-08-27T17:12:13Z",
                  "@Teguh35529",
                  "Ngelag😂",
                  "0",
                  "comment"
                ],
                [
                  "36",
                  "2025-08-27T16:23:48Z",
                  "@DRMIbrahimAdamF",
                  "Saje nak tanya, dari Malaysia, korang hisap substance apa sebelum buat filem ni? Kongsi sikit",
                  "0",
                  "comment"
                ],
                [
                  "37",
                  "2025-08-27T16:03:42Z",
                  "@anandaaji571",
                  "Wah klo dijadikan nominasi kartun terbaik di dunia pasti menang ini. MenangGUNG malu.",
                  "0",
                  "comment"
                ],
                [
                  "38",
                  "2025-08-27T15:38:21Z",
                  "@Irfan-sr6fp",
                  "Jenis narkoboy apa yg dikonsumsi yg membuat animasi ini 😂",
                  "0",
                  "comment"
                ],
                [
                  "39",
                  "2025-08-27T15:04:46Z",
                  "@hurrydotkom5339",
                  "jelek banget gilak",
                  "0",
                  "comment"
                ],
                [
                  "40",
                  "2025-08-27T15:01:18Z",
                  "@imasmaolani999",
                  "Sampah",
                  "0",
                  "comment"
                ],
                [
                  "41",
                  "2025-08-27T14:35:48Z",
                  "@Faruq-l6w",
                  "Sakit cokk mata aku",
                  "0",
                  "comment"
                ],
                [
                  "42",
                  "2025-08-27T14:35:30Z",
                  "@DORALA-z2e",
                  "Film apaan nih jelek banget burung kakatua suara monyet terus kenapa bendera disandera salah bendera apa? Itu tadi pas awal awal ada bendera banyak kenapa gak pakek itu aja terus ada senjata api saat cowok menyebrangi jembatan kayu kepala nya patah tiba tiba langsung nyemplung kolam terus anak baju merah tembus teman nya sendiri dan anak cewek jatuh itu kenapa gak ada rasa sakit harus nya muka nya sakit ini diam karton apa ini😢",
                  "0",
                  "comment"
                ],
                [
                  "43",
                  "2025-08-27T14:24:50Z",
                  "@Hafizhnama-w4r",
                  "Bersyukur saja",
                  "0",
                  "comment"
                ],
                [
                  "44",
                  "2025-08-27T14:15:13Z",
                  "@alien_t9",
                  "S̺u̺r̺a̺ b̺u̺r̺u̺n̺g̺ s̺u̺r̺a̺ m̺o̺n̺y̺e̺t̺🤭🗿🗿",
                  "0",
                  "comment"
                ],
                [
                  "45",
                  "2025-08-27T14:11:27Z",
                  "@EdwinProkmadani-k1g",
                  "Ini animasi atau Green screen doang burik bet!",
                  "1",
                  "comment"
                ],
                [
                  "46",
                  "2025-08-27T14:08:19Z",
                  "@Yoiki_kolip",
                  "Bajet miliarran grafik 80 an",
                  "0",
                  "comment"
                ],
                [
                  "47",
                  "2025-08-27T14:08:06Z",
                  "@Yoiki_kolip",
                  "Bajet miliarran grafik 80 an",
                  "0",
                  "comment"
                ],
                [
                  "48",
                  "2025-08-27T14:05:18Z",
                  "@EgyZul",
                  "Apakah ada ff one for all",
                  "0",
                  "comment"
                ],
                [
                  "49",
                  "2025-08-27T13:49:41Z",
                  "@AkbarMaulana-di3xi",
                  "Jatuh di tengah pindahnya ke kiri",
                  "1",
                  "comment"
                ]
              ],
              "shape": {
                "columns": 5,
                "rows": 4756
              }
            },
            "text/html": [
              "<div>\n",
              "<style scoped>\n",
              "    .dataframe tbody tr th:only-of-type {\n",
              "        vertical-align: middle;\n",
              "    }\n",
              "\n",
              "    .dataframe tbody tr th {\n",
              "        vertical-align: top;\n",
              "    }\n",
              "\n",
              "    .dataframe thead th {\n",
              "        text-align: right;\n",
              "    }\n",
              "</style>\n",
              "<table border=\"1\" class=\"dataframe\">\n",
              "  <thead>\n",
              "    <tr style=\"text-align: right;\">\n",
              "      <th></th>\n",
              "      <th>publishedAt</th>\n",
              "      <th>authorDisplayName</th>\n",
              "      <th>textDisplay</th>\n",
              "      <th>likeCount</th>\n",
              "      <th>type</th>\n",
              "    </tr>\n",
              "  </thead>\n",
              "  <tbody>\n",
              "    <tr>\n",
              "      <th>0</th>\n",
              "      <td>2025-08-28T08:45:34Z</td>\n",
              "      <td>@SyafeQah1990</td>\n",
              "      <td>Cartoon ni masuk pawagam...??..</td>\n",
              "      <td>0</td>\n",
              "      <td>comment</td>\n",
              "    </tr>\n",
              "    <tr>\n",
              "      <th>1</th>\n",
              "      <td>2025-08-28T08:29:35Z</td>\n",
              "      <td>@HusnaNurul-m6h</td>\n",
              "      <td>ini yg katanya film mengeluarkan dan sampe mil...</td>\n",
              "      <td>0</td>\n",
              "      <td>comment</td>\n",
              "    </tr>\n",
              "    <tr>\n",
              "      <th>2</th>\n",
              "      <td>2025-08-28T08:14:10Z</td>\n",
              "      <td>@AlvinoAWP</td>\n",
              "      <td>Burung.nya.suara.monyet.cok🗿🗿</td>\n",
              "      <td>0</td>\n",
              "      <td>comment</td>\n",
              "    </tr>\n",
              "    <tr>\n",
              "      <th>3</th>\n",
              "      <td>2025-08-28T07:56:15Z</td>\n",
              "      <td>@arkanpradipta8934</td>\n",
              "      <td>&lt;a href=\"https://www.youtube.com/watch?v=6jdG2...</td>\n",
              "      <td>0</td>\n",
              "      <td>comment</td>\n",
              "    </tr>\n",
              "    <tr>\n",
              "      <th>4</th>\n",
              "      <td>2025-08-28T07:50:36Z</td>\n",
              "      <td>@galangadimaskhrisnaherlamb4053</td>\n",
              "      <td>bahkan jurasik park 1993 lebih bagus dari ini</td>\n",
              "      <td>1</td>\n",
              "      <td>comment</td>\n",
              "    </tr>\n",
              "    <tr>\n",
              "      <th>...</th>\n",
              "      <td>...</td>\n",
              "      <td>...</td>\n",
              "      <td>...</td>\n",
              "      <td>...</td>\n",
              "      <td>...</td>\n",
              "    </tr>\n",
              "    <tr>\n",
              "      <th>4751</th>\n",
              "      <td>2025-08-11T08:57:24Z</td>\n",
              "      <td>@prod.starlight</td>\n",
              "      <td>​@@JustAnOrd1naryMankok XXI gaada trailer sih?...</td>\n",
              "      <td>6</td>\n",
              "      <td>reply</td>\n",
              "    </tr>\n",
              "    <tr>\n",
              "      <th>4752</th>\n",
              "      <td>2025-08-15T09:15:28Z</td>\n",
              "      <td>@dikaalvin657</td>\n",
              "      <td>Kalau fulus&lt;br&gt;Pasti mulus&lt;br&gt;😂😂😂</td>\n",
              "      <td>2</td>\n",
              "      <td>reply</td>\n",
              "    </tr>\n",
              "    <tr>\n",
              "      <th>4753</th>\n",
              "      <td>2025-08-15T23:23:43Z</td>\n",
              "      <td>@matthewbrealey2026</td>\n",
              "      <td>@@prod.starlight masuk di XXI loh</td>\n",
              "      <td>0</td>\n",
              "      <td>reply</td>\n",
              "    </tr>\n",
              "    <tr>\n",
              "      <th>4754</th>\n",
              "      <td>2025-08-09T04:07:03Z</td>\n",
              "      <td>@robbycarnando4512</td>\n",
              "      <td>Pengisi suara ny spa aj yahhh...</td>\n",
              "      <td>1</td>\n",
              "      <td>comment</td>\n",
              "    </tr>\n",
              "    <tr>\n",
              "      <th>4755</th>\n",
              "      <td>2025-08-09T04:04:52Z</td>\n",
              "      <td>@GenerasimudaMuda</td>\n",
              "      <td>😂😂😂😅😅</td>\n",
              "      <td>2</td>\n",
              "      <td>comment</td>\n",
              "    </tr>\n",
              "  </tbody>\n",
              "</table>\n",
              "<p>4756 rows × 5 columns</p>\n",
              "</div>"
            ],
            "text/plain": [
              "               publishedAt                authorDisplayName  \\\n",
              "0     2025-08-28T08:45:34Z                    @SyafeQah1990   \n",
              "1     2025-08-28T08:29:35Z                  @HusnaNurul-m6h   \n",
              "2     2025-08-28T08:14:10Z                       @AlvinoAWP   \n",
              "3     2025-08-28T07:56:15Z               @arkanpradipta8934   \n",
              "4     2025-08-28T07:50:36Z  @galangadimaskhrisnaherlamb4053   \n",
              "...                    ...                              ...   \n",
              "4751  2025-08-11T08:57:24Z                  @prod.starlight   \n",
              "4752  2025-08-15T09:15:28Z                    @dikaalvin657   \n",
              "4753  2025-08-15T23:23:43Z              @matthewbrealey2026   \n",
              "4754  2025-08-09T04:07:03Z               @robbycarnando4512   \n",
              "4755  2025-08-09T04:04:52Z                @GenerasimudaMuda   \n",
              "\n",
              "                                            textDisplay  likeCount     type  \n",
              "0                       Cartoon ni masuk pawagam...??..          0  comment  \n",
              "1     ini yg katanya film mengeluarkan dan sampe mil...          0  comment  \n",
              "2                         Burung.nya.suara.monyet.cok🗿🗿          0  comment  \n",
              "3     <a href=\"https://www.youtube.com/watch?v=6jdG2...          0  comment  \n",
              "4         bahkan jurasik park 1993 lebih bagus dari ini          1  comment  \n",
              "...                                                 ...        ...      ...  \n",
              "4751  ​@@JustAnOrd1naryMankok XXI gaada trailer sih?...          6    reply  \n",
              "4752                  Kalau fulus<br>Pasti mulus<br>😂😂😂          2    reply  \n",
              "4753                  @@prod.starlight masuk di XXI loh          0    reply  \n",
              "4754                   Pengisi suara ny spa aj yahhh...          1  comment  \n",
              "4755                                              😂😂😂😅😅          2  comment  \n",
              "\n",
              "[4756 rows x 5 columns]"
            ]
          },
          "execution_count": 318,
          "metadata": {},
          "output_type": "execute_result"
        }
      ],
      "source": [
        "df"
      ]
    },
    {
      "cell_type": "code",
      "execution_count": 319,
      "metadata": {
        "id": "OUGSmgymIpq_"
      },
      "outputs": [],
      "source": [
        "df['publishedAt'] = pd.to_datetime(df['publishedAt'])\n",
        "\n",
        "\n",
        "# Pisahkan menjadi dua kolom: tanggal dan waktu\n",
        "df['tanggal'] = df['publishedAt'].dt.date\n",
        "df['jam'] = df['publishedAt'].dt.time"
      ]
    },
    {
      "cell_type": "code",
      "execution_count": 320,
      "metadata": {
        "colab": {
          "base_uri": "https://localhost:8080/"
        },
        "id": "hxLU9nGrICrM",
        "outputId": "17df12ca-2ef9-4388-cde6-e3e7091d483c"
      },
      "outputs": [
        {
          "name": "stdout",
          "output_type": "stream",
          "text": [
            "<class 'pandas.core.frame.DataFrame'>\n",
            "RangeIndex: 4756 entries, 0 to 4755\n",
            "Data columns (total 7 columns):\n",
            " #   Column             Non-Null Count  Dtype              \n",
            "---  ------             --------------  -----              \n",
            " 0   publishedAt        4756 non-null   datetime64[ns, UTC]\n",
            " 1   authorDisplayName  4756 non-null   object             \n",
            " 2   textDisplay        4756 non-null   object             \n",
            " 3   likeCount          4756 non-null   int64              \n",
            " 4   type               4756 non-null   object             \n",
            " 5   tanggal            4756 non-null   object             \n",
            " 6   jam                4756 non-null   object             \n",
            "dtypes: datetime64[ns, UTC](1), int64(1), object(5)\n",
            "memory usage: 260.2+ KB\n"
          ]
        }
      ],
      "source": [
        "df.info()"
      ]
    },
    {
      "cell_type": "code",
      "execution_count": 321,
      "metadata": {
        "id": "A-w99LEDMMYD"
      },
      "outputs": [],
      "source": [
        "# clean data kolom authordisplayname\n",
        "def clean_text(name):\n",
        "    name = re.sub(r'^@', '', name)\n",
        "    name = name.lower()\n",
        "    return name"
      ]
    },
    {
      "cell_type": "code",
      "execution_count": 322,
      "metadata": {
        "id": "qH45SKbSM16E"
      },
      "outputs": [],
      "source": [
        "df['username'] = df['authorDisplayName'].apply(clean_text)"
      ]
    },
    {
      "cell_type": "code",
      "execution_count": 323,
      "metadata": {
        "id": "w_nh7aC9I4-j"
      },
      "outputs": [],
      "source": [
        "df  = pd.DataFrame(df[['tanggal','jam','username','textDisplay','likeCount']])"
      ]
    },
    {
      "cell_type": "code",
      "execution_count": 324,
      "metadata": {
        "colab": {
          "base_uri": "https://localhost:8080/"
        },
        "id": "EPVOfCRYNI-s",
        "outputId": "8cec4970-7a38-41cf-a204-6ce78426289a"
      },
      "outputs": [
        {
          "name": "stdout",
          "output_type": "stream",
          "text": [
            "<class 'pandas.core.frame.DataFrame'>\n",
            "RangeIndex: 4756 entries, 0 to 4755\n",
            "Data columns (total 5 columns):\n",
            " #   Column       Non-Null Count  Dtype \n",
            "---  ------       --------------  ----- \n",
            " 0   tanggal      4756 non-null   object\n",
            " 1   jam          4756 non-null   object\n",
            " 2   username     4756 non-null   object\n",
            " 3   textDisplay  4756 non-null   object\n",
            " 4   likeCount    4756 non-null   int64 \n",
            "dtypes: int64(1), object(4)\n",
            "memory usage: 185.9+ KB\n"
          ]
        }
      ],
      "source": [
        "df.info()"
      ]
    },
    {
      "cell_type": "code",
      "execution_count": 325,
      "metadata": {
        "colab": {
          "base_uri": "https://localhost:8080/",
          "height": 424
        },
        "id": "fAhaZag7QCx_",
        "outputId": "8f04f33a-aec7-49be-ab06-79b3b94ef418"
      },
      "outputs": [
        {
          "data": {
            "application/vnd.microsoft.datawrangler.viewer.v0+json": {
              "columns": [
                {
                  "name": "index",
                  "rawType": "int64",
                  "type": "integer"
                },
                {
                  "name": "tanggal",
                  "rawType": "object",
                  "type": "unknown"
                },
                {
                  "name": "jam",
                  "rawType": "object",
                  "type": "unknown"
                },
                {
                  "name": "username",
                  "rawType": "object",
                  "type": "string"
                },
                {
                  "name": "textDisplay",
                  "rawType": "object",
                  "type": "string"
                },
                {
                  "name": "likeCount",
                  "rawType": "int64",
                  "type": "integer"
                }
              ],
              "ref": "d7bfa027-b764-4a89-a869-9f638d1c88f5",
              "rows": [
                [
                  "47",
                  "2025-08-27",
                  "14:08:06",
                  "yoiki_kolip",
                  "Bajet miliarran grafik 80 an",
                  "0"
                ],
                [
                  "234",
                  "2025-08-25",
                  "14:38:04",
                  "kutufilem",
                  "itu mau peramg apa gimana kok ada ak47 di gudang",
                  "0"
                ],
                [
                  "254",
                  "2025-08-25",
                  "12:24:33",
                  "viovirza",
                  "<a href=\"https://www.youtube.com/watch?v=6jdG2WQEgyI&amp;t=54\">0:54</a>",
                  "0"
                ],
                [
                  "323",
                  "2025-08-24",
                  "21:22:28",
                  "juragangabah-m8b",
                  "👎👎👎👎👎👎👎👎👎👎👎👎👎👎👎👎👎👎👎👎👎👎👎👎👎👎👎👎👎👎",
                  "0"
                ],
                [
                  "407",
                  "2025-08-24",
                  "07:08:29",
                  "supplyoverload",
                  "Burik",
                  "0"
                ],
                [
                  "453",
                  "2025-08-24",
                  "02:08:33",
                  "deireichgerman",
                  "<a href=\"https://www.youtube.com/watch?v=6jdG2WQEgyI&amp;t=99\">1:39</a> rambut tembus topi😹🗿",
                  "0"
                ],
                [
                  "454",
                  "2025-08-24",
                  "02:08:13",
                  "deireichgerman",
                  "<a href=\"https://www.youtube.com/watch?v=6jdG2WQEgyI&amp;t=99\">1:39</a> rambut tembus topi😹🗿",
                  "0"
                ],
                [
                  "551",
                  "2025-08-23",
                  "08:32:01",
                  "muhammadraihan-m9j",
                  "sakit mata jir",
                  "0"
                ],
                [
                  "755",
                  "2025-08-22",
                  "08:13:50",
                  "proyeksi2045",
                  "Sakit mata",
                  "0"
                ],
                [
                  "772",
                  "2025-08-22",
                  "06:53:17",
                  "rasyidannafi93",
                  "<a href=\"https://www.youtube.com/watch?v=6jdG2WQEgyI&amp;t=70\">1:10</a>",
                  "0"
                ],
                [
                  "839",
                  "2025-08-23",
                  "10:29:35",
                  "lintangayuyoenarmi7925",
                  "😂😂😂😂",
                  "0"
                ],
                [
                  "921",
                  "2025-08-21",
                  "10:55:08",
                  "emily.naomi10",
                  "Sampah",
                  "0"
                ],
                [
                  "995",
                  "2025-08-21",
                  "05:37:10",
                  "rama-q7v2k",
                  "Burik",
                  "0"
                ],
                [
                  "999",
                  "2025-08-21",
                  "05:13:47",
                  "kopkakopka2813",
                  "Kocak pastii yang ngebolehin masuk ke  bioskop di suap",
                  "0"
                ],
                [
                  "1041",
                  "2025-08-20",
                  "23:54:01",
                  "dhafirali9523",
                  "Animasi jelek",
                  "1"
                ],
                [
                  "1077",
                  "2025-08-20",
                  "16:06:06",
                  "safiratrs.k6627",
                  "Sampah",
                  "0"
                ],
                [
                  "1118",
                  "2025-08-20",
                  "13:04:32",
                  "karinaindah-zq5nx",
                  "Film tai",
                  "0"
                ],
                [
                  "1150",
                  "2025-08-20",
                  "11:50:15",
                  "sriwahyuni-ll7ox",
                  "SAMPAH",
                  "0"
                ],
                [
                  "1239",
                  "2025-08-20",
                  "06:14:18",
                  "dinanurmala-j3e",
                  "Burik",
                  "0"
                ],
                [
                  "1307",
                  "2025-08-20",
                  "02:10:00",
                  "mikazuchi04",
                  "😢",
                  "0"
                ],
                [
                  "1437",
                  "2025-08-19",
                  "12:52:06",
                  "aquosbebek",
                  "jelek",
                  "0"
                ],
                [
                  "1582",
                  "2025-08-19",
                  "06:18:53",
                  "rz_ichwnl",
                  "Sampah",
                  "0"
                ],
                [
                  "1617",
                  "2025-08-19",
                  "04:36:05",
                  "smecoach2860",
                  "Jelek",
                  "0"
                ],
                [
                  "1618",
                  "2025-08-19",
                  "04:34:23",
                  "dimasreza6371",
                  "Sampah",
                  "0"
                ],
                [
                  "1659",
                  "2025-08-19",
                  "02:23:56",
                  "varcelynn.5639",
                  "😢",
                  "0"
                ],
                [
                  "1699",
                  "2025-08-18",
                  "22:24:56",
                  "filsuf_bermata_cantik",
                  "BURIK",
                  "0"
                ],
                [
                  "1717",
                  "2025-08-18",
                  "18:32:36",
                  "tommymandalaputra-i1k",
                  "Syukur-syukur ada animasi buatan negeri sendiri, tetap support dan maju terus. Selamat dengan suksesnya pemerintah yang telah membuat animasinya, semoga Allah memberkahi pemerintah.",
                  "0"
                ],
                [
                  "1925",
                  "2025-08-18",
                  "08:50:34",
                  "dinah-w9w5l",
                  "Jelek",
                  "0"
                ],
                [
                  "1955",
                  "2025-08-18",
                  "07:37:22",
                  "andikafajarlezmana3712",
                  "mending nonton sopo jarwo",
                  "0"
                ],
                [
                  "1981",
                  "2025-08-18",
                  "07:03:27",
                  "putriananda-s9t",
                  "itu suara burung apa suara monyet <br><br><br><br>Film terjelek sepanjang masa",
                  "0"
                ],
                [
                  "1982",
                  "2025-08-18",
                  "07:03:10",
                  "putriananda-s9t",
                  "itu suara burung apa suara monyet <br><br><br><br>Film terjelek sepanjang masa",
                  "0"
                ],
                [
                  "2053",
                  "2025-08-18",
                  "04:50:37",
                  "yusnakids",
                  "<a href=\"https://www.youtube.com/watch?v=6jdG2WQEgyI&amp;t=71\">1:11</a>",
                  "0"
                ],
                [
                  "2054",
                  "2025-08-18",
                  "04:50:21",
                  "yusnakids",
                  "<a href=\"https://www.youtube.com/watch?v=6jdG2WQEgyI&amp;t=70\">1:10</a>",
                  "0"
                ],
                [
                  "2072",
                  "2025-08-18",
                  "04:16:52",
                  "wendil1918",
                  "jelek",
                  "0"
                ],
                [
                  "2073",
                  "2025-08-18",
                  "04:15:30",
                  "walmariaroseshina",
                  "Sampah",
                  "0"
                ],
                [
                  "2083",
                  "2025-08-18",
                  "03:49:29",
                  "anitacerindra",
                  "Film sampah",
                  "0"
                ],
                [
                  "2122",
                  "2025-08-18",
                  "02:19:19",
                  "kia.cihuyy",
                  "bikin sakit mata",
                  "0"
                ],
                [
                  "2178",
                  "2025-08-17",
                  "23:29:21",
                  "hiburantop-i9o",
                  "Parah",
                  "0"
                ],
                [
                  "2206",
                  "2025-08-17",
                  "19:24:04",
                  "abzezzz",
                  "Sakit mata liatnya",
                  "0"
                ],
                [
                  "2212",
                  "2025-08-18",
                  "15:19:08",
                  "alffh",
                  "😭",
                  "2"
                ],
                [
                  "2267",
                  "2025-08-17",
                  "15:38:36",
                  "agieansyah",
                  "Burik",
                  "0"
                ],
                [
                  "2305",
                  "2025-08-18",
                  "01:25:04",
                  "gh3zd",
                  "😭",
                  "0"
                ],
                [
                  "2310",
                  "2025-08-17",
                  "14:19:08",
                  "rahelnovik123",
                  "😭😭😭😭😭😭😭😭",
                  "0"
                ],
                [
                  "2311",
                  "2025-08-17",
                  "14:19:00",
                  "rahelnovik123",
                  "😭😭😭😭😭😭😭😭",
                  "0"
                ],
                [
                  "2415",
                  "2025-08-17",
                  "11:23:29",
                  "tomrufio",
                  "film animasi terburik yg pernah tayang di bioskop",
                  "0"
                ],
                [
                  "2416",
                  "2025-08-17",
                  "11:23:26",
                  "tomrufio",
                  "film animasi terburik yg pernah tayang di bioskop",
                  "0"
                ],
                [
                  "2417",
                  "2025-08-17",
                  "11:23:22",
                  "tomrufio",
                  "film animasi terburik yg pernah tayang di bioskop",
                  "0"
                ],
                [
                  "2555",
                  "2025-08-17",
                  "06:23:16",
                  "restunauvalaldari",
                  "Jelek",
                  "0"
                ],
                [
                  "2598",
                  "2025-08-17",
                  "04:09:04",
                  "zikrihakinen5605",
                  "SAMPAH",
                  "0"
                ],
                [
                  "2632",
                  "2025-08-17",
                  "02:54:16",
                  "kejuenac",
                  "jelek",
                  "0"
                ]
              ],
              "shape": {
                "columns": 5,
                "rows": 116
              }
            },
            "text/html": [
              "<div>\n",
              "<style scoped>\n",
              "    .dataframe tbody tr th:only-of-type {\n",
              "        vertical-align: middle;\n",
              "    }\n",
              "\n",
              "    .dataframe tbody tr th {\n",
              "        vertical-align: top;\n",
              "    }\n",
              "\n",
              "    .dataframe thead th {\n",
              "        text-align: right;\n",
              "    }\n",
              "</style>\n",
              "<table border=\"1\" class=\"dataframe\">\n",
              "  <thead>\n",
              "    <tr style=\"text-align: right;\">\n",
              "      <th></th>\n",
              "      <th>tanggal</th>\n",
              "      <th>jam</th>\n",
              "      <th>username</th>\n",
              "      <th>textDisplay</th>\n",
              "      <th>likeCount</th>\n",
              "    </tr>\n",
              "  </thead>\n",
              "  <tbody>\n",
              "    <tr>\n",
              "      <th>47</th>\n",
              "      <td>2025-08-27</td>\n",
              "      <td>14:08:06</td>\n",
              "      <td>yoiki_kolip</td>\n",
              "      <td>Bajet miliarran grafik 80 an</td>\n",
              "      <td>0</td>\n",
              "    </tr>\n",
              "    <tr>\n",
              "      <th>234</th>\n",
              "      <td>2025-08-25</td>\n",
              "      <td>14:38:04</td>\n",
              "      <td>kutufilem</td>\n",
              "      <td>itu mau peramg apa gimana kok ada ak47 di gudang</td>\n",
              "      <td>0</td>\n",
              "    </tr>\n",
              "    <tr>\n",
              "      <th>254</th>\n",
              "      <td>2025-08-25</td>\n",
              "      <td>12:24:33</td>\n",
              "      <td>viovirza</td>\n",
              "      <td>&lt;a href=\"https://www.youtube.com/watch?v=6jdG2...</td>\n",
              "      <td>0</td>\n",
              "    </tr>\n",
              "    <tr>\n",
              "      <th>323</th>\n",
              "      <td>2025-08-24</td>\n",
              "      <td>21:22:28</td>\n",
              "      <td>juragangabah-m8b</td>\n",
              "      <td>👎👎👎👎👎👎👎👎👎👎👎👎👎👎👎👎👎👎👎👎👎👎👎👎👎👎👎👎👎👎</td>\n",
              "      <td>0</td>\n",
              "    </tr>\n",
              "    <tr>\n",
              "      <th>407</th>\n",
              "      <td>2025-08-24</td>\n",
              "      <td>07:08:29</td>\n",
              "      <td>supplyoverload</td>\n",
              "      <td>Burik</td>\n",
              "      <td>0</td>\n",
              "    </tr>\n",
              "    <tr>\n",
              "      <th>...</th>\n",
              "      <td>...</td>\n",
              "      <td>...</td>\n",
              "      <td>...</td>\n",
              "      <td>...</td>\n",
              "      <td>...</td>\n",
              "    </tr>\n",
              "    <tr>\n",
              "      <th>4624</th>\n",
              "      <td>2025-08-11</td>\n",
              "      <td>06:20:58</td>\n",
              "      <td>iujenongg</td>\n",
              "      <td>Bakalan abis tiket bioskop nya nanti, mengalah...</td>\n",
              "      <td>1</td>\n",
              "    </tr>\n",
              "    <tr>\n",
              "      <th>4635</th>\n",
              "      <td>2025-08-16</td>\n",
              "      <td>10:33:31</td>\n",
              "      <td>azkaalfaizi-d4n</td>\n",
              "      <td>😂😂</td>\n",
              "      <td>0</td>\n",
              "    </tr>\n",
              "    <tr>\n",
              "      <th>4645</th>\n",
              "      <td>2025-08-10</td>\n",
              "      <td>05:28:21</td>\n",
              "      <td>dutsukodutsu6117</td>\n",
              "      <td>😂😂😂😂</td>\n",
              "      <td>0</td>\n",
              "    </tr>\n",
              "    <tr>\n",
              "      <th>4660</th>\n",
              "      <td>2025-08-09</td>\n",
              "      <td>23:18:36</td>\n",
              "      <td>agegabut</td>\n",
              "      <td>Wtf</td>\n",
              "      <td>0</td>\n",
              "    </tr>\n",
              "    <tr>\n",
              "      <th>4723</th>\n",
              "      <td>2025-08-14</td>\n",
              "      <td>11:51:19</td>\n",
              "      <td>kembaraisyanisa</td>\n",
              "      <td>Apakah bajetnya di ???</td>\n",
              "      <td>1</td>\n",
              "    </tr>\n",
              "  </tbody>\n",
              "</table>\n",
              "<p>116 rows × 5 columns</p>\n",
              "</div>"
            ],
            "text/plain": [
              "         tanggal       jam          username  \\\n",
              "47    2025-08-27  14:08:06       yoiki_kolip   \n",
              "234   2025-08-25  14:38:04         kutufilem   \n",
              "254   2025-08-25  12:24:33          viovirza   \n",
              "323   2025-08-24  21:22:28  juragangabah-m8b   \n",
              "407   2025-08-24  07:08:29    supplyoverload   \n",
              "...          ...       ...               ...   \n",
              "4624  2025-08-11  06:20:58         iujenongg   \n",
              "4635  2025-08-16  10:33:31   azkaalfaizi-d4n   \n",
              "4645  2025-08-10  05:28:21  dutsukodutsu6117   \n",
              "4660  2025-08-09  23:18:36          agegabut   \n",
              "4723  2025-08-14  11:51:19   kembaraisyanisa   \n",
              "\n",
              "                                            textDisplay  likeCount  \n",
              "47                         Bajet miliarran grafik 80 an          0  \n",
              "234    itu mau peramg apa gimana kok ada ak47 di gudang          0  \n",
              "254   <a href=\"https://www.youtube.com/watch?v=6jdG2...          0  \n",
              "323                      👎👎👎👎👎👎👎👎👎👎👎👎👎👎👎👎👎👎👎👎👎👎👎👎👎👎👎👎👎👎          0  \n",
              "407                                               Burik          0  \n",
              "...                                                 ...        ...  \n",
              "4624  Bakalan abis tiket bioskop nya nanti, mengalah...          1  \n",
              "4635                                                 😂😂          0  \n",
              "4645                                               😂😂😂😂          0  \n",
              "4660                                                Wtf          0  \n",
              "4723                             Apakah bajetnya di ???          1  \n",
              "\n",
              "[116 rows x 5 columns]"
            ]
          },
          "execution_count": 325,
          "metadata": {},
          "output_type": "execute_result"
        }
      ],
      "source": [
        "# melihat data duplicate\n",
        "df[df.duplicated(subset='textDisplay')]"
      ]
    },
    {
      "cell_type": "code",
      "execution_count": 326,
      "metadata": {
        "id": "DTcsZ-O8Punk"
      },
      "outputs": [],
      "source": [
        "df.drop_duplicates(subset =\"textDisplay\", keep = 'first', inplace=True)"
      ]
    },
    {
      "cell_type": "code",
      "execution_count": 327,
      "metadata": {
        "colab": {
          "base_uri": "https://localhost:8080/"
        },
        "id": "cIVuQBBk0JuW",
        "outputId": "cde6473a-1dd6-40be-ba7f-4b73fab24754"
      },
      "outputs": [
        {
          "data": {
            "text/plain": [
              "np.int64(0)"
            ]
          },
          "execution_count": 327,
          "metadata": {},
          "output_type": "execute_result"
        }
      ],
      "source": [
        "df.duplicated().sum()"
      ]
    },
    {
      "cell_type": "code",
      "execution_count": 328,
      "metadata": {
        "colab": {
          "base_uri": "https://localhost:8080/"
        },
        "id": "M73Uaga-QQVl",
        "outputId": "43f91969-d290-447b-adaa-7ba41b532075"
      },
      "outputs": [
        {
          "name": "stdout",
          "output_type": "stream",
          "text": [
            "<class 'pandas.core.frame.DataFrame'>\n",
            "Index: 4640 entries, 0 to 4755\n",
            "Data columns (total 5 columns):\n",
            " #   Column       Non-Null Count  Dtype \n",
            "---  ------       --------------  ----- \n",
            " 0   tanggal      4640 non-null   object\n",
            " 1   jam          4640 non-null   object\n",
            " 2   username     4640 non-null   object\n",
            " 3   textDisplay  4640 non-null   object\n",
            " 4   likeCount    4640 non-null   int64 \n",
            "dtypes: int64(1), object(4)\n",
            "memory usage: 217.5+ KB\n"
          ]
        }
      ],
      "source": [
        "df.info()"
      ]
    },
    {
      "cell_type": "code",
      "execution_count": 329,
      "metadata": {
        "colab": {
          "base_uri": "https://localhost:8080/",
          "height": 241
        },
        "id": "z6b2BNsnQSB1",
        "outputId": "e4105218-7684-4449-8eb7-62e48ccdf404"
      },
      "outputs": [
        {
          "data": {
            "application/vnd.microsoft.datawrangler.viewer.v0+json": {
              "columns": [
                {
                  "name": "index",
                  "rawType": "object",
                  "type": "string"
                },
                {
                  "name": "0",
                  "rawType": "int64",
                  "type": "integer"
                }
              ],
              "ref": "e2b1e102-d0d2-4068-9a6d-c9548e31366e",
              "rows": [
                [
                  "tanggal",
                  "0"
                ],
                [
                  "jam",
                  "0"
                ],
                [
                  "username",
                  "0"
                ],
                [
                  "textDisplay",
                  "0"
                ],
                [
                  "likeCount",
                  "0"
                ]
              ],
              "shape": {
                "columns": 1,
                "rows": 5
              }
            },
            "text/plain": [
              "tanggal        0\n",
              "jam            0\n",
              "username       0\n",
              "textDisplay    0\n",
              "likeCount      0\n",
              "dtype: int64"
            ]
          },
          "execution_count": 329,
          "metadata": {},
          "output_type": "execute_result"
        }
      ],
      "source": [
        "# mencari apakah ada data kosong\n",
        "df.isnull().sum()"
      ]
    },
    {
      "cell_type": "code",
      "execution_count": 330,
      "metadata": {
        "id": "AAPby9J3QekR"
      },
      "outputs": [],
      "source": [
        "text = ' '.join(df['textDisplay'])"
      ]
    },
    {
      "cell_type": "code",
      "execution_count": 331,
      "metadata": {
        "id": "lXXZNNKrRAzr"
      },
      "outputs": [],
      "source": [
        "from collections import Counter\n",
        "\n",
        "tokens = text.split()\n",
        "word_counts = Counter(tokens)"
      ]
    },
    {
      "cell_type": "code",
      "execution_count": 332,
      "metadata": {
        "id": "Aptm7SlBRPJT"
      },
      "outputs": [],
      "source": [
        "top_words = word_counts.most_common(10)\n",
        "word, count = zip(*top_words)"
      ]
    },
    {
      "cell_type": "code",
      "execution_count": 333,
      "metadata": {
        "colab": {
          "base_uri": "https://localhost:8080/",
          "height": 602
        },
        "id": "EAGPGuGmRV02",
        "outputId": "ebdb32c9-bbfb-4738-ce9e-567dac19bfa9"
      },
      "outputs": [
        {
          "data": {
            "image/png": "[encoded data removed]",
            "text/plain": [
              "<Figure size 1200x600 with 1 Axes>"
            ]
          },
          "metadata": {},
          "output_type": "display_data"
        }
      ],
      "source": [
        "colors = plt.cm.tab10(range(len(word)))\n",
        "\n",
        "plt.figure(figsize=(12, 6))\n",
        "bars = plt.bar(word, count, color=colors)\n",
        "plt.xlabel('Kata-kata yang sering muncul', fontsize=12, fontweight='bold')\n",
        "plt.ylabel('Jumlah', fontsize=12, fontweight='bold')\n",
        "plt.xticks(rotation=45, fontsize=10)\n",
        "plt.yticks(fontsize=10)\n",
        "plt.title('Top 10 Kata Terbanyak')\n",
        "\n",
        "for bar, num in zip(bars, count):\n",
        "    plt.text(bar.get_x() + bar.get_width() / 2, bar.get_height(), str(num), ha='center', va='bottom', fontsize=10)\n",
        "\n",
        "plt.show()"
      ]
    },
    {
      "cell_type": "code",
      "execution_count": 334,
      "metadata": {
        "colab": {
          "base_uri": "https://localhost:8080/",
          "height": 424
        },
        "id": "7JvBVkyqa1Hh",
        "outputId": "6e84242d-3a3c-4f0d-db4f-2ba3269bfadf"
      },
      "outputs": [
        {
          "data": {
            "application/vnd.microsoft.datawrangler.viewer.v0+json": {
              "columns": [
                {
                  "name": "index",
                  "rawType": "int64",
                  "type": "integer"
                },
                {
                  "name": "tanggal",
                  "rawType": "object",
                  "type": "unknown"
                },
                {
                  "name": "jam",
                  "rawType": "object",
                  "type": "unknown"
                },
                {
                  "name": "username",
                  "rawType": "object",
                  "type": "string"
                },
                {
                  "name": "textDisplay",
                  "rawType": "object",
                  "type": "string"
                },
                {
                  "name": "likeCount",
                  "rawType": "int64",
                  "type": "integer"
                }
              ],
              "ref": "dbcfbe9c-9864-417c-bc59-023d45352d77",
              "rows": [
                [
                  "0",
                  "2025-08-28",
                  "08:45:34",
                  "syafeqah1990",
                  "Cartoon ni masuk pawagam...??..",
                  "0"
                ],
                [
                  "1",
                  "2025-08-28",
                  "08:29:35",
                  "husnanurul-m6h",
                  "ini yg katanya film mengeluarkan dan sampe miliyaran😂😂 ini film apa game android karakter kaku garfik buriqq nonton filem ini serasa nonton game ank kecil",
                  "0"
                ],
                [
                  "2",
                  "2025-08-28",
                  "08:14:10",
                  "alvinoawp",
                  "Burung.nya.suara.monyet.cok🗿🗿",
                  "0"
                ],
                [
                  "3",
                  "2025-08-28",
                  "07:56:15",
                  "arkanpradipta8934",
                  "<a href=\"https://www.youtube.com/watch?v=6jdG2WQEgyI&amp;t=39\">0:39</a> apalah ada AMK M4",
                  "0"
                ],
                [
                  "4",
                  "2025-08-28",
                  "07:50:36",
                  "galangadimaskhrisnaherlamb4053",
                  "bahkan jurasik park 1993 lebih bagus dari ini",
                  "1"
                ],
                [
                  "5",
                  "2025-08-28",
                  "07:46:02",
                  "cloweystar",
                  "national disgrace. even a daz3d h*ntai is better than this 😂😂",
                  "0"
                ],
                [
                  "6",
                  "2025-08-28",
                  "07:32:15",
                  "haris1604-i3l",
                  "ASLI BURIQ - Lebih Bagus Grafik FREE FIRE 😁",
                  "0"
                ],
                [
                  "7",
                  "2025-08-28",
                  "07:01:48",
                  "afikakorizen",
                  "&quot;berhyenti Jan lanjyut&quot; suaranya slay amat",
                  "0"
                ],
                [
                  "8",
                  "2025-08-28",
                  "06:46:56",
                  "montero2iey",
                  "Tidakkan gua beli di pasar jrr pertualangannya sampai ke tempat rwhasia mending ambil emas 😂😂",
                  "0"
                ],
                [
                  "9",
                  "2025-08-28",
                  "06:35:57",
                  "ajengayuning17",
                  "Beta buka gudang benderanya hilank",
                  "1"
                ],
                [
                  "10",
                  "2025-08-28",
                  "06:33:27",
                  "ahmadyunus-wo7xc",
                  "so tuff gng",
                  "0"
                ],
                [
                  "11",
                  "2025-08-28",
                  "06:14:52",
                  "masitohmasitoh-yy6qm",
                  "Mata ku sakit grafik Majapahit",
                  "0"
                ],
                [
                  "12",
                  "2025-08-28",
                  "06:01:02",
                  "ripalmuhtar",
                  "tolong ini suara burung nya di ganti malah suara monyet",
                  "0"
                ],
                [
                  "13",
                  "2025-08-28",
                  "05:55:09",
                  "mahaakun2",
                  "Animasi dari  dark web ini 😂",
                  "0"
                ],
                [
                  "14",
                  "2025-08-28",
                  "05:43:40",
                  "alvino68-x",
                  "rudal aja aki aki nya",
                  "0"
                ],
                [
                  "15",
                  "2025-08-28",
                  "05:37:13",
                  "lyzael-k2l",
                  "animasi plagiat gini 🤣",
                  "0"
                ],
                [
                  "16",
                  "2025-08-28",
                  "05:02:11",
                  "gatauauuu",
                  "bagusan buatan konten kreyator you tube yg modal 67k",
                  "0"
                ],
                [
                  "17",
                  "2025-08-28",
                  "04:38:17",
                  "najlapinter7705",
                  "kalau bendera hilang iya beli 🤣🤣🤣",
                  "1"
                ],
                [
                  "18",
                  "2025-08-28",
                  "04:18:13",
                  "zainalarifin-zy5kh",
                  "Geli😂",
                  "0"
                ],
                [
                  "19",
                  "2025-08-28",
                  "03:39:25",
                  "winarsihnarsih7466",
                  "biaya elit animasi sulit🙏",
                  "0"
                ],
                [
                  "20",
                  "2025-08-28",
                  "03:24:30",
                  "rizkymaulana-f9e",
                  "Caracter game ini mah,grafik smoot",
                  "0"
                ],
                [
                  "21",
                  "2025-08-28",
                  "02:58:03",
                  "aleymahfud7302",
                  "Kan pas nyari bendera lewat pasar lah kenapa gk beli bendera di pasar mana nyari bendera nya sampe ke hutan hutan lagi",
                  "0"
                ],
                [
                  "22",
                  "2025-08-28",
                  "02:27:17",
                  "mariadacosta-r2s",
                  "&quot;Beta buka gudang anggarannya hilang&quot;",
                  "0"
                ],
                [
                  "23",
                  "2025-08-28",
                  "02:14:32",
                  "natananandra5929",
                  "Mayan nih buat hukuman koruptor",
                  "0"
                ],
                [
                  "24",
                  "2025-08-28",
                  "01:40:27",
                  "danil-i7g4j",
                  "ahh najisss nyeee",
                  "0"
                ],
                [
                  "25",
                  "2025-08-28",
                  "00:49:44",
                  "attar-v5",
                  "Kenapa sampe lewat hutan wak😹 <a href=\"https://www.youtube.com/watch?v=6jdG2WQEgyI&amp;t=122\">2:02</a>",
                  "0"
                ],
                [
                  "26",
                  "2025-08-27",
                  "23:33:38",
                  "yosafatwanda",
                  "Beta buka gudang bendera hilang",
                  "0"
                ],
                [
                  "27",
                  "2025-08-27",
                  "22:44:45",
                  "cecep_sirailfans",
                  "Keluarga somat aja grafik nya aja lebih bagus. Ini mah, animasi jaman orde lama🗿🔥",
                  "0"
                ],
                [
                  "28",
                  "2025-08-27",
                  "21:36:48",
                  "itzkitty_xd",
                  "&quot;Beta buka gudang anggarannya kok hilang&quot; 😂",
                  "0"
                ],
                [
                  "29",
                  "2025-08-27",
                  "21:21:45",
                  "along_fed",
                  "pehh, sgt terkesan pada aku. kerna bisa bikin aku galau juga esmosi terus. aku wakil warga Malaysia, sudah bangga dgn kartun sebelumnya(JUMBO) Alih2 karya yg ini👎😞😞🫣🫣. maaf andai k0mentar aku buatkn sahabat Indonesia marah pd aku. to, aku harus jujur agar karya seterusnya bisa saingi karya kartun Malaysia, bisa kalahkn kami juga lebih bagus, maka kami akn berusaha lebih agar bisa kalahkn semula karya Indonesia. bersaing secara sehat dan profesional, agar bisa maju kehadapannya. salam MALINDO DAMAI. ASSALAMUALAIKUM..",
                  "0"
                ],
                [
                  "30",
                  "2025-08-27",
                  "20:34:41",
                  "legamnyooooo17",
                  "ANIMASI TAI",
                  "0"
                ],
                [
                  "31",
                  "2025-08-27",
                  "20:15:23",
                  "dikarosi",
                  "ga layak tayang dan ditonton😌",
                  "0"
                ],
                [
                  "32",
                  "2025-08-27",
                  "20:14:24",
                  "dikarosi",
                  "diliat negara orang woi",
                  "0"
                ],
                [
                  "33",
                  "2025-08-27",
                  "20:13:32",
                  "dikarosi",
                  "gw yg nonton malu banget anjayyy😭",
                  "0"
                ],
                [
                  "34",
                  "2025-08-27",
                  "18:26:38",
                  "f1r3hunt3rz5",
                  "Oh, um.... Impressive.<br>- Malaysian",
                  "0"
                ],
                [
                  "35",
                  "2025-08-27",
                  "17:12:13",
                  "teguh35529",
                  "Ngelag😂",
                  "0"
                ],
                [
                  "36",
                  "2025-08-27",
                  "16:23:48",
                  "drmibrahimadamf",
                  "Saje nak tanya, dari Malaysia, korang hisap substance apa sebelum buat filem ni? Kongsi sikit",
                  "0"
                ],
                [
                  "37",
                  "2025-08-27",
                  "16:03:42",
                  "anandaaji571",
                  "Wah klo dijadikan nominasi kartun terbaik di dunia pasti menang ini. MenangGUNG malu.",
                  "0"
                ],
                [
                  "38",
                  "2025-08-27",
                  "15:38:21",
                  "irfan-sr6fp",
                  "Jenis narkoboy apa yg dikonsumsi yg membuat animasi ini 😂",
                  "0"
                ],
                [
                  "39",
                  "2025-08-27",
                  "15:04:46",
                  "hurrydotkom5339",
                  "jelek banget gilak",
                  "0"
                ],
                [
                  "40",
                  "2025-08-27",
                  "15:01:18",
                  "imasmaolani999",
                  "Sampah",
                  "0"
                ],
                [
                  "41",
                  "2025-08-27",
                  "14:35:48",
                  "faruq-l6w",
                  "Sakit cokk mata aku",
                  "0"
                ],
                [
                  "42",
                  "2025-08-27",
                  "14:35:30",
                  "dorala-z2e",
                  "Film apaan nih jelek banget burung kakatua suara monyet terus kenapa bendera disandera salah bendera apa? Itu tadi pas awal awal ada bendera banyak kenapa gak pakek itu aja terus ada senjata api saat cowok menyebrangi jembatan kayu kepala nya patah tiba tiba langsung nyemplung kolam terus anak baju merah tembus teman nya sendiri dan anak cewek jatuh itu kenapa gak ada rasa sakit harus nya muka nya sakit ini diam karton apa ini😢",
                  "0"
                ],
                [
                  "43",
                  "2025-08-27",
                  "14:24:50",
                  "hafizhnama-w4r",
                  "Bersyukur saja",
                  "0"
                ],
                [
                  "44",
                  "2025-08-27",
                  "14:15:13",
                  "alien_t9",
                  "S̺u̺r̺a̺ b̺u̺r̺u̺n̺g̺ s̺u̺r̺a̺ m̺o̺n̺y̺e̺t̺🤭🗿🗿",
                  "0"
                ],
                [
                  "45",
                  "2025-08-27",
                  "14:11:27",
                  "edwinprokmadani-k1g",
                  "Ini animasi atau Green screen doang burik bet!",
                  "1"
                ],
                [
                  "46",
                  "2025-08-27",
                  "14:08:19",
                  "yoiki_kolip",
                  "Bajet miliarran grafik 80 an",
                  "0"
                ],
                [
                  "48",
                  "2025-08-27",
                  "14:05:18",
                  "egyzul",
                  "Apakah ada ff one for all",
                  "0"
                ],
                [
                  "49",
                  "2025-08-27",
                  "13:49:41",
                  "akbarmaulana-di3xi",
                  "Jatuh di tengah pindahnya ke kiri",
                  "1"
                ],
                [
                  "50",
                  "2025-08-27",
                  "13:49:23",
                  "akbarmaulana-di3xi",
                  "Sejak kapan mencari bendera langsung ke India",
                  "2"
                ]
              ],
              "shape": {
                "columns": 5,
                "rows": 4640
              }
            },
            "text/html": [
              "<div>\n",
              "<style scoped>\n",
              "    .dataframe tbody tr th:only-of-type {\n",
              "        vertical-align: middle;\n",
              "    }\n",
              "\n",
              "    .dataframe tbody tr th {\n",
              "        vertical-align: top;\n",
              "    }\n",
              "\n",
              "    .dataframe thead th {\n",
              "        text-align: right;\n",
              "    }\n",
              "</style>\n",
              "<table border=\"1\" class=\"dataframe\">\n",
              "  <thead>\n",
              "    <tr style=\"text-align: right;\">\n",
              "      <th></th>\n",
              "      <th>tanggal</th>\n",
              "      <th>jam</th>\n",
              "      <th>username</th>\n",
              "      <th>textDisplay</th>\n",
              "      <th>likeCount</th>\n",
              "    </tr>\n",
              "  </thead>\n",
              "  <tbody>\n",
              "    <tr>\n",
              "      <th>0</th>\n",
              "      <td>2025-08-28</td>\n",
              "      <td>08:45:34</td>\n",
              "      <td>syafeqah1990</td>\n",
              "      <td>Cartoon ni masuk pawagam...??..</td>\n",
              "      <td>0</td>\n",
              "    </tr>\n",
              "    <tr>\n",
              "      <th>1</th>\n",
              "      <td>2025-08-28</td>\n",
              "      <td>08:29:35</td>\n",
              "      <td>husnanurul-m6h</td>\n",
              "      <td>ini yg katanya film mengeluarkan dan sampe mil...</td>\n",
              "      <td>0</td>\n",
              "    </tr>\n",
              "    <tr>\n",
              "      <th>2</th>\n",
              "      <td>2025-08-28</td>\n",
              "      <td>08:14:10</td>\n",
              "      <td>alvinoawp</td>\n",
              "      <td>Burung.nya.suara.monyet.cok🗿🗿</td>\n",
              "      <td>0</td>\n",
              "    </tr>\n",
              "    <tr>\n",
              "      <th>3</th>\n",
              "      <td>2025-08-28</td>\n",
              "      <td>07:56:15</td>\n",
              "      <td>arkanpradipta8934</td>\n",
              "      <td>&lt;a href=\"https://www.youtube.com/watch?v=6jdG2...</td>\n",
              "      <td>0</td>\n",
              "    </tr>\n",
              "    <tr>\n",
              "      <th>4</th>\n",
              "      <td>2025-08-28</td>\n",
              "      <td>07:50:36</td>\n",
              "      <td>galangadimaskhrisnaherlamb4053</td>\n",
              "      <td>bahkan jurasik park 1993 lebih bagus dari ini</td>\n",
              "      <td>1</td>\n",
              "    </tr>\n",
              "    <tr>\n",
              "      <th>...</th>\n",
              "      <td>...</td>\n",
              "      <td>...</td>\n",
              "      <td>...</td>\n",
              "      <td>...</td>\n",
              "      <td>...</td>\n",
              "    </tr>\n",
              "    <tr>\n",
              "      <th>4751</th>\n",
              "      <td>2025-08-11</td>\n",
              "      <td>08:57:24</td>\n",
              "      <td>prod.starlight</td>\n",
              "      <td>​@@JustAnOrd1naryMankok XXI gaada trailer sih?...</td>\n",
              "      <td>6</td>\n",
              "    </tr>\n",
              "    <tr>\n",
              "      <th>4752</th>\n",
              "      <td>2025-08-15</td>\n",
              "      <td>09:15:28</td>\n",
              "      <td>dikaalvin657</td>\n",
              "      <td>Kalau fulus&lt;br&gt;Pasti mulus&lt;br&gt;😂😂😂</td>\n",
              "      <td>2</td>\n",
              "    </tr>\n",
              "    <tr>\n",
              "      <th>4753</th>\n",
              "      <td>2025-08-15</td>\n",
              "      <td>23:23:43</td>\n",
              "      <td>matthewbrealey2026</td>\n",
              "      <td>@@prod.starlight masuk di XXI loh</td>\n",
              "      <td>0</td>\n",
              "    </tr>\n",
              "    <tr>\n",
              "      <th>4754</th>\n",
              "      <td>2025-08-09</td>\n",
              "      <td>04:07:03</td>\n",
              "      <td>robbycarnando4512</td>\n",
              "      <td>Pengisi suara ny spa aj yahhh...</td>\n",
              "      <td>1</td>\n",
              "    </tr>\n",
              "    <tr>\n",
              "      <th>4755</th>\n",
              "      <td>2025-08-09</td>\n",
              "      <td>04:04:52</td>\n",
              "      <td>generasimudamuda</td>\n",
              "      <td>😂😂😂😅😅</td>\n",
              "      <td>2</td>\n",
              "    </tr>\n",
              "  </tbody>\n",
              "</table>\n",
              "<p>4640 rows × 5 columns</p>\n",
              "</div>"
            ],
            "text/plain": [
              "         tanggal       jam                        username  \\\n",
              "0     2025-08-28  08:45:34                    syafeqah1990   \n",
              "1     2025-08-28  08:29:35                  husnanurul-m6h   \n",
              "2     2025-08-28  08:14:10                       alvinoawp   \n",
              "3     2025-08-28  07:56:15               arkanpradipta8934   \n",
              "4     2025-08-28  07:50:36  galangadimaskhrisnaherlamb4053   \n",
              "...          ...       ...                             ...   \n",
              "4751  2025-08-11  08:57:24                  prod.starlight   \n",
              "4752  2025-08-15  09:15:28                    dikaalvin657   \n",
              "4753  2025-08-15  23:23:43              matthewbrealey2026   \n",
              "4754  2025-08-09  04:07:03               robbycarnando4512   \n",
              "4755  2025-08-09  04:04:52                generasimudamuda   \n",
              "\n",
              "                                            textDisplay  likeCount  \n",
              "0                       Cartoon ni masuk pawagam...??..          0  \n",
              "1     ini yg katanya film mengeluarkan dan sampe mil...          0  \n",
              "2                         Burung.nya.suara.monyet.cok🗿🗿          0  \n",
              "3     <a href=\"https://www.youtube.com/watch?v=6jdG2...          0  \n",
              "4         bahkan jurasik park 1993 lebih bagus dari ini          1  \n",
              "...                                                 ...        ...  \n",
              "4751  ​@@JustAnOrd1naryMankok XXI gaada trailer sih?...          6  \n",
              "4752                  Kalau fulus<br>Pasti mulus<br>😂😂😂          2  \n",
              "4753                  @@prod.starlight masuk di XXI loh          0  \n",
              "4754                   Pengisi suara ny spa aj yahhh...          1  \n",
              "4755                                              😂😂😂😅😅          2  \n",
              "\n",
              "[4640 rows x 5 columns]"
            ]
          },
          "execution_count": 334,
          "metadata": {},
          "output_type": "execute_result"
        }
      ],
      "source": [
        "df"
      ]
    },
    {
      "cell_type": "code",
      "execution_count": 335,
      "metadata": {
        "id": "k3Jz_wpoSjah"
      },
      "outputs": [],
      "source": [
        "def remove_html(tweet):\n",
        "    if tweet is not None and isinstance(tweet, str):\n",
        "        # hapus tag html\n",
        "        html_pattern = re.compile(r'<.*?>')\n",
        "        cleaned_tweet = html_pattern.sub(r'', tweet)\n",
        "\n",
        "        # Langkah 2: Dekode entitas HTML (misalnya &quot; menjadi \")\n",
        "        cleaned_tweet = html.unescape(cleaned_tweet)\n",
        "\n",
        "        # Ganti tanda titik dengan spasi\n",
        "        cleaned_tweet = cleaned_tweet.replace('.', ' ')\n",
        "\n",
        "        # Hapus tanda baca lainnya\n",
        "        punctuation_pattern = re.compile(f\"[{re.escape(string.punctuation)}]\")\n",
        "        cleaned_tweet = punctuation_pattern.sub(r'', cleaned_tweet)\n",
        "\n",
        "        return cleaned_tweet\n",
        "    else:\n",
        "        return tweet"
      ]
    },
    {
      "cell_type": "code",
      "execution_count": 336,
      "metadata": {
        "id": "uBIo-3OHTAB2"
      },
      "outputs": [],
      "source": [
        "# fungsi menghapus emoji\n",
        "def remove_emoji(tweet):\n",
        "    if tweet is not None and isinstance(tweet, str):\n",
        "        emoji_pattern = re.compile(\n",
        "            \"[\"\n",
        "            \"\\U0001F600-\\U0001F64F\"  # emoticons\n",
        "            \"\\U0001F300-\\U0001F5FF\"  # symbols & pictographs\n",
        "            \"\\U0001F680-\\U0001F6FF\"  # transport & map symbols\n",
        "            \"\\U0001F700-\\U0001F77F\"  # alchemical symbols\n",
        "            \"\\U0001F780-\\U0001F7FF\"  # Geometric Shapes Extended\n",
        "            \"\\U0001F800-\\U0001F8FF\"  # Supplemental Arrows-C\n",
        "            \"\\U0001F900-\\U0001F9FF\"  # Supplemental Symbols and Pictographs\n",
        "            \"\\U0001FA00-\\U0001FA6F\"  # Chess Symbols\n",
        "            \"\\U0001FA70-\\U0001FAFF\"  # Symbols and Pictographs Extended-A\n",
        "            \"\\U00002702-\\U000027B0\"  # Additional emoticons (Dingbats)\n",
        "            \"\\U000024C2-\\U0001F251\"  # Miscellaneous Symbols and Pictographs\n",
        "            \"\\U0001F1E0-\\U0001F1FF\"  # flags (iOS)\n",
        "            \"]+\", flags=re.UNICODE)\n",
        "\n",
        "        return emoji_pattern.sub(r'', tweet)\n",
        "    else:\n",
        "        return tweet"
      ]
    },
    {
      "cell_type": "code",
      "execution_count": 337,
      "metadata": {
        "id": "i4Due3clUDs4"
      },
      "outputs": [],
      "source": [
        "# fungsi menghapus simbol\n",
        "def remove_symbols(tweet):\n",
        "  if tweet is not None and isinstance(tweet, str):\n",
        "      tweet = re.sub(r'[^a-zA-Z0-0\\s]', ' ', tweet)\n",
        "  return tweet"
      ]
    },
    {
      "cell_type": "code",
      "execution_count": 338,
      "metadata": {
        "id": "VoEXIS2PUZ4_"
      },
      "outputs": [],
      "source": [
        "# fungsi menghapus angka\n",
        "def remove_number(tweet):\n",
        "  if tweet is not None and isinstance(tweet, str):\n",
        "    tweet = re.sub(r'\\d+', '', tweet)\n",
        "  return tweet"
      ]
    },
    {
      "cell_type": "code",
      "execution_count": 339,
      "metadata": {
        "id": "07JAIjYykhPi"
      },
      "outputs": [],
      "source": [
        "# hapus hastag\n",
        "def hapus_hastag(teks):\n",
        "  return re.sub(r'#\\w+', '', teks).strip()"
      ]
    },
    {
      "cell_type": "code",
      "execution_count": 340,
      "metadata": {
        "colab": {
          "base_uri": "https://localhost:8080/",
          "height": 363
        },
        "id": "UDwqFBsIUe__",
        "outputId": "3ba3a3c9-1c1a-4967-a3fe-c2bf51f9523f"
      },
      "outputs": [
        {
          "data": {
            "application/vnd.microsoft.datawrangler.viewer.v0+json": {
              "columns": [
                {
                  "name": "index",
                  "rawType": "int64",
                  "type": "integer"
                },
                {
                  "name": "tanggal",
                  "rawType": "object",
                  "type": "unknown"
                },
                {
                  "name": "jam",
                  "rawType": "object",
                  "type": "unknown"
                },
                {
                  "name": "username",
                  "rawType": "object",
                  "type": "string"
                },
                {
                  "name": "textDisplay",
                  "rawType": "object",
                  "type": "string"
                },
                {
                  "name": "likeCount",
                  "rawType": "int64",
                  "type": "integer"
                },
                {
                  "name": "komentarBaru",
                  "rawType": "object",
                  "type": "string"
                }
              ],
              "ref": "800c40f9-cfd6-4448-bd47-dcb9c70a1c7b",
              "rows": [
                [
                  "0",
                  "2025-08-28",
                  "08:45:34",
                  "syafeqah1990",
                  "Cartoon ni masuk pawagam...??..",
                  "0",
                  "Cartoon ni masuk pawagam"
                ],
                [
                  "1",
                  "2025-08-28",
                  "08:29:35",
                  "husnanurul-m6h",
                  "ini yg katanya film mengeluarkan dan sampe miliyaran😂😂 ini film apa game android karakter kaku garfik buriqq nonton filem ini serasa nonton game ank kecil",
                  "0",
                  "ini yg katanya film mengeluarkan dan sampe miliyaran ini film apa game android karakter kaku garfik buriqq nonton filem ini serasa nonton game ank kecil"
                ],
                [
                  "2",
                  "2025-08-28",
                  "08:14:10",
                  "alvinoawp",
                  "Burung.nya.suara.monyet.cok🗿🗿",
                  "0",
                  "Burung nya suara monyet cok"
                ],
                [
                  "3",
                  "2025-08-28",
                  "07:56:15",
                  "arkanpradipta8934",
                  "<a href=\"https://www.youtube.com/watch?v=6jdG2WQEgyI&amp;t=39\">0:39</a> apalah ada AMK M4",
                  "0",
                  "apalah ada AMK M"
                ],
                [
                  "4",
                  "2025-08-28",
                  "07:50:36",
                  "galangadimaskhrisnaherlamb4053",
                  "bahkan jurasik park 1993 lebih bagus dari ini",
                  "1",
                  "bahkan jurasik park      lebih bagus dari ini"
                ],
                [
                  "5",
                  "2025-08-28",
                  "07:46:02",
                  "cloweystar",
                  "national disgrace. even a daz3d h*ntai is better than this 😂😂",
                  "0",
                  "national disgrace  even a daz d hntai is better than this"
                ],
                [
                  "6",
                  "2025-08-28",
                  "07:32:15",
                  "haris1604-i3l",
                  "ASLI BURIQ - Lebih Bagus Grafik FREE FIRE 😁",
                  "0",
                  "ASLI BURIQ  Lebih Bagus Grafik FREE FIRE"
                ],
                [
                  "7",
                  "2025-08-28",
                  "07:01:48",
                  "afikakorizen",
                  "&quot;berhyenti Jan lanjyut&quot; suaranya slay amat",
                  "0",
                  "berhyenti Jan lanjyut suaranya slay amat"
                ],
                [
                  "8",
                  "2025-08-28",
                  "06:46:56",
                  "montero2iey",
                  "Tidakkan gua beli di pasar jrr pertualangannya sampai ke tempat rwhasia mending ambil emas 😂😂",
                  "0",
                  "Tidakkan gua beli di pasar jrr pertualangannya sampai ke tempat rwhasia mending ambil emas"
                ],
                [
                  "9",
                  "2025-08-28",
                  "06:35:57",
                  "ajengayuning17",
                  "Beta buka gudang benderanya hilank",
                  "1",
                  "Beta buka gudang benderanya hilank"
                ]
              ],
              "shape": {
                "columns": 6,
                "rows": 10
              }
            },
            "text/html": [
              "<div>\n",
              "<style scoped>\n",
              "    .dataframe tbody tr th:only-of-type {\n",
              "        vertical-align: middle;\n",
              "    }\n",
              "\n",
              "    .dataframe tbody tr th {\n",
              "        vertical-align: top;\n",
              "    }\n",
              "\n",
              "    .dataframe thead th {\n",
              "        text-align: right;\n",
              "    }\n",
              "</style>\n",
              "<table border=\"1\" class=\"dataframe\">\n",
              "  <thead>\n",
              "    <tr style=\"text-align: right;\">\n",
              "      <th></th>\n",
              "      <th>tanggal</th>\n",
              "      <th>jam</th>\n",
              "      <th>username</th>\n",
              "      <th>textDisplay</th>\n",
              "      <th>likeCount</th>\n",
              "      <th>komentarBaru</th>\n",
              "    </tr>\n",
              "  </thead>\n",
              "  <tbody>\n",
              "    <tr>\n",
              "      <th>0</th>\n",
              "      <td>2025-08-28</td>\n",
              "      <td>08:45:34</td>\n",
              "      <td>syafeqah1990</td>\n",
              "      <td>Cartoon ni masuk pawagam...??..</td>\n",
              "      <td>0</td>\n",
              "      <td>Cartoon ni masuk pawagam</td>\n",
              "    </tr>\n",
              "    <tr>\n",
              "      <th>1</th>\n",
              "      <td>2025-08-28</td>\n",
              "      <td>08:29:35</td>\n",
              "      <td>husnanurul-m6h</td>\n",
              "      <td>ini yg katanya film mengeluarkan dan sampe mil...</td>\n",
              "      <td>0</td>\n",
              "      <td>ini yg katanya film mengeluarkan dan sampe mil...</td>\n",
              "    </tr>\n",
              "    <tr>\n",
              "      <th>2</th>\n",
              "      <td>2025-08-28</td>\n",
              "      <td>08:14:10</td>\n",
              "      <td>alvinoawp</td>\n",
              "      <td>Burung.nya.suara.monyet.cok🗿🗿</td>\n",
              "      <td>0</td>\n",
              "      <td>Burung nya suara monyet cok</td>\n",
              "    </tr>\n",
              "    <tr>\n",
              "      <th>3</th>\n",
              "      <td>2025-08-28</td>\n",
              "      <td>07:56:15</td>\n",
              "      <td>arkanpradipta8934</td>\n",
              "      <td>&lt;a href=\"https://www.youtube.com/watch?v=6jdG2...</td>\n",
              "      <td>0</td>\n",
              "      <td>apalah ada AMK M</td>\n",
              "    </tr>\n",
              "    <tr>\n",
              "      <th>4</th>\n",
              "      <td>2025-08-28</td>\n",
              "      <td>07:50:36</td>\n",
              "      <td>galangadimaskhrisnaherlamb4053</td>\n",
              "      <td>bahkan jurasik park 1993 lebih bagus dari ini</td>\n",
              "      <td>1</td>\n",
              "      <td>bahkan jurasik park      lebih bagus dari ini</td>\n",
              "    </tr>\n",
              "    <tr>\n",
              "      <th>5</th>\n",
              "      <td>2025-08-28</td>\n",
              "      <td>07:46:02</td>\n",
              "      <td>cloweystar</td>\n",
              "      <td>national disgrace. even a daz3d h*ntai is bett...</td>\n",
              "      <td>0</td>\n",
              "      <td>national disgrace  even a daz d hntai is bette...</td>\n",
              "    </tr>\n",
              "    <tr>\n",
              "      <th>6</th>\n",
              "      <td>2025-08-28</td>\n",
              "      <td>07:32:15</td>\n",
              "      <td>haris1604-i3l</td>\n",
              "      <td>ASLI BURIQ - Lebih Bagus Grafik FREE FIRE 😁</td>\n",
              "      <td>0</td>\n",
              "      <td>ASLI BURIQ  Lebih Bagus Grafik FREE FIRE</td>\n",
              "    </tr>\n",
              "    <tr>\n",
              "      <th>7</th>\n",
              "      <td>2025-08-28</td>\n",
              "      <td>07:01:48</td>\n",
              "      <td>afikakorizen</td>\n",
              "      <td>&amp;quot;berhyenti Jan lanjyut&amp;quot; suaranya sla...</td>\n",
              "      <td>0</td>\n",
              "      <td>berhyenti Jan lanjyut suaranya slay amat</td>\n",
              "    </tr>\n",
              "    <tr>\n",
              "      <th>8</th>\n",
              "      <td>2025-08-28</td>\n",
              "      <td>06:46:56</td>\n",
              "      <td>montero2iey</td>\n",
              "      <td>Tidakkan gua beli di pasar jrr pertualangannya...</td>\n",
              "      <td>0</td>\n",
              "      <td>Tidakkan gua beli di pasar jrr pertualangannya...</td>\n",
              "    </tr>\n",
              "    <tr>\n",
              "      <th>9</th>\n",
              "      <td>2025-08-28</td>\n",
              "      <td>06:35:57</td>\n",
              "      <td>ajengayuning17</td>\n",
              "      <td>Beta buka gudang benderanya hilank</td>\n",
              "      <td>1</td>\n",
              "      <td>Beta buka gudang benderanya hilank</td>\n",
              "    </tr>\n",
              "  </tbody>\n",
              "</table>\n",
              "</div>"
            ],
            "text/plain": [
              "      tanggal       jam                        username  \\\n",
              "0  2025-08-28  08:45:34                    syafeqah1990   \n",
              "1  2025-08-28  08:29:35                  husnanurul-m6h   \n",
              "2  2025-08-28  08:14:10                       alvinoawp   \n",
              "3  2025-08-28  07:56:15               arkanpradipta8934   \n",
              "4  2025-08-28  07:50:36  galangadimaskhrisnaherlamb4053   \n",
              "5  2025-08-28  07:46:02                      cloweystar   \n",
              "6  2025-08-28  07:32:15                   haris1604-i3l   \n",
              "7  2025-08-28  07:01:48                    afikakorizen   \n",
              "8  2025-08-28  06:46:56                     montero2iey   \n",
              "9  2025-08-28  06:35:57                  ajengayuning17   \n",
              "\n",
              "                                         textDisplay  likeCount  \\\n",
              "0                    Cartoon ni masuk pawagam...??..          0   \n",
              "1  ini yg katanya film mengeluarkan dan sampe mil...          0   \n",
              "2                      Burung.nya.suara.monyet.cok🗿🗿          0   \n",
              "3  <a href=\"https://www.youtube.com/watch?v=6jdG2...          0   \n",
              "4      bahkan jurasik park 1993 lebih bagus dari ini          1   \n",
              "5  national disgrace. even a daz3d h*ntai is bett...          0   \n",
              "6        ASLI BURIQ - Lebih Bagus Grafik FREE FIRE 😁          0   \n",
              "7  &quot;berhyenti Jan lanjyut&quot; suaranya sla...          0   \n",
              "8  Tidakkan gua beli di pasar jrr pertualangannya...          0   \n",
              "9                 Beta buka gudang benderanya hilank          1   \n",
              "\n",
              "                                        komentarBaru  \n",
              "0                           Cartoon ni masuk pawagam  \n",
              "1  ini yg katanya film mengeluarkan dan sampe mil...  \n",
              "2                        Burung nya suara monyet cok  \n",
              "3                                   apalah ada AMK M  \n",
              "4      bahkan jurasik park      lebih bagus dari ini  \n",
              "5  national disgrace  even a daz d hntai is bette...  \n",
              "6           ASLI BURIQ  Lebih Bagus Grafik FREE FIRE  \n",
              "7           berhyenti Jan lanjyut suaranya slay amat  \n",
              "8  Tidakkan gua beli di pasar jrr pertualangannya...  \n",
              "9                 Beta buka gudang benderanya hilank  "
            ]
          },
          "execution_count": 340,
          "metadata": {},
          "output_type": "execute_result"
        }
      ],
      "source": [
        "\n",
        "df['komentarBaru'] = df['textDisplay'].apply(lambda x: remove_html(x))\n",
        "df['komentarBaru'] = df['komentarBaru'].apply(lambda x: remove_emoji(x))\n",
        "df['komentarBaru'] = df['komentarBaru'].apply(lambda x: remove_symbols(x))\n",
        "df['komentarBaru'] = df['komentarBaru'].apply(lambda x: remove_number(x))\n",
        "df['komentarBaru'] = df['komentarBaru'].apply(lambda x: hapus_hastag(x))\n",
        "# df['komentarBaru'] = df['komentarBaru'].apply(remove_number)\n",
        "\n",
        "df.head(10)"
      ]
    },
    {
      "cell_type": "code",
      "execution_count": 341,
      "metadata": {
        "id": "fK7vCh2XVRUN"
      },
      "outputs": [],
      "source": [
        "# menghitung"
      ]
    },
    {
      "cell_type": "code",
      "execution_count": 342,
      "metadata": {
        "colab": {
          "base_uri": "https://localhost:8080/",
          "height": 363
        },
        "id": "B-Qp7RgjVRLW",
        "outputId": "8f8c0469-6837-4ac3-e27f-ec5247c134b0"
      },
      "outputs": [
        {
          "data": {
            "application/vnd.microsoft.datawrangler.viewer.v0+json": {
              "columns": [
                {
                  "name": "index",
                  "rawType": "int64",
                  "type": "integer"
                },
                {
                  "name": "tanggal",
                  "rawType": "object",
                  "type": "unknown"
                },
                {
                  "name": "jam",
                  "rawType": "object",
                  "type": "unknown"
                },
                {
                  "name": "username",
                  "rawType": "object",
                  "type": "string"
                },
                {
                  "name": "textDisplay",
                  "rawType": "object",
                  "type": "string"
                },
                {
                  "name": "likeCount",
                  "rawType": "int64",
                  "type": "integer"
                },
                {
                  "name": "komentarBaru",
                  "rawType": "object",
                  "type": "string"
                },
                {
                  "name": "case_folding",
                  "rawType": "object",
                  "type": "string"
                }
              ],
              "ref": "5edb00b7-5f61-4b2e-a7c2-9665dc2d6575",
              "rows": [
                [
                  "0",
                  "2025-08-28",
                  "08:45:34",
                  "syafeqah1990",
                  "Cartoon ni masuk pawagam...??..",
                  "0",
                  "Cartoon ni masuk pawagam",
                  "cartoon ni masuk pawagam"
                ],
                [
                  "1",
                  "2025-08-28",
                  "08:29:35",
                  "husnanurul-m6h",
                  "ini yg katanya film mengeluarkan dan sampe miliyaran😂😂 ini film apa game android karakter kaku garfik buriqq nonton filem ini serasa nonton game ank kecil",
                  "0",
                  "ini yg katanya film mengeluarkan dan sampe miliyaran ini film apa game android karakter kaku garfik buriqq nonton filem ini serasa nonton game ank kecil",
                  "ini yg katanya film mengeluarkan dan sampe miliyaran ini film apa game android karakter kaku garfik buriqq nonton filem ini serasa nonton game ank kecil"
                ],
                [
                  "2",
                  "2025-08-28",
                  "08:14:10",
                  "alvinoawp",
                  "Burung.nya.suara.monyet.cok🗿🗿",
                  "0",
                  "Burung nya suara monyet cok",
                  "burung nya suara monyet cok"
                ],
                [
                  "3",
                  "2025-08-28",
                  "07:56:15",
                  "arkanpradipta8934",
                  "<a href=\"https://www.youtube.com/watch?v=6jdG2WQEgyI&amp;t=39\">0:39</a> apalah ada AMK M4",
                  "0",
                  "apalah ada AMK M",
                  "apalah ada amk m"
                ],
                [
                  "4",
                  "2025-08-28",
                  "07:50:36",
                  "galangadimaskhrisnaherlamb4053",
                  "bahkan jurasik park 1993 lebih bagus dari ini",
                  "1",
                  "bahkan jurasik park      lebih bagus dari ini",
                  "bahkan jurasik park      lebih bagus dari ini"
                ],
                [
                  "5",
                  "2025-08-28",
                  "07:46:02",
                  "cloweystar",
                  "national disgrace. even a daz3d h*ntai is better than this 😂😂",
                  "0",
                  "national disgrace  even a daz d hntai is better than this",
                  "national disgrace  even a daz d hntai is better than this"
                ],
                [
                  "6",
                  "2025-08-28",
                  "07:32:15",
                  "haris1604-i3l",
                  "ASLI BURIQ - Lebih Bagus Grafik FREE FIRE 😁",
                  "0",
                  "ASLI BURIQ  Lebih Bagus Grafik FREE FIRE",
                  "asli buriq  lebih bagus grafik free fire"
                ],
                [
                  "7",
                  "2025-08-28",
                  "07:01:48",
                  "afikakorizen",
                  "&quot;berhyenti Jan lanjyut&quot; suaranya slay amat",
                  "0",
                  "berhyenti Jan lanjyut suaranya slay amat",
                  "berhyenti jan lanjyut suaranya slay amat"
                ],
                [
                  "8",
                  "2025-08-28",
                  "06:46:56",
                  "montero2iey",
                  "Tidakkan gua beli di pasar jrr pertualangannya sampai ke tempat rwhasia mending ambil emas 😂😂",
                  "0",
                  "Tidakkan gua beli di pasar jrr pertualangannya sampai ke tempat rwhasia mending ambil emas",
                  "tidakkan gua beli di pasar jrr pertualangannya sampai ke tempat rwhasia mending ambil emas"
                ],
                [
                  "9",
                  "2025-08-28",
                  "06:35:57",
                  "ajengayuning17",
                  "Beta buka gudang benderanya hilank",
                  "1",
                  "Beta buka gudang benderanya hilank",
                  "beta buka gudang benderanya hilank"
                ]
              ],
              "shape": {
                "columns": 7,
                "rows": 10
              }
            },
            "text/html": [
              "<div>\n",
              "<style scoped>\n",
              "    .dataframe tbody tr th:only-of-type {\n",
              "        vertical-align: middle;\n",
              "    }\n",
              "\n",
              "    .dataframe tbody tr th {\n",
              "        vertical-align: top;\n",
              "    }\n",
              "\n",
              "    .dataframe thead th {\n",
              "        text-align: right;\n",
              "    }\n",
              "</style>\n",
              "<table border=\"1\" class=\"dataframe\">\n",
              "  <thead>\n",
              "    <tr style=\"text-align: right;\">\n",
              "      <th></th>\n",
              "      <th>tanggal</th>\n",
              "      <th>jam</th>\n",
              "      <th>username</th>\n",
              "      <th>textDisplay</th>\n",
              "      <th>likeCount</th>\n",
              "      <th>komentarBaru</th>\n",
              "      <th>case_folding</th>\n",
              "    </tr>\n",
              "  </thead>\n",
              "  <tbody>\n",
              "    <tr>\n",
              "      <th>0</th>\n",
              "      <td>2025-08-28</td>\n",
              "      <td>08:45:34</td>\n",
              "      <td>syafeqah1990</td>\n",
              "      <td>Cartoon ni masuk pawagam...??..</td>\n",
              "      <td>0</td>\n",
              "      <td>Cartoon ni masuk pawagam</td>\n",
              "      <td>cartoon ni masuk pawagam</td>\n",
              "    </tr>\n",
              "    <tr>\n",
              "      <th>1</th>\n",
              "      <td>2025-08-28</td>\n",
              "      <td>08:29:35</td>\n",
              "      <td>husnanurul-m6h</td>\n",
              "      <td>ini yg katanya film mengeluarkan dan sampe mil...</td>\n",
              "      <td>0</td>\n",
              "      <td>ini yg katanya film mengeluarkan dan sampe mil...</td>\n",
              "      <td>ini yg katanya film mengeluarkan dan sampe mil...</td>\n",
              "    </tr>\n",
              "    <tr>\n",
              "      <th>2</th>\n",
              "      <td>2025-08-28</td>\n",
              "      <td>08:14:10</td>\n",
              "      <td>alvinoawp</td>\n",
              "      <td>Burung.nya.suara.monyet.cok🗿🗿</td>\n",
              "      <td>0</td>\n",
              "      <td>Burung nya suara monyet cok</td>\n",
              "      <td>burung nya suara monyet cok</td>\n",
              "    </tr>\n",
              "    <tr>\n",
              "      <th>3</th>\n",
              "      <td>2025-08-28</td>\n",
              "      <td>07:56:15</td>\n",
              "      <td>arkanpradipta8934</td>\n",
              "      <td>&lt;a href=\"https://www.youtube.com/watch?v=6jdG2...</td>\n",
              "      <td>0</td>\n",
              "      <td>apalah ada AMK M</td>\n",
              "      <td>apalah ada amk m</td>\n",
              "    </tr>\n",
              "    <tr>\n",
              "      <th>4</th>\n",
              "      <td>2025-08-28</td>\n",
              "      <td>07:50:36</td>\n",
              "      <td>galangadimaskhrisnaherlamb4053</td>\n",
              "      <td>bahkan jurasik park 1993 lebih bagus dari ini</td>\n",
              "      <td>1</td>\n",
              "      <td>bahkan jurasik park      lebih bagus dari ini</td>\n",
              "      <td>bahkan jurasik park      lebih bagus dari ini</td>\n",
              "    </tr>\n",
              "    <tr>\n",
              "      <th>5</th>\n",
              "      <td>2025-08-28</td>\n",
              "      <td>07:46:02</td>\n",
              "      <td>cloweystar</td>\n",
              "      <td>national disgrace. even a daz3d h*ntai is bett...</td>\n",
              "      <td>0</td>\n",
              "      <td>national disgrace  even a daz d hntai is bette...</td>\n",
              "      <td>national disgrace  even a daz d hntai is bette...</td>\n",
              "    </tr>\n",
              "    <tr>\n",
              "      <th>6</th>\n",
              "      <td>2025-08-28</td>\n",
              "      <td>07:32:15</td>\n",
              "      <td>haris1604-i3l</td>\n",
              "      <td>ASLI BURIQ - Lebih Bagus Grafik FREE FIRE 😁</td>\n",
              "      <td>0</td>\n",
              "      <td>ASLI BURIQ  Lebih Bagus Grafik FREE FIRE</td>\n",
              "      <td>asli buriq  lebih bagus grafik free fire</td>\n",
              "    </tr>\n",
              "    <tr>\n",
              "      <th>7</th>\n",
              "      <td>2025-08-28</td>\n",
              "      <td>07:01:48</td>\n",
              "      <td>afikakorizen</td>\n",
              "      <td>&amp;quot;berhyenti Jan lanjyut&amp;quot; suaranya sla...</td>\n",
              "      <td>0</td>\n",
              "      <td>berhyenti Jan lanjyut suaranya slay amat</td>\n",
              "      <td>berhyenti jan lanjyut suaranya slay amat</td>\n",
              "    </tr>\n",
              "    <tr>\n",
              "      <th>8</th>\n",
              "      <td>2025-08-28</td>\n",
              "      <td>06:46:56</td>\n",
              "      <td>montero2iey</td>\n",
              "      <td>Tidakkan gua beli di pasar jrr pertualangannya...</td>\n",
              "      <td>0</td>\n",
              "      <td>Tidakkan gua beli di pasar jrr pertualangannya...</td>\n",
              "      <td>tidakkan gua beli di pasar jrr pertualangannya...</td>\n",
              "    </tr>\n",
              "    <tr>\n",
              "      <th>9</th>\n",
              "      <td>2025-08-28</td>\n",
              "      <td>06:35:57</td>\n",
              "      <td>ajengayuning17</td>\n",
              "      <td>Beta buka gudang benderanya hilank</td>\n",
              "      <td>1</td>\n",
              "      <td>Beta buka gudang benderanya hilank</td>\n",
              "      <td>beta buka gudang benderanya hilank</td>\n",
              "    </tr>\n",
              "  </tbody>\n",
              "</table>\n",
              "</div>"
            ],
            "text/plain": [
              "      tanggal       jam                        username  \\\n",
              "0  2025-08-28  08:45:34                    syafeqah1990   \n",
              "1  2025-08-28  08:29:35                  husnanurul-m6h   \n",
              "2  2025-08-28  08:14:10                       alvinoawp   \n",
              "3  2025-08-28  07:56:15               arkanpradipta8934   \n",
              "4  2025-08-28  07:50:36  galangadimaskhrisnaherlamb4053   \n",
              "5  2025-08-28  07:46:02                      cloweystar   \n",
              "6  2025-08-28  07:32:15                   haris1604-i3l   \n",
              "7  2025-08-28  07:01:48                    afikakorizen   \n",
              "8  2025-08-28  06:46:56                     montero2iey   \n",
              "9  2025-08-28  06:35:57                  ajengayuning17   \n",
              "\n",
              "                                         textDisplay  likeCount  \\\n",
              "0                    Cartoon ni masuk pawagam...??..          0   \n",
              "1  ini yg katanya film mengeluarkan dan sampe mil...          0   \n",
              "2                      Burung.nya.suara.monyet.cok🗿🗿          0   \n",
              "3  <a href=\"https://www.youtube.com/watch?v=6jdG2...          0   \n",
              "4      bahkan jurasik park 1993 lebih bagus dari ini          1   \n",
              "5  national disgrace. even a daz3d h*ntai is bett...          0   \n",
              "6        ASLI BURIQ - Lebih Bagus Grafik FREE FIRE 😁          0   \n",
              "7  &quot;berhyenti Jan lanjyut&quot; suaranya sla...          0   \n",
              "8  Tidakkan gua beli di pasar jrr pertualangannya...          0   \n",
              "9                 Beta buka gudang benderanya hilank          1   \n",
              "\n",
              "                                        komentarBaru  \\\n",
              "0                           Cartoon ni masuk pawagam   \n",
              "1  ini yg katanya film mengeluarkan dan sampe mil...   \n",
              "2                        Burung nya suara monyet cok   \n",
              "3                                   apalah ada AMK M   \n",
              "4      bahkan jurasik park      lebih bagus dari ini   \n",
              "5  national disgrace  even a daz d hntai is bette...   \n",
              "6           ASLI BURIQ  Lebih Bagus Grafik FREE FIRE   \n",
              "7           berhyenti Jan lanjyut suaranya slay amat   \n",
              "8  Tidakkan gua beli di pasar jrr pertualangannya...   \n",
              "9                 Beta buka gudang benderanya hilank   \n",
              "\n",
              "                                        case_folding  \n",
              "0                           cartoon ni masuk pawagam  \n",
              "1  ini yg katanya film mengeluarkan dan sampe mil...  \n",
              "2                        burung nya suara monyet cok  \n",
              "3                                   apalah ada amk m  \n",
              "4      bahkan jurasik park      lebih bagus dari ini  \n",
              "5  national disgrace  even a daz d hntai is bette...  \n",
              "6           asli buriq  lebih bagus grafik free fire  \n",
              "7           berhyenti jan lanjyut suaranya slay amat  \n",
              "8  tidakkan gua beli di pasar jrr pertualangannya...  \n",
              "9                 beta buka gudang benderanya hilank  "
            ]
          },
          "execution_count": 342,
          "metadata": {},
          "output_type": "execute_result"
        }
      ],
      "source": [
        "# proses case folding\n",
        "def case_folding(text):\n",
        "  if isinstance(text, str):\n",
        "    lowercase_text = text.lower()\n",
        "    return lowercase_text\n",
        "  else:\n",
        "    return text\n",
        "\n",
        "df['case_folding'] = df['komentarBaru'].apply(case_folding)\n",
        "df.head(10)\n"
      ]
    },
    {
      "cell_type": "code",
      "execution_count": 343,
      "metadata": {
        "id": "G5IcNGCMV_Eh"
      },
      "outputs": [],
      "source": [
        "import requests\n",
        "from io import BytesIO\n",
        "\n",
        "# Fungsi penggantian kata tidak baku\n",
        "def replace_taboo_words(text, kamus_tidak_baku):\n",
        "    if isinstance(text, str):\n",
        "        words = text.split()\n",
        "        replaced_words = []\n",
        "        kalimat_baku = []\n",
        "        kata_diganti = []\n",
        "        kata_tidak_baku_hash = []\n",
        "\n",
        "        for word in words:\n",
        "            if word in kamus_tidak_baku:\n",
        "                baku_word = kamus_tidak_baku[word]\n",
        "                if isinstance(baku_word, str) and all(char.isalpha() for char in baku_word):\n",
        "                    replaced_words.append(baku_word)\n",
        "                    kalimat_baku.append(baku_word)\n",
        "                    kata_diganti.append(word)\n",
        "                    kata_tidak_baku_hash.append(hash(word))\n",
        "            else:\n",
        "                replaced_words.append(word)\n",
        "        replaced_text = ' '.join(replaced_words)\n",
        "    else:\n",
        "        replaced_text = ''\n",
        "        kalimat_baku = []\n",
        "        kata_diganti = []\n",
        "        kata_tidak_baku_hash = []\n",
        "\n",
        "    return replaced_text, kalimat_baku, kata_diganti, kata_tidak_baku_hash\n",
        "\n",
        "    data  = pd.DataFrame(df[['tanggal','jam','username','komentarBaru','likeCount']])"
      ]
    },
    {
      "cell_type": "code",
      "execution_count": 344,
      "metadata": {
        "id": "GEth91wflRPH"
      },
      "outputs": [],
      "source": [
        "# # Unduh dan baca kamus dari GitHub\n",
        "# url = \"https://github.com/analysisdatasentiment/kamus_kata_baku/raw/main/kamuskatabaku.xlsx\"\n",
        "# response = requests.get(url)\n",
        "# file_excel = BytesIO(response.content)\n",
        "# kamus_data = pd.read_excel(file_excel)\n",
        "\n",
        "kamus_data = pd.read_csv('../data/kamuskatabaku.csv')\n",
        "\n",
        "# Buat dictionary dari kamus\n",
        "kamus_tidak_baku_dict = dict(zip(kamus_data['tidak_baku'], kamus_data['kata_baku']))"
      ]
    },
    {
      "cell_type": "code",
      "execution_count": 345,
      "metadata": {
        "colab": {
          "base_uri": "https://localhost:8080/",
          "height": 206
        },
        "id": "cxTyRv0ct1Au",
        "outputId": "8f499a2e-b5bb-40a5-8600-cbff40db66df"
      },
      "outputs": [
        {
          "data": {
            "application/vnd.microsoft.datawrangler.viewer.v0+json": {
              "columns": [
                {
                  "name": "index",
                  "rawType": "int64",
                  "type": "integer"
                },
                {
                  "name": "tanggal",
                  "rawType": "object",
                  "type": "unknown"
                },
                {
                  "name": "jam",
                  "rawType": "object",
                  "type": "unknown"
                },
                {
                  "name": "username",
                  "rawType": "object",
                  "type": "string"
                },
                {
                  "name": "komentarBaru",
                  "rawType": "object",
                  "type": "string"
                },
                {
                  "name": "likeCount",
                  "rawType": "int64",
                  "type": "integer"
                },
                {
                  "name": "case_folding",
                  "rawType": "object",
                  "type": "string"
                },
                {
                  "name": "normalisasi",
                  "rawType": "object",
                  "type": "string"
                }
              ],
              "ref": "e043cef3-9f06-4e04-b8ac-46f7431bda32",
              "rows": [
                [
                  "0",
                  "2025-08-28",
                  "08:45:34",
                  "syafeqah1990",
                  "Cartoon ni masuk pawagam",
                  "0",
                  "cartoon ni masuk pawagam",
                  "cartoon ini masuk pawagam"
                ],
                [
                  "1",
                  "2025-08-28",
                  "08:29:35",
                  "husnanurul-m6h",
                  "ini yg katanya film mengeluarkan dan sampe miliyaran ini film apa game android karakter kaku garfik buriqq nonton filem ini serasa nonton game ank kecil",
                  "0",
                  "ini yg katanya film mengeluarkan dan sampe miliyaran ini film apa game android karakter kaku garfik buriqq nonton filem ini serasa nonton game ank kecil",
                  "ini yang katanya film mengeluarkan dan sampai miliyaran ini film apa game android karakter kaku grafik buriqq menonton film ini serasa menonton game anak kecil"
                ],
                [
                  "2",
                  "2025-08-28",
                  "08:14:10",
                  "alvinoawp",
                  "Burung nya suara monyet cok",
                  "0",
                  "burung nya suara monyet cok",
                  "burung nya suara monyet cok"
                ],
                [
                  "3",
                  "2025-08-28",
                  "07:56:15",
                  "arkanpradipta8934",
                  "apalah ada AMK M",
                  "0",
                  "apalah ada amk m",
                  "apalah ada amk sama"
                ],
                [
                  "4",
                  "2025-08-28",
                  "07:50:36",
                  "galangadimaskhrisnaherlamb4053",
                  "bahkan jurasik park      lebih bagus dari ini",
                  "1",
                  "bahkan jurasik park      lebih bagus dari ini",
                  "bahkan jurasik park lebih bagus dari ini"
                ]
              ],
              "shape": {
                "columns": 7,
                "rows": 5
              }
            },
            "text/html": [
              "<div>\n",
              "<style scoped>\n",
              "    .dataframe tbody tr th:only-of-type {\n",
              "        vertical-align: middle;\n",
              "    }\n",
              "\n",
              "    .dataframe tbody tr th {\n",
              "        vertical-align: top;\n",
              "    }\n",
              "\n",
              "    .dataframe thead th {\n",
              "        text-align: right;\n",
              "    }\n",
              "</style>\n",
              "<table border=\"1\" class=\"dataframe\">\n",
              "  <thead>\n",
              "    <tr style=\"text-align: right;\">\n",
              "      <th></th>\n",
              "      <th>tanggal</th>\n",
              "      <th>jam</th>\n",
              "      <th>username</th>\n",
              "      <th>komentarBaru</th>\n",
              "      <th>likeCount</th>\n",
              "      <th>case_folding</th>\n",
              "      <th>normalisasi</th>\n",
              "    </tr>\n",
              "  </thead>\n",
              "  <tbody>\n",
              "    <tr>\n",
              "      <th>0</th>\n",
              "      <td>2025-08-28</td>\n",
              "      <td>08:45:34</td>\n",
              "      <td>syafeqah1990</td>\n",
              "      <td>Cartoon ni masuk pawagam</td>\n",
              "      <td>0</td>\n",
              "      <td>cartoon ni masuk pawagam</td>\n",
              "      <td>cartoon ini masuk pawagam</td>\n",
              "    </tr>\n",
              "    <tr>\n",
              "      <th>1</th>\n",
              "      <td>2025-08-28</td>\n",
              "      <td>08:29:35</td>\n",
              "      <td>husnanurul-m6h</td>\n",
              "      <td>ini yg katanya film mengeluarkan dan sampe mil...</td>\n",
              "      <td>0</td>\n",
              "      <td>ini yg katanya film mengeluarkan dan sampe mil...</td>\n",
              "      <td>ini yang katanya film mengeluarkan dan sampai ...</td>\n",
              "    </tr>\n",
              "    <tr>\n",
              "      <th>2</th>\n",
              "      <td>2025-08-28</td>\n",
              "      <td>08:14:10</td>\n",
              "      <td>alvinoawp</td>\n",
              "      <td>Burung nya suara monyet cok</td>\n",
              "      <td>0</td>\n",
              "      <td>burung nya suara monyet cok</td>\n",
              "      <td>burung nya suara monyet cok</td>\n",
              "    </tr>\n",
              "    <tr>\n",
              "      <th>3</th>\n",
              "      <td>2025-08-28</td>\n",
              "      <td>07:56:15</td>\n",
              "      <td>arkanpradipta8934</td>\n",
              "      <td>apalah ada AMK M</td>\n",
              "      <td>0</td>\n",
              "      <td>apalah ada amk m</td>\n",
              "      <td>apalah ada amk sama</td>\n",
              "    </tr>\n",
              "    <tr>\n",
              "      <th>4</th>\n",
              "      <td>2025-08-28</td>\n",
              "      <td>07:50:36</td>\n",
              "      <td>galangadimaskhrisnaherlamb4053</td>\n",
              "      <td>bahkan jurasik park      lebih bagus dari ini</td>\n",
              "      <td>1</td>\n",
              "      <td>bahkan jurasik park      lebih bagus dari ini</td>\n",
              "      <td>bahkan jurasik park lebih bagus dari ini</td>\n",
              "    </tr>\n",
              "  </tbody>\n",
              "</table>\n",
              "</div>"
            ],
            "text/plain": [
              "      tanggal       jam                        username  \\\n",
              "0  2025-08-28  08:45:34                    syafeqah1990   \n",
              "1  2025-08-28  08:29:35                  husnanurul-m6h   \n",
              "2  2025-08-28  08:14:10                       alvinoawp   \n",
              "3  2025-08-28  07:56:15               arkanpradipta8934   \n",
              "4  2025-08-28  07:50:36  galangadimaskhrisnaherlamb4053   \n",
              "\n",
              "                                        komentarBaru  likeCount  \\\n",
              "0                           Cartoon ni masuk pawagam          0   \n",
              "1  ini yg katanya film mengeluarkan dan sampe mil...          0   \n",
              "2                        Burung nya suara monyet cok          0   \n",
              "3                                   apalah ada AMK M          0   \n",
              "4      bahkan jurasik park      lebih bagus dari ini          1   \n",
              "\n",
              "                                        case_folding  \\\n",
              "0                           cartoon ni masuk pawagam   \n",
              "1  ini yg katanya film mengeluarkan dan sampe mil...   \n",
              "2                        burung nya suara monyet cok   \n",
              "3                                   apalah ada amk m   \n",
              "4      bahkan jurasik park      lebih bagus dari ini   \n",
              "\n",
              "                                         normalisasi  \n",
              "0                          cartoon ini masuk pawagam  \n",
              "1  ini yang katanya film mengeluarkan dan sampai ...  \n",
              "2                        burung nya suara monyet cok  \n",
              "3                                apalah ada amk sama  \n",
              "4           bahkan jurasik park lebih bagus dari ini  "
            ]
          },
          "execution_count": 345,
          "metadata": {},
          "output_type": "execute_result"
        }
      ],
      "source": [
        "# Terapkan fungsi normalisasi\n",
        "df[['normalisasi', 'Kata_Baku', 'Kata_Tidak_Baku', 'Kata_Tidak_Baku_Hash']] = df['case_folding'].apply(\n",
        "    lambda x: pd.Series(replace_taboo_words(x, kamus_tidak_baku_dict))\n",
        ")\n",
        "\n",
        "# Ambil kolom yang relevan\n",
        "df  = pd.DataFrame(df[['tanggal','jam','username','komentarBaru','likeCount', 'case_folding','normalisasi']])\n",
        "df.head(5)"
      ]
    },
    {
      "cell_type": "code",
      "execution_count": 346,
      "metadata": {
        "colab": {
          "base_uri": "https://localhost:8080/",
          "height": 363
        },
        "id": "EgaGtJPZf2aH",
        "outputId": "2dcbba35-59b2-45d7-953f-f0c6f54613dd"
      },
      "outputs": [
        {
          "data": {
            "application/vnd.microsoft.datawrangler.viewer.v0+json": {
              "columns": [
                {
                  "name": "index",
                  "rawType": "int64",
                  "type": "integer"
                },
                {
                  "name": "tanggal",
                  "rawType": "object",
                  "type": "unknown"
                },
                {
                  "name": "jam",
                  "rawType": "object",
                  "type": "unknown"
                },
                {
                  "name": "username",
                  "rawType": "object",
                  "type": "string"
                },
                {
                  "name": "komentarBaru",
                  "rawType": "object",
                  "type": "string"
                },
                {
                  "name": "likeCount",
                  "rawType": "int64",
                  "type": "integer"
                },
                {
                  "name": "case_folding",
                  "rawType": "object",
                  "type": "string"
                },
                {
                  "name": "normalisasi",
                  "rawType": "object",
                  "type": "string"
                }
              ],
              "ref": "8a28ccc6-bb26-45c5-b3fe-b4070a0c9a89",
              "rows": [
                [
                  "2767",
                  "2025-08-16",
                  "14:58:44",
                  "calonpetrus9723",
                  "anjir iya loh pojok kiri ada Ak   sama mp   pubg mobile menangis melihat ini",
                  "0",
                  "anjir iya loh pojok kiri ada ak   sama mp   pubg mobile menangis melihat ini",
                  "anjing iya loh pojok kiri ada aku sama mp pubg mobile menangis melihat ini"
                ],
                [
                  "255",
                  "2025-08-25",
                  "12:21:42",
                  "ibnuazizah7626",
                  "Beta buka celana manuknya ireng",
                  "1",
                  "beta buka celana manuknya ireng",
                  "beta buka celana manuknya ireng"
                ],
                [
                  "1556",
                  "2025-08-19",
                  "07:37:00",
                  "cutesshuwelle",
                  "berhenti jangan lanjyuth",
                  "1",
                  "berhenti jangan lanjyuth",
                  "berhenti jangan lanjyuth"
                ],
                [
                  "90",
                  "2025-08-27",
                  "07:37:56",
                  "nabati_aja",
                  "Burung nya suara monyet",
                  "1",
                  "burung nya suara monyet",
                  "burung nya suara monyet"
                ],
                [
                  "48",
                  "2025-08-27",
                  "14:05:18",
                  "egyzul",
                  "Apakah ada ff one for all",
                  "0",
                  "apakah ada ff one for all",
                  "apakah ada ff one for all"
                ],
                [
                  "2790",
                  "2025-08-16",
                  "13:45:56",
                  "cloryde",
                  "SUMPAH JELEK BANGET",
                  "0",
                  "sumpah jelek banget",
                  "sumpah jelek sangat"
                ],
                [
                  "1873",
                  "2025-08-18",
                  "10:57:39",
                  "tharsan-auwoo",
                  "berhenti jangan lanjut",
                  "0",
                  "berhenti jangan lanjut",
                  "berhenti jangan lanjut"
                ],
                [
                  "791",
                  "2025-08-22",
                  "05:19:57",
                  "bijemamiq",
                  "SANGAT SAMPAH DAN MEMALUKAN",
                  "0",
                  "sangat sampah dan memalukan",
                  "sangat sampah dan memalukan"
                ],
                [
                  "4054",
                  "2025-08-14",
                  "12:15:05",
                  "awal_gemers",
                  "Bagus animasinya semangat ya",
                  "1",
                  "bagus animasinya semangat ya",
                  "bagus animasinya semangat ya"
                ],
                [
                  "1589",
                  "2025-08-19",
                  "05:53:27",
                  "kucingngamuk-d7s",
                  "Grafik dan gerakan setara ff tapi jelas lebih bagusan ff",
                  "0",
                  "grafik dan gerakan setara ff tapi jelas lebih bagusan ff",
                  "grafik dan gerakan setara ff tapi jelas lebih bagusan ff"
                ]
              ],
              "shape": {
                "columns": 7,
                "rows": 10
              }
            },
            "text/html": [
              "<div>\n",
              "<style scoped>\n",
              "    .dataframe tbody tr th:only-of-type {\n",
              "        vertical-align: middle;\n",
              "    }\n",
              "\n",
              "    .dataframe tbody tr th {\n",
              "        vertical-align: top;\n",
              "    }\n",
              "\n",
              "    .dataframe thead th {\n",
              "        text-align: right;\n",
              "    }\n",
              "</style>\n",
              "<table border=\"1\" class=\"dataframe\">\n",
              "  <thead>\n",
              "    <tr style=\"text-align: right;\">\n",
              "      <th></th>\n",
              "      <th>tanggal</th>\n",
              "      <th>jam</th>\n",
              "      <th>username</th>\n",
              "      <th>komentarBaru</th>\n",
              "      <th>likeCount</th>\n",
              "      <th>case_folding</th>\n",
              "      <th>normalisasi</th>\n",
              "    </tr>\n",
              "  </thead>\n",
              "  <tbody>\n",
              "    <tr>\n",
              "      <th>2767</th>\n",
              "      <td>2025-08-16</td>\n",
              "      <td>14:58:44</td>\n",
              "      <td>calonpetrus9723</td>\n",
              "      <td>anjir iya loh pojok kiri ada Ak   sama mp   pu...</td>\n",
              "      <td>0</td>\n",
              "      <td>anjir iya loh pojok kiri ada ak   sama mp   pu...</td>\n",
              "      <td>anjing iya loh pojok kiri ada aku sama mp pubg...</td>\n",
              "    </tr>\n",
              "    <tr>\n",
              "      <th>255</th>\n",
              "      <td>2025-08-25</td>\n",
              "      <td>12:21:42</td>\n",
              "      <td>ibnuazizah7626</td>\n",
              "      <td>Beta buka celana manuknya ireng</td>\n",
              "      <td>1</td>\n",
              "      <td>beta buka celana manuknya ireng</td>\n",
              "      <td>beta buka celana manuknya ireng</td>\n",
              "    </tr>\n",
              "    <tr>\n",
              "      <th>1556</th>\n",
              "      <td>2025-08-19</td>\n",
              "      <td>07:37:00</td>\n",
              "      <td>cutesshuwelle</td>\n",
              "      <td>berhenti jangan lanjyuth</td>\n",
              "      <td>1</td>\n",
              "      <td>berhenti jangan lanjyuth</td>\n",
              "      <td>berhenti jangan lanjyuth</td>\n",
              "    </tr>\n",
              "    <tr>\n",
              "      <th>90</th>\n",
              "      <td>2025-08-27</td>\n",
              "      <td>07:37:56</td>\n",
              "      <td>nabati_aja</td>\n",
              "      <td>Burung nya suara monyet</td>\n",
              "      <td>1</td>\n",
              "      <td>burung nya suara monyet</td>\n",
              "      <td>burung nya suara monyet</td>\n",
              "    </tr>\n",
              "    <tr>\n",
              "      <th>48</th>\n",
              "      <td>2025-08-27</td>\n",
              "      <td>14:05:18</td>\n",
              "      <td>egyzul</td>\n",
              "      <td>Apakah ada ff one for all</td>\n",
              "      <td>0</td>\n",
              "      <td>apakah ada ff one for all</td>\n",
              "      <td>apakah ada ff one for all</td>\n",
              "    </tr>\n",
              "    <tr>\n",
              "      <th>2790</th>\n",
              "      <td>2025-08-16</td>\n",
              "      <td>13:45:56</td>\n",
              "      <td>cloryde</td>\n",
              "      <td>SUMPAH JELEK BANGET</td>\n",
              "      <td>0</td>\n",
              "      <td>sumpah jelek banget</td>\n",
              "      <td>sumpah jelek sangat</td>\n",
              "    </tr>\n",
              "    <tr>\n",
              "      <th>1873</th>\n",
              "      <td>2025-08-18</td>\n",
              "      <td>10:57:39</td>\n",
              "      <td>tharsan-auwoo</td>\n",
              "      <td>berhenti jangan lanjut</td>\n",
              "      <td>0</td>\n",
              "      <td>berhenti jangan lanjut</td>\n",
              "      <td>berhenti jangan lanjut</td>\n",
              "    </tr>\n",
              "    <tr>\n",
              "      <th>791</th>\n",
              "      <td>2025-08-22</td>\n",
              "      <td>05:19:57</td>\n",
              "      <td>bijemamiq</td>\n",
              "      <td>SANGAT SAMPAH DAN MEMALUKAN</td>\n",
              "      <td>0</td>\n",
              "      <td>sangat sampah dan memalukan</td>\n",
              "      <td>sangat sampah dan memalukan</td>\n",
              "    </tr>\n",
              "    <tr>\n",
              "      <th>4054</th>\n",
              "      <td>2025-08-14</td>\n",
              "      <td>12:15:05</td>\n",
              "      <td>awal_gemers</td>\n",
              "      <td>Bagus animasinya semangat ya</td>\n",
              "      <td>1</td>\n",
              "      <td>bagus animasinya semangat ya</td>\n",
              "      <td>bagus animasinya semangat ya</td>\n",
              "    </tr>\n",
              "    <tr>\n",
              "      <th>1589</th>\n",
              "      <td>2025-08-19</td>\n",
              "      <td>05:53:27</td>\n",
              "      <td>kucingngamuk-d7s</td>\n",
              "      <td>Grafik dan gerakan setara ff tapi jelas lebih ...</td>\n",
              "      <td>0</td>\n",
              "      <td>grafik dan gerakan setara ff tapi jelas lebih ...</td>\n",
              "      <td>grafik dan gerakan setara ff tapi jelas lebih ...</td>\n",
              "    </tr>\n",
              "  </tbody>\n",
              "</table>\n",
              "</div>"
            ],
            "text/plain": [
              "         tanggal       jam          username  \\\n",
              "2767  2025-08-16  14:58:44   calonpetrus9723   \n",
              "255   2025-08-25  12:21:42    ibnuazizah7626   \n",
              "1556  2025-08-19  07:37:00     cutesshuwelle   \n",
              "90    2025-08-27  07:37:56        nabati_aja   \n",
              "48    2025-08-27  14:05:18            egyzul   \n",
              "2790  2025-08-16  13:45:56           cloryde   \n",
              "1873  2025-08-18  10:57:39     tharsan-auwoo   \n",
              "791   2025-08-22  05:19:57         bijemamiq   \n",
              "4054  2025-08-14  12:15:05       awal_gemers   \n",
              "1589  2025-08-19  05:53:27  kucingngamuk-d7s   \n",
              "\n",
              "                                           komentarBaru  likeCount  \\\n",
              "2767  anjir iya loh pojok kiri ada Ak   sama mp   pu...          0   \n",
              "255                     Beta buka celana manuknya ireng          1   \n",
              "1556                           berhenti jangan lanjyuth          1   \n",
              "90                              Burung nya suara monyet          1   \n",
              "48                            Apakah ada ff one for all          0   \n",
              "2790                                SUMPAH JELEK BANGET          0   \n",
              "1873                             berhenti jangan lanjut          0   \n",
              "791                         SANGAT SAMPAH DAN MEMALUKAN          0   \n",
              "4054                       Bagus animasinya semangat ya          1   \n",
              "1589  Grafik dan gerakan setara ff tapi jelas lebih ...          0   \n",
              "\n",
              "                                           case_folding  \\\n",
              "2767  anjir iya loh pojok kiri ada ak   sama mp   pu...   \n",
              "255                     beta buka celana manuknya ireng   \n",
              "1556                           berhenti jangan lanjyuth   \n",
              "90                              burung nya suara monyet   \n",
              "48                            apakah ada ff one for all   \n",
              "2790                                sumpah jelek banget   \n",
              "1873                             berhenti jangan lanjut   \n",
              "791                         sangat sampah dan memalukan   \n",
              "4054                       bagus animasinya semangat ya   \n",
              "1589  grafik dan gerakan setara ff tapi jelas lebih ...   \n",
              "\n",
              "                                            normalisasi  \n",
              "2767  anjing iya loh pojok kiri ada aku sama mp pubg...  \n",
              "255                     beta buka celana manuknya ireng  \n",
              "1556                           berhenti jangan lanjyuth  \n",
              "90                              burung nya suara monyet  \n",
              "48                            apakah ada ff one for all  \n",
              "2790                                sumpah jelek sangat  \n",
              "1873                             berhenti jangan lanjut  \n",
              "791                         sangat sampah dan memalukan  \n",
              "4054                       bagus animasinya semangat ya  \n",
              "1589  grafik dan gerakan setara ff tapi jelas lebih ...  "
            ]
          },
          "execution_count": 346,
          "metadata": {},
          "output_type": "execute_result"
        }
      ],
      "source": [
        "df.sample(10)"
      ]
    },
    {
      "cell_type": "code",
      "execution_count": 347,
      "metadata": {
        "colab": {
          "base_uri": "https://localhost:8080/",
          "height": 206
        },
        "id": "dw0OpLHswMye",
        "outputId": "3f94c669-5d95-40a7-c022-de9e33d68725"
      },
      "outputs": [
        {
          "data": {
            "application/vnd.microsoft.datawrangler.viewer.v0+json": {
              "columns": [
                {
                  "name": "index",
                  "rawType": "int64",
                  "type": "integer"
                },
                {
                  "name": "tanggal",
                  "rawType": "object",
                  "type": "unknown"
                },
                {
                  "name": "jam",
                  "rawType": "object",
                  "type": "unknown"
                },
                {
                  "name": "username",
                  "rawType": "object",
                  "type": "string"
                },
                {
                  "name": "komentarBaru",
                  "rawType": "object",
                  "type": "string"
                },
                {
                  "name": "likeCount",
                  "rawType": "int64",
                  "type": "integer"
                },
                {
                  "name": "case_folding",
                  "rawType": "object",
                  "type": "string"
                },
                {
                  "name": "normalisasi",
                  "rawType": "object",
                  "type": "string"
                },
                {
                  "name": "tokenize",
                  "rawType": "object",
                  "type": "unknown"
                }
              ],
              "ref": "b09b5abc-fce8-4c61-8cc8-5cb5b2b68746",
              "rows": [
                [
                  "0",
                  "2025-08-28",
                  "08:45:34",
                  "syafeqah1990",
                  "Cartoon ni masuk pawagam",
                  "0",
                  "cartoon ni masuk pawagam",
                  "cartoon ini masuk pawagam",
                  "['cartoon', 'ini', 'masuk', 'pawagam']"
                ],
                [
                  "1",
                  "2025-08-28",
                  "08:29:35",
                  "husnanurul-m6h",
                  "ini yg katanya film mengeluarkan dan sampe miliyaran ini film apa game android karakter kaku garfik buriqq nonton filem ini serasa nonton game ank kecil",
                  "0",
                  "ini yg katanya film mengeluarkan dan sampe miliyaran ini film apa game android karakter kaku garfik buriqq nonton filem ini serasa nonton game ank kecil",
                  "ini yang katanya film mengeluarkan dan sampai miliyaran ini film apa game android karakter kaku grafik buriqq menonton film ini serasa menonton game anak kecil",
                  "['ini', 'yang', 'katanya', 'film', 'mengeluarkan', 'dan', 'sampai', 'miliyaran', 'ini', 'film', 'apa', 'game', 'android', 'karakter', 'kaku', 'grafik', 'buriqq', 'menonton', 'film', 'ini', 'serasa', 'menonton', 'game', 'anak', 'kecil']"
                ],
                [
                  "2",
                  "2025-08-28",
                  "08:14:10",
                  "alvinoawp",
                  "Burung nya suara monyet cok",
                  "0",
                  "burung nya suara monyet cok",
                  "burung nya suara monyet cok",
                  "['burung', 'nya', 'suara', 'monyet', 'cok']"
                ],
                [
                  "3",
                  "2025-08-28",
                  "07:56:15",
                  "arkanpradipta8934",
                  "apalah ada AMK M",
                  "0",
                  "apalah ada amk m",
                  "apalah ada amk sama",
                  "['apalah', 'ada', 'amk', 'sama']"
                ],
                [
                  "4",
                  "2025-08-28",
                  "07:50:36",
                  "galangadimaskhrisnaherlamb4053",
                  "bahkan jurasik park      lebih bagus dari ini",
                  "1",
                  "bahkan jurasik park      lebih bagus dari ini",
                  "bahkan jurasik park lebih bagus dari ini",
                  "['bahkan', 'jurasik', 'park', 'lebih', 'bagus', 'dari', 'ini']"
                ]
              ],
              "shape": {
                "columns": 8,
                "rows": 5
              }
            },
            "text/html": [
              "<div>\n",
              "<style scoped>\n",
              "    .dataframe tbody tr th:only-of-type {\n",
              "        vertical-align: middle;\n",
              "    }\n",
              "\n",
              "    .dataframe tbody tr th {\n",
              "        vertical-align: top;\n",
              "    }\n",
              "\n",
              "    .dataframe thead th {\n",
              "        text-align: right;\n",
              "    }\n",
              "</style>\n",
              "<table border=\"1\" class=\"dataframe\">\n",
              "  <thead>\n",
              "    <tr style=\"text-align: right;\">\n",
              "      <th></th>\n",
              "      <th>tanggal</th>\n",
              "      <th>jam</th>\n",
              "      <th>username</th>\n",
              "      <th>komentarBaru</th>\n",
              "      <th>likeCount</th>\n",
              "      <th>case_folding</th>\n",
              "      <th>normalisasi</th>\n",
              "      <th>tokenize</th>\n",
              "    </tr>\n",
              "  </thead>\n",
              "  <tbody>\n",
              "    <tr>\n",
              "      <th>0</th>\n",
              "      <td>2025-08-28</td>\n",
              "      <td>08:45:34</td>\n",
              "      <td>syafeqah1990</td>\n",
              "      <td>Cartoon ni masuk pawagam</td>\n",
              "      <td>0</td>\n",
              "      <td>cartoon ni masuk pawagam</td>\n",
              "      <td>cartoon ini masuk pawagam</td>\n",
              "      <td>[cartoon, ini, masuk, pawagam]</td>\n",
              "    </tr>\n",
              "    <tr>\n",
              "      <th>1</th>\n",
              "      <td>2025-08-28</td>\n",
              "      <td>08:29:35</td>\n",
              "      <td>husnanurul-m6h</td>\n",
              "      <td>ini yg katanya film mengeluarkan dan sampe mil...</td>\n",
              "      <td>0</td>\n",
              "      <td>ini yg katanya film mengeluarkan dan sampe mil...</td>\n",
              "      <td>ini yang katanya film mengeluarkan dan sampai ...</td>\n",
              "      <td>[ini, yang, katanya, film, mengeluarkan, dan, ...</td>\n",
              "    </tr>\n",
              "    <tr>\n",
              "      <th>2</th>\n",
              "      <td>2025-08-28</td>\n",
              "      <td>08:14:10</td>\n",
              "      <td>alvinoawp</td>\n",
              "      <td>Burung nya suara monyet cok</td>\n",
              "      <td>0</td>\n",
              "      <td>burung nya suara monyet cok</td>\n",
              "      <td>burung nya suara monyet cok</td>\n",
              "      <td>[burung, nya, suara, monyet, cok]</td>\n",
              "    </tr>\n",
              "    <tr>\n",
              "      <th>3</th>\n",
              "      <td>2025-08-28</td>\n",
              "      <td>07:56:15</td>\n",
              "      <td>arkanpradipta8934</td>\n",
              "      <td>apalah ada AMK M</td>\n",
              "      <td>0</td>\n",
              "      <td>apalah ada amk m</td>\n",
              "      <td>apalah ada amk sama</td>\n",
              "      <td>[apalah, ada, amk, sama]</td>\n",
              "    </tr>\n",
              "    <tr>\n",
              "      <th>4</th>\n",
              "      <td>2025-08-28</td>\n",
              "      <td>07:50:36</td>\n",
              "      <td>galangadimaskhrisnaherlamb4053</td>\n",
              "      <td>bahkan jurasik park      lebih bagus dari ini</td>\n",
              "      <td>1</td>\n",
              "      <td>bahkan jurasik park      lebih bagus dari ini</td>\n",
              "      <td>bahkan jurasik park lebih bagus dari ini</td>\n",
              "      <td>[bahkan, jurasik, park, lebih, bagus, dari, ini]</td>\n",
              "    </tr>\n",
              "  </tbody>\n",
              "</table>\n",
              "</div>"
            ],
            "text/plain": [
              "      tanggal       jam                        username  \\\n",
              "0  2025-08-28  08:45:34                    syafeqah1990   \n",
              "1  2025-08-28  08:29:35                  husnanurul-m6h   \n",
              "2  2025-08-28  08:14:10                       alvinoawp   \n",
              "3  2025-08-28  07:56:15               arkanpradipta8934   \n",
              "4  2025-08-28  07:50:36  galangadimaskhrisnaherlamb4053   \n",
              "\n",
              "                                        komentarBaru  likeCount  \\\n",
              "0                           Cartoon ni masuk pawagam          0   \n",
              "1  ini yg katanya film mengeluarkan dan sampe mil...          0   \n",
              "2                        Burung nya suara monyet cok          0   \n",
              "3                                   apalah ada AMK M          0   \n",
              "4      bahkan jurasik park      lebih bagus dari ini          1   \n",
              "\n",
              "                                        case_folding  \\\n",
              "0                           cartoon ni masuk pawagam   \n",
              "1  ini yg katanya film mengeluarkan dan sampe mil...   \n",
              "2                        burung nya suara monyet cok   \n",
              "3                                   apalah ada amk m   \n",
              "4      bahkan jurasik park      lebih bagus dari ini   \n",
              "\n",
              "                                         normalisasi  \\\n",
              "0                          cartoon ini masuk pawagam   \n",
              "1  ini yang katanya film mengeluarkan dan sampai ...   \n",
              "2                        burung nya suara monyet cok   \n",
              "3                                apalah ada amk sama   \n",
              "4           bahkan jurasik park lebih bagus dari ini   \n",
              "\n",
              "                                            tokenize  \n",
              "0                     [cartoon, ini, masuk, pawagam]  \n",
              "1  [ini, yang, katanya, film, mengeluarkan, dan, ...  \n",
              "2                  [burung, nya, suara, monyet, cok]  \n",
              "3                           [apalah, ada, amk, sama]  \n",
              "4   [bahkan, jurasik, park, lebih, bagus, dari, ini]  "
            ]
          },
          "execution_count": 347,
          "metadata": {},
          "output_type": "execute_result"
        }
      ],
      "source": [
        "# tokenization\n",
        "def tokenize(text):\n",
        "  tokens = text.split()\n",
        "  return tokens\n",
        "df['tokenize'] = df['normalisasi'].apply(tokenize)\n",
        "\n",
        "df.head(5)"
      ]
    },
    {
      "cell_type": "code",
      "execution_count": 348,
      "metadata": {
        "colab": {
          "base_uri": "https://localhost:8080/"
        },
        "id": "Bnw4Ir0lwkI9",
        "outputId": "3723df5d-509b-4a2b-8392-b7d559544193"
      },
      "outputs": [
        {
          "name": "stderr",
          "output_type": "stream",
          "text": [
            "[nltk_data] Downloading package stopwords to\n",
            "[nltk_data]     C:\\Users\\HP\\AppData\\Roaming\\nltk_data...\n",
            "[nltk_data]   Package stopwords is already up-to-date!\n"
          ]
        }
      ],
      "source": [
        "# proses stopword removal\n",
        "from nltk.corpus import stopwords\n",
        "nltk.download('stopwords')\n",
        "stop_words = stopwords.words(['indonesian'])"
      ]
    },
    {
      "cell_type": "code",
      "execution_count": 349,
      "metadata": {
        "colab": {
          "base_uri": "https://localhost:8080/",
          "height": 293
        },
        "id": "FRoqih0Vwwoq",
        "outputId": "f2cfecdc-94a3-4939-cba7-ecb985c3d35b"
      },
      "outputs": [
        {
          "data": {
            "application/vnd.microsoft.datawrangler.viewer.v0+json": {
              "columns": [
                {
                  "name": "index",
                  "rawType": "int64",
                  "type": "integer"
                },
                {
                  "name": "tanggal",
                  "rawType": "object",
                  "type": "unknown"
                },
                {
                  "name": "jam",
                  "rawType": "object",
                  "type": "unknown"
                },
                {
                  "name": "username",
                  "rawType": "object",
                  "type": "string"
                },
                {
                  "name": "komentarBaru",
                  "rawType": "object",
                  "type": "string"
                },
                {
                  "name": "likeCount",
                  "rawType": "int64",
                  "type": "integer"
                },
                {
                  "name": "case_folding",
                  "rawType": "object",
                  "type": "string"
                },
                {
                  "name": "normalisasi",
                  "rawType": "object",
                  "type": "string"
                },
                {
                  "name": "tokenize",
                  "rawType": "object",
                  "type": "unknown"
                },
                {
                  "name": "stopword removal",
                  "rawType": "object",
                  "type": "unknown"
                }
              ],
              "ref": "ac971f67-9f21-4d1e-ae02-a4f76a59b2d4",
              "rows": [
                [
                  "0",
                  "2025-08-28",
                  "08:45:34",
                  "syafeqah1990",
                  "Cartoon ni masuk pawagam",
                  "0",
                  "cartoon ni masuk pawagam",
                  "cartoon ini masuk pawagam",
                  "['cartoon', 'ini', 'masuk', 'pawagam']",
                  "['cartoon', 'masuk', 'pawagam']"
                ],
                [
                  "1",
                  "2025-08-28",
                  "08:29:35",
                  "husnanurul-m6h",
                  "ini yg katanya film mengeluarkan dan sampe miliyaran ini film apa game android karakter kaku garfik buriqq nonton filem ini serasa nonton game ank kecil",
                  "0",
                  "ini yg katanya film mengeluarkan dan sampe miliyaran ini film apa game android karakter kaku garfik buriqq nonton filem ini serasa nonton game ank kecil",
                  "ini yang katanya film mengeluarkan dan sampai miliyaran ini film apa game android karakter kaku grafik buriqq menonton film ini serasa menonton game anak kecil",
                  "['ini', 'yang', 'katanya', 'film', 'mengeluarkan', 'dan', 'sampai', 'miliyaran', 'ini', 'film', 'apa', 'game', 'android', 'karakter', 'kaku', 'grafik', 'buriqq', 'menonton', 'film', 'ini', 'serasa', 'menonton', 'game', 'anak', 'kecil']",
                  "['film', 'mengeluarkan', 'miliyaran', 'film', 'game', 'android', 'karakter', 'kaku', 'grafik', 'buriqq', 'menonton', 'film', 'serasa', 'menonton', 'game', 'anak']"
                ],
                [
                  "2",
                  "2025-08-28",
                  "08:14:10",
                  "alvinoawp",
                  "Burung nya suara monyet cok",
                  "0",
                  "burung nya suara monyet cok",
                  "burung nya suara monyet cok",
                  "['burung', 'nya', 'suara', 'monyet', 'cok']",
                  "['burung', 'nya', 'suara', 'monyet', 'cok']"
                ],
                [
                  "3",
                  "2025-08-28",
                  "07:56:15",
                  "arkanpradipta8934",
                  "apalah ada AMK M",
                  "0",
                  "apalah ada amk m",
                  "apalah ada amk sama",
                  "['apalah', 'ada', 'amk', 'sama']",
                  "['apalah', 'amk']"
                ],
                [
                  "4",
                  "2025-08-28",
                  "07:50:36",
                  "galangadimaskhrisnaherlamb4053",
                  "bahkan jurasik park      lebih bagus dari ini",
                  "1",
                  "bahkan jurasik park      lebih bagus dari ini",
                  "bahkan jurasik park lebih bagus dari ini",
                  "['bahkan', 'jurasik', 'park', 'lebih', 'bagus', 'dari', 'ini']",
                  "['jurasik', 'park', 'bagus']"
                ]
              ],
              "shape": {
                "columns": 9,
                "rows": 5
              }
            },
            "text/html": [
              "<div>\n",
              "<style scoped>\n",
              "    .dataframe tbody tr th:only-of-type {\n",
              "        vertical-align: middle;\n",
              "    }\n",
              "\n",
              "    .dataframe tbody tr th {\n",
              "        vertical-align: top;\n",
              "    }\n",
              "\n",
              "    .dataframe thead th {\n",
              "        text-align: right;\n",
              "    }\n",
              "</style>\n",
              "<table border=\"1\" class=\"dataframe\">\n",
              "  <thead>\n",
              "    <tr style=\"text-align: right;\">\n",
              "      <th></th>\n",
              "      <th>tanggal</th>\n",
              "      <th>jam</th>\n",
              "      <th>username</th>\n",
              "      <th>komentarBaru</th>\n",
              "      <th>likeCount</th>\n",
              "      <th>case_folding</th>\n",
              "      <th>normalisasi</th>\n",
              "      <th>tokenize</th>\n",
              "      <th>stopword removal</th>\n",
              "    </tr>\n",
              "  </thead>\n",
              "  <tbody>\n",
              "    <tr>\n",
              "      <th>0</th>\n",
              "      <td>2025-08-28</td>\n",
              "      <td>08:45:34</td>\n",
              "      <td>syafeqah1990</td>\n",
              "      <td>Cartoon ni masuk pawagam</td>\n",
              "      <td>0</td>\n",
              "      <td>cartoon ni masuk pawagam</td>\n",
              "      <td>cartoon ini masuk pawagam</td>\n",
              "      <td>[cartoon, ini, masuk, pawagam]</td>\n",
              "      <td>[cartoon, masuk, pawagam]</td>\n",
              "    </tr>\n",
              "    <tr>\n",
              "      <th>1</th>\n",
              "      <td>2025-08-28</td>\n",
              "      <td>08:29:35</td>\n",
              "      <td>husnanurul-m6h</td>\n",
              "      <td>ini yg katanya film mengeluarkan dan sampe mil...</td>\n",
              "      <td>0</td>\n",
              "      <td>ini yg katanya film mengeluarkan dan sampe mil...</td>\n",
              "      <td>ini yang katanya film mengeluarkan dan sampai ...</td>\n",
              "      <td>[ini, yang, katanya, film, mengeluarkan, dan, ...</td>\n",
              "      <td>[film, mengeluarkan, miliyaran, film, game, an...</td>\n",
              "    </tr>\n",
              "    <tr>\n",
              "      <th>2</th>\n",
              "      <td>2025-08-28</td>\n",
              "      <td>08:14:10</td>\n",
              "      <td>alvinoawp</td>\n",
              "      <td>Burung nya suara monyet cok</td>\n",
              "      <td>0</td>\n",
              "      <td>burung nya suara monyet cok</td>\n",
              "      <td>burung nya suara monyet cok</td>\n",
              "      <td>[burung, nya, suara, monyet, cok]</td>\n",
              "      <td>[burung, nya, suara, monyet, cok]</td>\n",
              "    </tr>\n",
              "    <tr>\n",
              "      <th>3</th>\n",
              "      <td>2025-08-28</td>\n",
              "      <td>07:56:15</td>\n",
              "      <td>arkanpradipta8934</td>\n",
              "      <td>apalah ada AMK M</td>\n",
              "      <td>0</td>\n",
              "      <td>apalah ada amk m</td>\n",
              "      <td>apalah ada amk sama</td>\n",
              "      <td>[apalah, ada, amk, sama]</td>\n",
              "      <td>[apalah, amk]</td>\n",
              "    </tr>\n",
              "    <tr>\n",
              "      <th>4</th>\n",
              "      <td>2025-08-28</td>\n",
              "      <td>07:50:36</td>\n",
              "      <td>galangadimaskhrisnaherlamb4053</td>\n",
              "      <td>bahkan jurasik park      lebih bagus dari ini</td>\n",
              "      <td>1</td>\n",
              "      <td>bahkan jurasik park      lebih bagus dari ini</td>\n",
              "      <td>bahkan jurasik park lebih bagus dari ini</td>\n",
              "      <td>[bahkan, jurasik, park, lebih, bagus, dari, ini]</td>\n",
              "      <td>[jurasik, park, bagus]</td>\n",
              "    </tr>\n",
              "  </tbody>\n",
              "</table>\n",
              "</div>"
            ],
            "text/plain": [
              "      tanggal       jam                        username  \\\n",
              "0  2025-08-28  08:45:34                    syafeqah1990   \n",
              "1  2025-08-28  08:29:35                  husnanurul-m6h   \n",
              "2  2025-08-28  08:14:10                       alvinoawp   \n",
              "3  2025-08-28  07:56:15               arkanpradipta8934   \n",
              "4  2025-08-28  07:50:36  galangadimaskhrisnaherlamb4053   \n",
              "\n",
              "                                        komentarBaru  likeCount  \\\n",
              "0                           Cartoon ni masuk pawagam          0   \n",
              "1  ini yg katanya film mengeluarkan dan sampe mil...          0   \n",
              "2                        Burung nya suara monyet cok          0   \n",
              "3                                   apalah ada AMK M          0   \n",
              "4      bahkan jurasik park      lebih bagus dari ini          1   \n",
              "\n",
              "                                        case_folding  \\\n",
              "0                           cartoon ni masuk pawagam   \n",
              "1  ini yg katanya film mengeluarkan dan sampe mil...   \n",
              "2                        burung nya suara monyet cok   \n",
              "3                                   apalah ada amk m   \n",
              "4      bahkan jurasik park      lebih bagus dari ini   \n",
              "\n",
              "                                         normalisasi  \\\n",
              "0                          cartoon ini masuk pawagam   \n",
              "1  ini yang katanya film mengeluarkan dan sampai ...   \n",
              "2                        burung nya suara monyet cok   \n",
              "3                                apalah ada amk sama   \n",
              "4           bahkan jurasik park lebih bagus dari ini   \n",
              "\n",
              "                                            tokenize  \\\n",
              "0                     [cartoon, ini, masuk, pawagam]   \n",
              "1  [ini, yang, katanya, film, mengeluarkan, dan, ...   \n",
              "2                  [burung, nya, suara, monyet, cok]   \n",
              "3                           [apalah, ada, amk, sama]   \n",
              "4   [bahkan, jurasik, park, lebih, bagus, dari, ini]   \n",
              "\n",
              "                                    stopword removal  \n",
              "0                          [cartoon, masuk, pawagam]  \n",
              "1  [film, mengeluarkan, miliyaran, film, game, an...  \n",
              "2                  [burung, nya, suara, monyet, cok]  \n",
              "3                                      [apalah, amk]  \n",
              "4                             [jurasik, park, bagus]  "
            ]
          },
          "execution_count": 349,
          "metadata": {},
          "output_type": "execute_result"
        }
      ],
      "source": [
        "def remove_stopwords(text):\n",
        "  return [word for word in text if word not in stop_words]\n",
        "\n",
        "df['stopword removal'] = df['tokenize'].apply(lambda x: remove_stopwords(x))\n",
        "df.head(5)"
      ]
    },
    {
      "cell_type": "code",
      "execution_count": 350,
      "metadata": {
        "colab": {
          "base_uri": "https://localhost:8080/"
        },
        "id": "3o_ly6s_xSIJ",
        "outputId": "ccde46b9-e9de-47e8-dc80-f956f34901d6"
      },
      "outputs": [
        {
          "name": "stdout",
          "output_type": "stream",
          "text": [
            "Requirement already satisfied: Sastrawi in c:\\users\\hp\\anaconda3\\envs\\dl\\lib\\site-packages (1.0.1)\n"
          ]
        }
      ],
      "source": [
        "# Proses steaming data\n",
        "!pip install Sastrawi"
      ]
    },
    {
      "cell_type": "code",
      "execution_count": 351,
      "metadata": {
        "id": "eSNd9AnyxVPk"
      },
      "outputs": [],
      "source": [
        "from Sastrawi.Stemmer.StemmerFactory import StemmerFactory\n",
        "from nltk.stem import PorterStemmer\n",
        "from nltk.stem.snowball import SnowballStemmer"
      ]
    },
    {
      "cell_type": "code",
      "execution_count": 352,
      "metadata": {
        "colab": {
          "base_uri": "https://localhost:8080/",
          "height": 293
        },
        "id": "iI0HQ4kJxlOP",
        "outputId": "44e849ec-47aa-4b03-f1d1-a96a73d86887"
      },
      "outputs": [
        {
          "data": {
            "application/vnd.microsoft.datawrangler.viewer.v0+json": {
              "columns": [
                {
                  "name": "index",
                  "rawType": "int64",
                  "type": "integer"
                },
                {
                  "name": "tanggal",
                  "rawType": "object",
                  "type": "unknown"
                },
                {
                  "name": "jam",
                  "rawType": "object",
                  "type": "unknown"
                },
                {
                  "name": "username",
                  "rawType": "object",
                  "type": "string"
                },
                {
                  "name": "komentarBaru",
                  "rawType": "object",
                  "type": "string"
                },
                {
                  "name": "likeCount",
                  "rawType": "int64",
                  "type": "integer"
                },
                {
                  "name": "case_folding",
                  "rawType": "object",
                  "type": "string"
                },
                {
                  "name": "normalisasi",
                  "rawType": "object",
                  "type": "string"
                },
                {
                  "name": "tokenize",
                  "rawType": "object",
                  "type": "unknown"
                },
                {
                  "name": "stopword removal",
                  "rawType": "object",
                  "type": "unknown"
                },
                {
                  "name": "stemming",
                  "rawType": "object",
                  "type": "string"
                }
              ],
              "ref": "5b54bbed-c746-492a-9c52-5ddcb8530989",
              "rows": [
                [
                  "0",
                  "2025-08-28",
                  "08:45:34",
                  "syafeqah1990",
                  "Cartoon ni masuk pawagam",
                  "0",
                  "cartoon ni masuk pawagam",
                  "cartoon ini masuk pawagam",
                  "['cartoon', 'ini', 'masuk', 'pawagam']",
                  "['cartoon', 'masuk', 'pawagam']",
                  "cartoon masuk pawagam"
                ],
                [
                  "1",
                  "2025-08-28",
                  "08:29:35",
                  "husnanurul-m6h",
                  "ini yg katanya film mengeluarkan dan sampe miliyaran ini film apa game android karakter kaku garfik buriqq nonton filem ini serasa nonton game ank kecil",
                  "0",
                  "ini yg katanya film mengeluarkan dan sampe miliyaran ini film apa game android karakter kaku garfik buriqq nonton filem ini serasa nonton game ank kecil",
                  "ini yang katanya film mengeluarkan dan sampai miliyaran ini film apa game android karakter kaku grafik buriqq menonton film ini serasa menonton game anak kecil",
                  "['ini', 'yang', 'katanya', 'film', 'mengeluarkan', 'dan', 'sampai', 'miliyaran', 'ini', 'film', 'apa', 'game', 'android', 'karakter', 'kaku', 'grafik', 'buriqq', 'menonton', 'film', 'ini', 'serasa', 'menonton', 'game', 'anak', 'kecil']",
                  "['film', 'mengeluarkan', 'miliyaran', 'film', 'game', 'android', 'karakter', 'kaku', 'grafik', 'buriqq', 'menonton', 'film', 'serasa', 'menonton', 'game', 'anak']",
                  "film keluar miliyaran film game android karakter kaku grafik buriqq tonton film serasa tonton game anak"
                ],
                [
                  "2",
                  "2025-08-28",
                  "08:14:10",
                  "alvinoawp",
                  "Burung nya suara monyet cok",
                  "0",
                  "burung nya suara monyet cok",
                  "burung nya suara monyet cok",
                  "['burung', 'nya', 'suara', 'monyet', 'cok']",
                  "['burung', 'nya', 'suara', 'monyet', 'cok']",
                  "burung nya suara monyet cok"
                ],
                [
                  "3",
                  "2025-08-28",
                  "07:56:15",
                  "arkanpradipta8934",
                  "apalah ada AMK M",
                  "0",
                  "apalah ada amk m",
                  "apalah ada amk sama",
                  "['apalah', 'ada', 'amk', 'sama']",
                  "['apalah', 'amk']",
                  "apa amk"
                ],
                [
                  "4",
                  "2025-08-28",
                  "07:50:36",
                  "galangadimaskhrisnaherlamb4053",
                  "bahkan jurasik park      lebih bagus dari ini",
                  "1",
                  "bahkan jurasik park      lebih bagus dari ini",
                  "bahkan jurasik park lebih bagus dari ini",
                  "['bahkan', 'jurasik', 'park', 'lebih', 'bagus', 'dari', 'ini']",
                  "['jurasik', 'park', 'bagus']",
                  "jurasik park bagus"
                ]
              ],
              "shape": {
                "columns": 10,
                "rows": 5
              }
            },
            "text/html": [
              "<div>\n",
              "<style scoped>\n",
              "    .dataframe tbody tr th:only-of-type {\n",
              "        vertical-align: middle;\n",
              "    }\n",
              "\n",
              "    .dataframe tbody tr th {\n",
              "        vertical-align: top;\n",
              "    }\n",
              "\n",
              "    .dataframe thead th {\n",
              "        text-align: right;\n",
              "    }\n",
              "</style>\n",
              "<table border=\"1\" class=\"dataframe\">\n",
              "  <thead>\n",
              "    <tr style=\"text-align: right;\">\n",
              "      <th></th>\n",
              "      <th>tanggal</th>\n",
              "      <th>jam</th>\n",
              "      <th>username</th>\n",
              "      <th>komentarBaru</th>\n",
              "      <th>likeCount</th>\n",
              "      <th>case_folding</th>\n",
              "      <th>normalisasi</th>\n",
              "      <th>tokenize</th>\n",
              "      <th>stopword removal</th>\n",
              "      <th>stemming</th>\n",
              "    </tr>\n",
              "  </thead>\n",
              "  <tbody>\n",
              "    <tr>\n",
              "      <th>0</th>\n",
              "      <td>2025-08-28</td>\n",
              "      <td>08:45:34</td>\n",
              "      <td>syafeqah1990</td>\n",
              "      <td>Cartoon ni masuk pawagam</td>\n",
              "      <td>0</td>\n",
              "      <td>cartoon ni masuk pawagam</td>\n",
              "      <td>cartoon ini masuk pawagam</td>\n",
              "      <td>[cartoon, ini, masuk, pawagam]</td>\n",
              "      <td>[cartoon, masuk, pawagam]</td>\n",
              "      <td>cartoon masuk pawagam</td>\n",
              "    </tr>\n",
              "    <tr>\n",
              "      <th>1</th>\n",
              "      <td>2025-08-28</td>\n",
              "      <td>08:29:35</td>\n",
              "      <td>husnanurul-m6h</td>\n",
              "      <td>ini yg katanya film mengeluarkan dan sampe mil...</td>\n",
              "      <td>0</td>\n",
              "      <td>ini yg katanya film mengeluarkan dan sampe mil...</td>\n",
              "      <td>ini yang katanya film mengeluarkan dan sampai ...</td>\n",
              "      <td>[ini, yang, katanya, film, mengeluarkan, dan, ...</td>\n",
              "      <td>[film, mengeluarkan, miliyaran, film, game, an...</td>\n",
              "      <td>film keluar miliyaran film game android karakt...</td>\n",
              "    </tr>\n",
              "    <tr>\n",
              "      <th>2</th>\n",
              "      <td>2025-08-28</td>\n",
              "      <td>08:14:10</td>\n",
              "      <td>alvinoawp</td>\n",
              "      <td>Burung nya suara monyet cok</td>\n",
              "      <td>0</td>\n",
              "      <td>burung nya suara monyet cok</td>\n",
              "      <td>burung nya suara monyet cok</td>\n",
              "      <td>[burung, nya, suara, monyet, cok]</td>\n",
              "      <td>[burung, nya, suara, monyet, cok]</td>\n",
              "      <td>burung nya suara monyet cok</td>\n",
              "    </tr>\n",
              "    <tr>\n",
              "      <th>3</th>\n",
              "      <td>2025-08-28</td>\n",
              "      <td>07:56:15</td>\n",
              "      <td>arkanpradipta8934</td>\n",
              "      <td>apalah ada AMK M</td>\n",
              "      <td>0</td>\n",
              "      <td>apalah ada amk m</td>\n",
              "      <td>apalah ada amk sama</td>\n",
              "      <td>[apalah, ada, amk, sama]</td>\n",
              "      <td>[apalah, amk]</td>\n",
              "      <td>apa amk</td>\n",
              "    </tr>\n",
              "    <tr>\n",
              "      <th>4</th>\n",
              "      <td>2025-08-28</td>\n",
              "      <td>07:50:36</td>\n",
              "      <td>galangadimaskhrisnaherlamb4053</td>\n",
              "      <td>bahkan jurasik park      lebih bagus dari ini</td>\n",
              "      <td>1</td>\n",
              "      <td>bahkan jurasik park      lebih bagus dari ini</td>\n",
              "      <td>bahkan jurasik park lebih bagus dari ini</td>\n",
              "      <td>[bahkan, jurasik, park, lebih, bagus, dari, ini]</td>\n",
              "      <td>[jurasik, park, bagus]</td>\n",
              "      <td>jurasik park bagus</td>\n",
              "    </tr>\n",
              "  </tbody>\n",
              "</table>\n",
              "</div>"
            ],
            "text/plain": [
              "      tanggal       jam                        username  \\\n",
              "0  2025-08-28  08:45:34                    syafeqah1990   \n",
              "1  2025-08-28  08:29:35                  husnanurul-m6h   \n",
              "2  2025-08-28  08:14:10                       alvinoawp   \n",
              "3  2025-08-28  07:56:15               arkanpradipta8934   \n",
              "4  2025-08-28  07:50:36  galangadimaskhrisnaherlamb4053   \n",
              "\n",
              "                                        komentarBaru  likeCount  \\\n",
              "0                           Cartoon ni masuk pawagam          0   \n",
              "1  ini yg katanya film mengeluarkan dan sampe mil...          0   \n",
              "2                        Burung nya suara monyet cok          0   \n",
              "3                                   apalah ada AMK M          0   \n",
              "4      bahkan jurasik park      lebih bagus dari ini          1   \n",
              "\n",
              "                                        case_folding  \\\n",
              "0                           cartoon ni masuk pawagam   \n",
              "1  ini yg katanya film mengeluarkan dan sampe mil...   \n",
              "2                        burung nya suara monyet cok   \n",
              "3                                   apalah ada amk m   \n",
              "4      bahkan jurasik park      lebih bagus dari ini   \n",
              "\n",
              "                                         normalisasi  \\\n",
              "0                          cartoon ini masuk pawagam   \n",
              "1  ini yang katanya film mengeluarkan dan sampai ...   \n",
              "2                        burung nya suara monyet cok   \n",
              "3                                apalah ada amk sama   \n",
              "4           bahkan jurasik park lebih bagus dari ini   \n",
              "\n",
              "                                            tokenize  \\\n",
              "0                     [cartoon, ini, masuk, pawagam]   \n",
              "1  [ini, yang, katanya, film, mengeluarkan, dan, ...   \n",
              "2                  [burung, nya, suara, monyet, cok]   \n",
              "3                           [apalah, ada, amk, sama]   \n",
              "4   [bahkan, jurasik, park, lebih, bagus, dari, ini]   \n",
              "\n",
              "                                    stopword removal  \\\n",
              "0                          [cartoon, masuk, pawagam]   \n",
              "1  [film, mengeluarkan, miliyaran, film, game, an...   \n",
              "2                  [burung, nya, suara, monyet, cok]   \n",
              "3                                      [apalah, amk]   \n",
              "4                             [jurasik, park, bagus]   \n",
              "\n",
              "                                            stemming  \n",
              "0                              cartoon masuk pawagam  \n",
              "1  film keluar miliyaran film game android karakt...  \n",
              "2                        burung nya suara monyet cok  \n",
              "3                                            apa amk  \n",
              "4                                 jurasik park bagus  "
            ]
          },
          "execution_count": 352,
          "metadata": {},
          "output_type": "execute_result"
        }
      ],
      "source": [
        "factory = StemmerFactory()\n",
        "stemmer = factory.create_stemmer()\n",
        "\n",
        "def stem_text(text):\n",
        "  return [stemmer.stem(word) for word in text]\n",
        "\n",
        "df['stemming'] = df['stopword removal'].apply(lambda x: ' '.join(stem_text(x)))\n",
        "df.head(5)\n"
      ]
    },
    {
      "cell_type": "code",
      "execution_count": 353,
      "metadata": {
        "colab": {
          "base_uri": "https://localhost:8080/"
        },
        "id": "qHUiHEmcyBaf",
        "outputId": "703f8112-8691-4d21-f448-95c7fd4e7d82"
      },
      "outputs": [
        {
          "name": "stdout",
          "output_type": "stream",
          "text": [
            "<class 'pandas.core.frame.DataFrame'>\n",
            "Index: 4640 entries, 0 to 4755\n",
            "Data columns (total 10 columns):\n",
            " #   Column            Non-Null Count  Dtype \n",
            "---  ------            --------------  ----- \n",
            " 0   tanggal           4640 non-null   object\n",
            " 1   jam               4640 non-null   object\n",
            " 2   username          4640 non-null   object\n",
            " 3   komentarBaru      4640 non-null   object\n",
            " 4   likeCount         4640 non-null   int64 \n",
            " 5   case_folding      4640 non-null   object\n",
            " 6   normalisasi       4640 non-null   object\n",
            " 7   tokenize          4640 non-null   object\n",
            " 8   stopword removal  4640 non-null   object\n",
            " 9   stemming          4640 non-null   object\n",
            "dtypes: int64(1), object(9)\n",
            "memory usage: 398.8+ KB\n"
          ]
        }
      ],
      "source": [
        "df = df.dropna()\n",
        "df.info()"
      ]
    },
    {
      "cell_type": "code",
      "execution_count": 354,
      "metadata": {
        "colab": {
          "base_uri": "https://localhost:8080/",
          "height": 422
        },
        "id": "WhlqO60AzQoN",
        "outputId": "a6803cb4-8a36-445c-d209-ec11d3f0252d"
      },
      "outputs": [
        {
          "data": {
            "image/png": "[encoded data removed]",
            "text/plain": [
              "<Figure size 1000x500 with 1 Axes>"
            ]
          },
          "metadata": {},
          "output_type": "display_data"
        }
      ],
      "source": [
        "from PIL import Image\n",
        "from wordcloud import WordCloud, STOPWORDS, ImageColorGenerator\n",
        "\n",
        "\n",
        "# Menggabungkan teks dari kolom 'steming_data'\n",
        "text = ' '.join(df['stemming'].astype(str).tolist())\n",
        "\n",
        "stopwords = set(STOPWORDS)\n",
        "stopwords.update(['https', 'co', 'RT', '...', 'amp','kak','deh','fyp', 'ya', 'gue', 'sih','yg','nya','aja','sdh','gak','ga','dm'])\n",
        "\n",
        "wc = WordCloud(stopwords=stopwords, background_color=\"white\", max_words=500, width=800, height=400)\n",
        "\n",
        "wc.generate(text)\n",
        "\n",
        "plt.figure(figsize=(10, 5))\n",
        "plt.imshow(wc, interpolation='bilinear')\n",
        "plt.axis(\"off\")\n",
        "plt.show()"
      ]
    },
    {
      "cell_type": "code",
      "execution_count": 355,
      "metadata": {
        "colab": {
          "base_uri": "https://localhost:8080/",
          "height": 507
        },
        "id": "2Vy7E74VzRxa",
        "outputId": "ffb7c3c9-70ec-4d7c-f491-3826dec38681"
      },
      "outputs": [
        {
          "data": {
            "image/png": "[encoded data removed]",
            "text/plain": [
              "<Figure size 1200x500 with 1 Axes>"
            ]
          },
          "metadata": {},
          "output_type": "display_data"
        }
      ],
      "source": [
        "from collections import Counter\n",
        "from wordcloud import STOPWORDS\n",
        "\n",
        "all_text = ' '.join(df[\"stemming\"].astype(str))\n",
        "all_words = all_text.split()\n",
        "\n",
        "\n",
        "stopwords = set(STOPWORDS)\n",
        "stopwords.update(['https', 'co', 'RT', '...', 'amp', 'kak', 'deh', 'fyp', 'ya', 'gue', 'sih', 'yg', 'nya', 'aja', 'sdh', 'gak', 'ga','dm'])\n",
        "\n",
        "filtered_words = [word for word in all_words if word.lower() not in stopwords]\n",
        "word_counts = Counter(filtered_words)\n",
        "top_words = word_counts.most_common(10)\n",
        "word, count = zip(*top_words)\n",
        "\n",
        "colors = plt.cm.Pastel1(range(len(word)))\n",
        "\n",
        "# Plot\n",
        "plt.figure(figsize=(12, 5))\n",
        "bars = plt.bar(word, count, color=colors)\n",
        "plt.xlabel(\"Kata-Kata Sering Muncul\", fontsize=12, fontweight='bold')\n",
        "plt.ylabel(\"Jumlah Kata\", fontsize=12, fontweight='bold')\n",
        "plt.title(\"Frekuensi Kata\", fontsize=18, fontweight='bold')\n",
        "plt.xticks(rotation=45)\n",
        "\n",
        "# Tampilkan jumlah di atas bar\n",
        "for bar, num in zip(bars, count):\n",
        "    plt.text(bar.get_x() + bar.get_width() / 2, num + 1, str(num), fontsize=12, color='black', ha='center')\n",
        "\n",
        "plt.tight_layout()\n",
        "plt.show()"
      ]
    },
    {
      "cell_type": "code",
      "execution_count": 356,
      "metadata": {
        "id": "5gcq1XkhzT9G"
      },
      "outputs": [],
      "source": [
        "df.to_csv('../data/Hasil_Preprocessing_Data.csv',encoding='utf8', index=False)"
      ]
    },
    {
      "cell_type": "code",
      "execution_count": 357,
      "metadata": {
        "id": "l0WzRpT45GJJ"
      },
      "outputs": [],
      "source": [
        "data = pd.read_csv('../data/Hasil_Preprocessing_Data.csv')"
      ]
    },
    {
      "cell_type": "code",
      "execution_count": 358,
      "metadata": {
        "colab": {
          "base_uri": "https://localhost:8080/",
          "height": 537
        },
        "id": "nVPLGXZE7Wb2",
        "outputId": "2323fdd5-3cd0-4719-9d11-36c2d187f6d8"
      },
      "outputs": [
        {
          "data": {
            "application/vnd.microsoft.datawrangler.viewer.v0+json": {
              "columns": [
                {
                  "name": "index",
                  "rawType": "int64",
                  "type": "integer"
                },
                {
                  "name": "tanggal",
                  "rawType": "object",
                  "type": "string"
                },
                {
                  "name": "jam",
                  "rawType": "object",
                  "type": "string"
                },
                {
                  "name": "username",
                  "rawType": "object",
                  "type": "string"
                },
                {
                  "name": "komentarBaru",
                  "rawType": "object",
                  "type": "unknown"
                },
                {
                  "name": "likeCount",
                  "rawType": "int64",
                  "type": "integer"
                },
                {
                  "name": "case_folding",
                  "rawType": "object",
                  "type": "unknown"
                },
                {
                  "name": "normalisasi",
                  "rawType": "object",
                  "type": "unknown"
                },
                {
                  "name": "tokenize",
                  "rawType": "object",
                  "type": "string"
                },
                {
                  "name": "stopword removal",
                  "rawType": "object",
                  "type": "string"
                },
                {
                  "name": "stemming",
                  "rawType": "object",
                  "type": "unknown"
                }
              ],
              "ref": "d929628e-8f68-416d-8572-c1262e7b435d",
              "rows": [
                [
                  "163",
                  "2025-08-26",
                  "10:39:08",
                  "hannyssss",
                  "Duniya bukan maju malah mudur sama suaranya bedaya    Burung ko suaranya  moyet ya",
                  "1",
                  "duniya bukan maju malah mudur sama suaranya bedaya    burung ko suaranya  moyet ya",
                  "duniya bukan maju malah mudur sama suaranya bedaya burung kok suaranya moyet ya",
                  "['duniya', 'bukan', 'maju', 'malah', 'mudur', 'sama', 'suaranya', 'bedaya', 'burung', 'kok', 'suaranya', 'moyet', 'ya']",
                  "['duniya', 'maju', 'mudur', 'suaranya', 'bedaya', 'burung', 'suaranya', 'moyet', 'ya']",
                  "duniya maju mudur suara bedaya burung suara moyet ya"
                ],
                [
                  "3645",
                  "2025-08-15",
                  "03:09:07",
                  "somasja",
                  "Bikin kok gini",
                  "0",
                  "bikin kok gini",
                  "membuat kok begini",
                  "['membuat', 'kok', 'begini']",
                  "[]",
                  null
                ],
                [
                  "65",
                  "2025-08-27",
                  "12:41:52",
                  "fitrirusdiana3840",
                  "kartel jir",
                  "0",
                  "kartel jir",
                  "kartel jir",
                  "['kartel', 'jir']",
                  "['kartel', 'jir']",
                  "kartel jir"
                ],
                [
                  "4380",
                  "2025-08-14",
                  "04:23:41",
                  "yotoyusup290",
                  "ini serius tayang di bioskopmalu sama upin ipin oii",
                  "0",
                  "ini serius tayang di bioskopmalu sama upin ipin oii",
                  "ini serius tayang di bioskopmalu sama upin ipin oii",
                  "['ini', 'serius', 'tayang', 'di', 'bioskopmalu', 'sama', 'upin', 'ipin', 'oii']",
                  "['serius', 'tayang', 'bioskopmalu', 'upin', 'ipin', 'oii']",
                  "serius tayang bioskopmalu upin ipin oii"
                ],
                [
                  "1544",
                  "2025-08-19",
                  "06:54:38",
                  "farisghalib7695",
                  "Ooooo ini film    Kirain tugas kelompok SMK",
                  "0",
                  "ooooo ini film    kirain tugas kelompok smk",
                  "ooooo ini film mengira tugas kelompok smk",
                  "['ooooo', 'ini', 'film', 'mengira', 'tugas', 'kelompok', 'smk']",
                  "['ooooo', 'film', 'tugas', 'kelompok', 'smk']",
                  "ooooo film tugas kelompok smk"
                ],
                [
                  "2718",
                  "2025-08-16",
                  "14:48:27",
                  "mamiemka6021",
                  null,
                  "0",
                  null,
                  null,
                  "[]",
                  "[]",
                  null
                ],
                [
                  "3486",
                  "2025-08-15",
                  "08:56:39",
                  "vaelstromzy",
                  "pakai duit miliaran cuma untuk ini sybau",
                  "1",
                  "pakai duit miliaran cuma untuk ini sybau",
                  "pakai duit miliaran cuma untuk ini sybau",
                  "['pakai', 'duit', 'miliaran', 'cuma', 'untuk', 'ini', 'sybau']",
                  "['pakai', 'duit', 'miliaran', 'sybau']",
                  "pakai duit miliar sybau"
                ],
                [
                  "2294",
                  "2025-08-17",
                  "13:29:03",
                  "ratnasetiawati1640",
                  "Sybau",
                  "0",
                  "sybau",
                  "sybau",
                  "['sybau']",
                  "['sybau']",
                  "sybau"
                ],
                [
                  "3707",
                  "2025-08-15",
                  "00:38:35",
                  "keepclickin.",
                  "Acara    agustus di markas opm",
                  "2",
                  "acara    agustus di markas opm",
                  "acara agustus di markas opm",
                  "['acara', 'agustus', 'di', 'markas', 'opm']",
                  "['acara', 'agustus', 'markas', 'opm']",
                  "acara agustus markas opm"
                ],
                [
                  "2811",
                  "2025-08-16",
                  "11:19:11",
                  "herdiansyahesc8667",
                  "Haduhhh",
                  "0",
                  "haduhhh",
                  "haduhhh",
                  "['haduhhh']",
                  "['haduhhh']",
                  "haduhhh"
                ]
              ],
              "shape": {
                "columns": 10,
                "rows": 10
              }
            },
            "text/html": [
              "<div>\n",
              "<style scoped>\n",
              "    .dataframe tbody tr th:only-of-type {\n",
              "        vertical-align: middle;\n",
              "    }\n",
              "\n",
              "    .dataframe tbody tr th {\n",
              "        vertical-align: top;\n",
              "    }\n",
              "\n",
              "    .dataframe thead th {\n",
              "        text-align: right;\n",
              "    }\n",
              "</style>\n",
              "<table border=\"1\" class=\"dataframe\">\n",
              "  <thead>\n",
              "    <tr style=\"text-align: right;\">\n",
              "      <th></th>\n",
              "      <th>tanggal</th>\n",
              "      <th>jam</th>\n",
              "      <th>username</th>\n",
              "      <th>komentarBaru</th>\n",
              "      <th>likeCount</th>\n",
              "      <th>case_folding</th>\n",
              "      <th>normalisasi</th>\n",
              "      <th>tokenize</th>\n",
              "      <th>stopword removal</th>\n",
              "      <th>stemming</th>\n",
              "    </tr>\n",
              "  </thead>\n",
              "  <tbody>\n",
              "    <tr>\n",
              "      <th>163</th>\n",
              "      <td>2025-08-26</td>\n",
              "      <td>10:39:08</td>\n",
              "      <td>hannyssss</td>\n",
              "      <td>Duniya bukan maju malah mudur sama suaranya be...</td>\n",
              "      <td>1</td>\n",
              "      <td>duniya bukan maju malah mudur sama suaranya be...</td>\n",
              "      <td>duniya bukan maju malah mudur sama suaranya be...</td>\n",
              "      <td>['duniya', 'bukan', 'maju', 'malah', 'mudur', ...</td>\n",
              "      <td>['duniya', 'maju', 'mudur', 'suaranya', 'beday...</td>\n",
              "      <td>duniya maju mudur suara bedaya burung suara mo...</td>\n",
              "    </tr>\n",
              "    <tr>\n",
              "      <th>3645</th>\n",
              "      <td>2025-08-15</td>\n",
              "      <td>03:09:07</td>\n",
              "      <td>somasja</td>\n",
              "      <td>Bikin kok gini</td>\n",
              "      <td>0</td>\n",
              "      <td>bikin kok gini</td>\n",
              "      <td>membuat kok begini</td>\n",
              "      <td>['membuat', 'kok', 'begini']</td>\n",
              "      <td>[]</td>\n",
              "      <td>NaN</td>\n",
              "    </tr>\n",
              "    <tr>\n",
              "      <th>65</th>\n",
              "      <td>2025-08-27</td>\n",
              "      <td>12:41:52</td>\n",
              "      <td>fitrirusdiana3840</td>\n",
              "      <td>kartel jir</td>\n",
              "      <td>0</td>\n",
              "      <td>kartel jir</td>\n",
              "      <td>kartel jir</td>\n",
              "      <td>['kartel', 'jir']</td>\n",
              "      <td>['kartel', 'jir']</td>\n",
              "      <td>kartel jir</td>\n",
              "    </tr>\n",
              "    <tr>\n",
              "      <th>4380</th>\n",
              "      <td>2025-08-14</td>\n",
              "      <td>04:23:41</td>\n",
              "      <td>yotoyusup290</td>\n",
              "      <td>ini serius tayang di bioskopmalu sama upin ipi...</td>\n",
              "      <td>0</td>\n",
              "      <td>ini serius tayang di bioskopmalu sama upin ipi...</td>\n",
              "      <td>ini serius tayang di bioskopmalu sama upin ipi...</td>\n",
              "      <td>['ini', 'serius', 'tayang', 'di', 'bioskopmalu...</td>\n",
              "      <td>['serius', 'tayang', 'bioskopmalu', 'upin', 'i...</td>\n",
              "      <td>serius tayang bioskopmalu upin ipin oii</td>\n",
              "    </tr>\n",
              "    <tr>\n",
              "      <th>1544</th>\n",
              "      <td>2025-08-19</td>\n",
              "      <td>06:54:38</td>\n",
              "      <td>farisghalib7695</td>\n",
              "      <td>Ooooo ini film    Kirain tugas kelompok SMK</td>\n",
              "      <td>0</td>\n",
              "      <td>ooooo ini film    kirain tugas kelompok smk</td>\n",
              "      <td>ooooo ini film mengira tugas kelompok smk</td>\n",
              "      <td>['ooooo', 'ini', 'film', 'mengira', 'tugas', '...</td>\n",
              "      <td>['ooooo', 'film', 'tugas', 'kelompok', 'smk']</td>\n",
              "      <td>ooooo film tugas kelompok smk</td>\n",
              "    </tr>\n",
              "    <tr>\n",
              "      <th>2718</th>\n",
              "      <td>2025-08-16</td>\n",
              "      <td>14:48:27</td>\n",
              "      <td>mamiemka6021</td>\n",
              "      <td>NaN</td>\n",
              "      <td>0</td>\n",
              "      <td>NaN</td>\n",
              "      <td>NaN</td>\n",
              "      <td>[]</td>\n",
              "      <td>[]</td>\n",
              "      <td>NaN</td>\n",
              "    </tr>\n",
              "    <tr>\n",
              "      <th>3486</th>\n",
              "      <td>2025-08-15</td>\n",
              "      <td>08:56:39</td>\n",
              "      <td>vaelstromzy</td>\n",
              "      <td>pakai duit miliaran cuma untuk ini sybau</td>\n",
              "      <td>1</td>\n",
              "      <td>pakai duit miliaran cuma untuk ini sybau</td>\n",
              "      <td>pakai duit miliaran cuma untuk ini sybau</td>\n",
              "      <td>['pakai', 'duit', 'miliaran', 'cuma', 'untuk',...</td>\n",
              "      <td>['pakai', 'duit', 'miliaran', 'sybau']</td>\n",
              "      <td>pakai duit miliar sybau</td>\n",
              "    </tr>\n",
              "    <tr>\n",
              "      <th>2294</th>\n",
              "      <td>2025-08-17</td>\n",
              "      <td>13:29:03</td>\n",
              "      <td>ratnasetiawati1640</td>\n",
              "      <td>Sybau</td>\n",
              "      <td>0</td>\n",
              "      <td>sybau</td>\n",
              "      <td>sybau</td>\n",
              "      <td>['sybau']</td>\n",
              "      <td>['sybau']</td>\n",
              "      <td>sybau</td>\n",
              "    </tr>\n",
              "    <tr>\n",
              "      <th>3707</th>\n",
              "      <td>2025-08-15</td>\n",
              "      <td>00:38:35</td>\n",
              "      <td>keepclickin.</td>\n",
              "      <td>Acara    agustus di markas opm</td>\n",
              "      <td>2</td>\n",
              "      <td>acara    agustus di markas opm</td>\n",
              "      <td>acara agustus di markas opm</td>\n",
              "      <td>['acara', 'agustus', 'di', 'markas', 'opm']</td>\n",
              "      <td>['acara', 'agustus', 'markas', 'opm']</td>\n",
              "      <td>acara agustus markas opm</td>\n",
              "    </tr>\n",
              "    <tr>\n",
              "      <th>2811</th>\n",
              "      <td>2025-08-16</td>\n",
              "      <td>11:19:11</td>\n",
              "      <td>herdiansyahesc8667</td>\n",
              "      <td>Haduhhh</td>\n",
              "      <td>0</td>\n",
              "      <td>haduhhh</td>\n",
              "      <td>haduhhh</td>\n",
              "      <td>['haduhhh']</td>\n",
              "      <td>['haduhhh']</td>\n",
              "      <td>haduhhh</td>\n",
              "    </tr>\n",
              "  </tbody>\n",
              "</table>\n",
              "</div>"
            ],
            "text/plain": [
              "         tanggal       jam            username  \\\n",
              "163   2025-08-26  10:39:08           hannyssss   \n",
              "3645  2025-08-15  03:09:07             somasja   \n",
              "65    2025-08-27  12:41:52   fitrirusdiana3840   \n",
              "4380  2025-08-14  04:23:41        yotoyusup290   \n",
              "1544  2025-08-19  06:54:38     farisghalib7695   \n",
              "2718  2025-08-16  14:48:27        mamiemka6021   \n",
              "3486  2025-08-15  08:56:39         vaelstromzy   \n",
              "2294  2025-08-17  13:29:03  ratnasetiawati1640   \n",
              "3707  2025-08-15  00:38:35        keepclickin.   \n",
              "2811  2025-08-16  11:19:11  herdiansyahesc8667   \n",
              "\n",
              "                                           komentarBaru  likeCount  \\\n",
              "163   Duniya bukan maju malah mudur sama suaranya be...          1   \n",
              "3645                                     Bikin kok gini          0   \n",
              "65                                           kartel jir          0   \n",
              "4380  ini serius tayang di bioskopmalu sama upin ipi...          0   \n",
              "1544        Ooooo ini film    Kirain tugas kelompok SMK          0   \n",
              "2718                                                NaN          0   \n",
              "3486           pakai duit miliaran cuma untuk ini sybau          1   \n",
              "2294                                              Sybau          0   \n",
              "3707                     Acara    agustus di markas opm          2   \n",
              "2811                                            Haduhhh          0   \n",
              "\n",
              "                                           case_folding  \\\n",
              "163   duniya bukan maju malah mudur sama suaranya be...   \n",
              "3645                                     bikin kok gini   \n",
              "65                                           kartel jir   \n",
              "4380  ini serius tayang di bioskopmalu sama upin ipi...   \n",
              "1544        ooooo ini film    kirain tugas kelompok smk   \n",
              "2718                                                NaN   \n",
              "3486           pakai duit miliaran cuma untuk ini sybau   \n",
              "2294                                              sybau   \n",
              "3707                     acara    agustus di markas opm   \n",
              "2811                                            haduhhh   \n",
              "\n",
              "                                            normalisasi  \\\n",
              "163   duniya bukan maju malah mudur sama suaranya be...   \n",
              "3645                                 membuat kok begini   \n",
              "65                                           kartel jir   \n",
              "4380  ini serius tayang di bioskopmalu sama upin ipi...   \n",
              "1544          ooooo ini film mengira tugas kelompok smk   \n",
              "2718                                                NaN   \n",
              "3486           pakai duit miliaran cuma untuk ini sybau   \n",
              "2294                                              sybau   \n",
              "3707                        acara agustus di markas opm   \n",
              "2811                                            haduhhh   \n",
              "\n",
              "                                               tokenize  \\\n",
              "163   ['duniya', 'bukan', 'maju', 'malah', 'mudur', ...   \n",
              "3645                       ['membuat', 'kok', 'begini']   \n",
              "65                                    ['kartel', 'jir']   \n",
              "4380  ['ini', 'serius', 'tayang', 'di', 'bioskopmalu...   \n",
              "1544  ['ooooo', 'ini', 'film', 'mengira', 'tugas', '...   \n",
              "2718                                                 []   \n",
              "3486  ['pakai', 'duit', 'miliaran', 'cuma', 'untuk',...   \n",
              "2294                                          ['sybau']   \n",
              "3707        ['acara', 'agustus', 'di', 'markas', 'opm']   \n",
              "2811                                        ['haduhhh']   \n",
              "\n",
              "                                       stopword removal  \\\n",
              "163   ['duniya', 'maju', 'mudur', 'suaranya', 'beday...   \n",
              "3645                                                 []   \n",
              "65                                    ['kartel', 'jir']   \n",
              "4380  ['serius', 'tayang', 'bioskopmalu', 'upin', 'i...   \n",
              "1544      ['ooooo', 'film', 'tugas', 'kelompok', 'smk']   \n",
              "2718                                                 []   \n",
              "3486             ['pakai', 'duit', 'miliaran', 'sybau']   \n",
              "2294                                          ['sybau']   \n",
              "3707              ['acara', 'agustus', 'markas', 'opm']   \n",
              "2811                                        ['haduhhh']   \n",
              "\n",
              "                                               stemming  \n",
              "163   duniya maju mudur suara bedaya burung suara mo...  \n",
              "3645                                                NaN  \n",
              "65                                           kartel jir  \n",
              "4380            serius tayang bioskopmalu upin ipin oii  \n",
              "1544                      ooooo film tugas kelompok smk  \n",
              "2718                                                NaN  \n",
              "3486                            pakai duit miliar sybau  \n",
              "2294                                              sybau  \n",
              "3707                           acara agustus markas opm  \n",
              "2811                                            haduhhh  "
            ]
          },
          "execution_count": 358,
          "metadata": {},
          "output_type": "execute_result"
        }
      ],
      "source": [
        "data.sample(10)"
      ]
    },
    {
      "cell_type": "code",
      "execution_count": 359,
      "metadata": {
        "colab": {
          "base_uri": "https://localhost:8080/"
        },
        "id": "2mNlAW4I7YDe",
        "outputId": "f6fe4b3e-c33e-4f0c-85dc-d54e7b006d50"
      },
      "outputs": [
        {
          "name": "stdout",
          "output_type": "stream",
          "text": [
            "<class 'pandas.core.frame.DataFrame'>\n",
            "RangeIndex: 4640 entries, 0 to 4639\n",
            "Data columns (total 10 columns):\n",
            " #   Column            Non-Null Count  Dtype \n",
            "---  ------            --------------  ----- \n",
            " 0   tanggal           4640 non-null   object\n",
            " 1   jam               4640 non-null   object\n",
            " 2   username          4640 non-null   object\n",
            " 3   komentarBaru      4564 non-null   object\n",
            " 4   likeCount         4640 non-null   int64 \n",
            " 5   case_folding      4564 non-null   object\n",
            " 6   normalisasi       4563 non-null   object\n",
            " 7   tokenize          4640 non-null   object\n",
            " 8   stopword removal  4640 non-null   object\n",
            " 9   stemming          4514 non-null   object\n",
            "dtypes: int64(1), object(9)\n",
            "memory usage: 362.6+ KB\n"
          ]
        }
      ],
      "source": [
        "data.info()"
      ]
    },
    {
      "cell_type": "code",
      "execution_count": 360,
      "metadata": {},
      "outputs": [
        {
          "data": {
            "application/vnd.microsoft.datawrangler.viewer.v0+json": {
              "columns": [
                {
                  "name": "index",
                  "rawType": "object",
                  "type": "string"
                },
                {
                  "name": "0",
                  "rawType": "int64",
                  "type": "integer"
                }
              ],
              "ref": "e717da32-fa48-4669-a1f9-f7aff371f61e",
              "rows": [
                [
                  "tanggal",
                  "0"
                ],
                [
                  "jam",
                  "0"
                ],
                [
                  "username",
                  "0"
                ],
                [
                  "komentarBaru",
                  "76"
                ],
                [
                  "likeCount",
                  "0"
                ],
                [
                  "case_folding",
                  "76"
                ],
                [
                  "normalisasi",
                  "77"
                ],
                [
                  "tokenize",
                  "0"
                ],
                [
                  "stopword removal",
                  "0"
                ],
                [
                  "stemming",
                  "126"
                ]
              ],
              "shape": {
                "columns": 1,
                "rows": 10
              }
            },
            "text/plain": [
              "tanggal               0\n",
              "jam                   0\n",
              "username              0\n",
              "komentarBaru         76\n",
              "likeCount             0\n",
              "case_folding         76\n",
              "normalisasi          77\n",
              "tokenize              0\n",
              "stopword removal      0\n",
              "stemming            126\n",
              "dtype: int64"
            ]
          },
          "execution_count": 360,
          "metadata": {},
          "output_type": "execute_result"
        }
      ],
      "source": [
        "data.isna().sum()"
      ]
    },
    {
      "cell_type": "code",
      "execution_count": 361,
      "metadata": {
        "id": "JYL2ecnh7dl-"
      },
      "outputs": [],
      "source": [
        "data.dropna(inplace=True)"
      ]
    },
    {
      "cell_type": "code",
      "execution_count": 362,
      "metadata": {
        "colab": {
          "base_uri": "https://localhost:8080/"
        },
        "id": "ja2G304R7mC0",
        "outputId": "15373997-bf98-4c24-8166-1b5ea3ce077b"
      },
      "outputs": [
        {
          "name": "stdout",
          "output_type": "stream",
          "text": [
            "<class 'pandas.core.frame.DataFrame'>\n",
            "Index: 4514 entries, 0 to 4638\n",
            "Data columns (total 10 columns):\n",
            " #   Column            Non-Null Count  Dtype \n",
            "---  ------            --------------  ----- \n",
            " 0   tanggal           4514 non-null   object\n",
            " 1   jam               4514 non-null   object\n",
            " 2   username          4514 non-null   object\n",
            " 3   komentarBaru      4514 non-null   object\n",
            " 4   likeCount         4514 non-null   int64 \n",
            " 5   case_folding      4514 non-null   object\n",
            " 6   normalisasi       4514 non-null   object\n",
            " 7   tokenize          4514 non-null   object\n",
            " 8   stopword removal  4514 non-null   object\n",
            " 9   stemming          4514 non-null   object\n",
            "dtypes: int64(1), object(9)\n",
            "memory usage: 387.9+ KB\n"
          ]
        }
      ],
      "source": [
        "data.info()"
      ]
    },
    {
      "cell_type": "code",
      "execution_count": 363,
      "metadata": {
        "id": "0SszNeOA7nEt"
      },
      "outputs": [],
      "source": [
        "# Fungsi untuk menentukan sentimen\n",
        "def determine_sentiment(text):\n",
        "    positive_count = sum(1 for word in text.split() if word in positive_lexicon)\n",
        "    negative_count = sum(1 for word in text.split() if word in negative_lexicon)\n",
        "    if positive_count > negative_count:\n",
        "        return \"Positif\"\n",
        "    elif positive_count < negative_count:\n",
        "        return \"Negatif\"\n",
        "\n",
        "# Baca kamus leksikon positif dan negatif\n",
        "positive_lexicon = set(pd.read_csv(\"../data/positive.tsv\", sep=\"\\t\", header=None)[0])\n",
        "negative_lexicon = set(pd.read_csv(\"../data/negative.tsv\", sep=\"\\t\", header=None)[0])\n",
        "\n",
        "def replace_none_sentiment(sentiments):\n",
        "    replace_flag = \"Positif\"\n",
        "    for i in range(len(sentiments)):\n",
        "        if sentiments[i] is None:\n",
        "            sentiments[i] = replace_flag\n",
        "            replace_flag = \"Negatif\" if replace_flag == \"Positif\" else \"Positif\"\n",
        "    return sentiments\n",
        "\n",
        "data['sentiment'] = data['stemming'].apply(determine_sentiment)\n",
        "data['sentiment'] = replace_none_sentiment(data['sentiment'].tolist())"
      ]
    },
    {
      "cell_type": "code",
      "execution_count": 364,
      "metadata": {
        "colab": {
          "base_uri": "https://localhost:8080/",
          "height": 597
        },
        "id": "vAJJxDHaBFWU",
        "outputId": "16c2f0d2-1f3d-41eb-9538-603a7168d2a6"
      },
      "outputs": [
        {
          "data": {
            "application/vnd.microsoft.datawrangler.viewer.v0+json": {
              "columns": [
                {
                  "name": "index",
                  "rawType": "int64",
                  "type": "integer"
                },
                {
                  "name": "tanggal",
                  "rawType": "object",
                  "type": "string"
                },
                {
                  "name": "jam",
                  "rawType": "object",
                  "type": "string"
                },
                {
                  "name": "username",
                  "rawType": "object",
                  "type": "string"
                },
                {
                  "name": "komentarBaru",
                  "rawType": "object",
                  "type": "string"
                },
                {
                  "name": "likeCount",
                  "rawType": "int64",
                  "type": "integer"
                },
                {
                  "name": "case_folding",
                  "rawType": "object",
                  "type": "string"
                },
                {
                  "name": "normalisasi",
                  "rawType": "object",
                  "type": "string"
                },
                {
                  "name": "tokenize",
                  "rawType": "object",
                  "type": "string"
                },
                {
                  "name": "stopword removal",
                  "rawType": "object",
                  "type": "string"
                },
                {
                  "name": "stemming",
                  "rawType": "object",
                  "type": "string"
                },
                {
                  "name": "sentiment",
                  "rawType": "object",
                  "type": "string"
                }
              ],
              "ref": "02c0d9ac-70fc-466e-92d6-5848a8b53d86",
              "rows": [
                [
                  "0",
                  "2025-08-28",
                  "08:45:34",
                  "syafeqah1990",
                  "Cartoon ni masuk pawagam",
                  "0",
                  "cartoon ni masuk pawagam",
                  "cartoon ini masuk pawagam",
                  "['cartoon', 'ini', 'masuk', 'pawagam']",
                  "['cartoon', 'masuk', 'pawagam']",
                  "cartoon masuk pawagam",
                  "Negatif"
                ],
                [
                  "1",
                  "2025-08-28",
                  "08:29:35",
                  "husnanurul-m6h",
                  "ini yg katanya film mengeluarkan dan sampe miliyaran ini film apa game android karakter kaku garfik buriqq nonton filem ini serasa nonton game ank kecil",
                  "0",
                  "ini yg katanya film mengeluarkan dan sampe miliyaran ini film apa game android karakter kaku garfik buriqq nonton filem ini serasa nonton game ank kecil",
                  "ini yang katanya film mengeluarkan dan sampai miliyaran ini film apa game android karakter kaku grafik buriqq menonton film ini serasa menonton game anak kecil",
                  "['ini', 'yang', 'katanya', 'film', 'mengeluarkan', 'dan', 'sampai', 'miliyaran', 'ini', 'film', 'apa', 'game', 'android', 'karakter', 'kaku', 'grafik', 'buriqq', 'menonton', 'film', 'ini', 'serasa', 'menonton', 'game', 'anak', 'kecil']",
                  "['film', 'mengeluarkan', 'miliyaran', 'film', 'game', 'android', 'karakter', 'kaku', 'grafik', 'buriqq', 'menonton', 'film', 'serasa', 'menonton', 'game', 'anak']",
                  "film keluar miliyaran film game android karakter kaku grafik buriqq tonton film serasa tonton game anak",
                  "Negatif"
                ],
                [
                  "2",
                  "2025-08-28",
                  "08:14:10",
                  "alvinoawp",
                  "Burung nya suara monyet cok",
                  "0",
                  "burung nya suara monyet cok",
                  "burung nya suara monyet cok",
                  "['burung', 'nya', 'suara', 'monyet', 'cok']",
                  "['burung', 'nya', 'suara', 'monyet', 'cok']",
                  "burung nya suara monyet cok",
                  "Negatif"
                ],
                [
                  "3",
                  "2025-08-28",
                  "07:56:15",
                  "arkanpradipta8934",
                  "apalah ada AMK M",
                  "0",
                  "apalah ada amk m",
                  "apalah ada amk sama",
                  "['apalah', 'ada', 'amk', 'sama']",
                  "['apalah', 'amk']",
                  "apa amk",
                  "Negatif"
                ],
                [
                  "4",
                  "2025-08-28",
                  "07:50:36",
                  "galangadimaskhrisnaherlamb4053",
                  "bahkan jurasik park      lebih bagus dari ini",
                  "1",
                  "bahkan jurasik park      lebih bagus dari ini",
                  "bahkan jurasik park lebih bagus dari ini",
                  "['bahkan', 'jurasik', 'park', 'lebih', 'bagus', 'dari', 'ini']",
                  "['jurasik', 'park', 'bagus']",
                  "jurasik park bagus",
                  "Positif"
                ],
                [
                  "5",
                  "2025-08-28",
                  "07:46:02",
                  "cloweystar",
                  "national disgrace  even a daz d hntai is better than this",
                  "0",
                  "national disgrace  even a daz d hntai is better than this",
                  "national disgrace even a daz di hntai is better tahan this",
                  "['national', 'disgrace', 'even', 'a', 'daz', 'di', 'hntai', 'is', 'better', 'tahan', 'this']",
                  "['national', 'disgrace', 'even', 'a', 'daz', 'hntai', 'is', 'better', 'tahan', 'this']",
                  "national disgrace even a daz hntai is better tahan this",
                  "Negatif"
                ],
                [
                  "6",
                  "2025-08-28",
                  "07:32:15",
                  "haris1604-i3l",
                  "ASLI BURIQ  Lebih Bagus Grafik FREE FIRE",
                  "0",
                  "asli buriq  lebih bagus grafik free fire",
                  "asli buruk lebih bagus grafik free fire",
                  "['asli', 'buruk', 'lebih', 'bagus', 'grafik', 'free', 'fire']",
                  "['asli', 'buruk', 'bagus', 'grafik', 'free', 'fire']",
                  "asli buruk bagus grafik free fire",
                  "Positif"
                ],
                [
                  "7",
                  "2025-08-28",
                  "07:01:48",
                  "afikakorizen",
                  "berhyenti Jan lanjyut suaranya slay amat",
                  "0",
                  "berhyenti jan lanjyut suaranya slay amat",
                  "berhenti jangan lanjut suaranya slay amat",
                  "['berhenti', 'jangan', 'lanjut', 'suaranya', 'slay', 'amat']",
                  "['berhenti', 'suaranya', 'slay']",
                  "henti suara slay",
                  "Negatif"
                ],
                [
                  "8",
                  "2025-08-28",
                  "06:46:56",
                  "montero2iey",
                  "Tidakkan gua beli di pasar jrr pertualangannya sampai ke tempat rwhasia mending ambil emas",
                  "0",
                  "tidakkan gua beli di pasar jrr pertualangannya sampai ke tempat rwhasia mending ambil emas",
                  "tidakkan gua beli di pasar anjir pertualangannya sampai ke tempat rwhasia ambil emas",
                  "['tidakkan', 'gua', 'beli', 'di', 'pasar', 'anjir', 'pertualangannya', 'sampai', 'ke', 'tempat', 'rwhasia', 'ambil', 'emas']",
                  "['tidakkan', 'gua', 'beli', 'pasar', 'anjir', 'pertualangannya', 'rwhasia', 'ambil', 'emas']",
                  "tidak gua beli pasar anjir tualang rwhasia ambil emas",
                  "Negatif"
                ],
                [
                  "9",
                  "2025-08-28",
                  "06:35:57",
                  "ajengayuning17",
                  "Beta buka gudang benderanya hilank",
                  "1",
                  "beta buka gudang benderanya hilank",
                  "beta buka gudang benderanya hilang",
                  "['beta', 'buka', 'gudang', 'benderanya', 'hilang']",
                  "['beta', 'buka', 'gudang', 'benderanya', 'hilang']",
                  "beta buka gudang bendera hilang",
                  "Negatif"
                ],
                [
                  "10",
                  "2025-08-28",
                  "06:33:27",
                  "ahmadyunus-wo7xc",
                  "so tuff gng",
                  "0",
                  "so tuff gng",
                  "sok tuff gng",
                  "['sok', 'tuff', 'gng']",
                  "['sok', 'tuff', 'gng']",
                  "sok tuff gng",
                  "Positif"
                ],
                [
                  "11",
                  "2025-08-28",
                  "06:14:52",
                  "masitohmasitoh-yy6qm",
                  "Mata ku sakit grafik Majapahit",
                  "0",
                  "mata ku sakit grafik majapahit",
                  "mata ku sakit grafik majapahit",
                  "['mata', 'ku', 'sakit', 'grafik', 'majapahit']",
                  "['mata', 'ku', 'sakit', 'grafik', 'majapahit']",
                  "mata ku sakit grafik majapahit",
                  "Negatif"
                ],
                [
                  "12",
                  "2025-08-28",
                  "06:01:02",
                  "ripalmuhtar",
                  "tolong ini suara burung nya di ganti malah suara monyet",
                  "0",
                  "tolong ini suara burung nya di ganti malah suara monyet",
                  "tolong ini suara burung nya di ganti malah suara monyet",
                  "['tolong', 'ini', 'suara', 'burung', 'nya', 'di', 'ganti', 'malah', 'suara', 'monyet']",
                  "['tolong', 'suara', 'burung', 'nya', 'ganti', 'suara', 'monyet']",
                  "tolong suara burung nya ganti suara monyet",
                  "Negatif"
                ],
                [
                  "13",
                  "2025-08-28",
                  "05:55:09",
                  "mahaakun2",
                  "Animasi dari  dark web ini",
                  "0",
                  "animasi dari  dark web ini",
                  "animasi dari dark web ini",
                  "['animasi', 'dari', 'dark', 'web', 'ini']",
                  "['animasi', 'dark', 'web']",
                  "animasi dark web",
                  "Negatif"
                ],
                [
                  "14",
                  "2025-08-28",
                  "05:43:40",
                  "alvino68-x",
                  "rudal aja aki aki nya",
                  "0",
                  "rudal aja aki aki nya",
                  "rudal saja aki aki nya",
                  "['rudal', 'saja', 'aki', 'aki', 'nya']",
                  "['rudal', 'aki', 'aki', 'nya']",
                  "rudal aki aki nya",
                  "Positif"
                ],
                [
                  "15",
                  "2025-08-28",
                  "05:37:13",
                  "lyzael-k2l",
                  "animasi plagiat gini",
                  "0",
                  "animasi plagiat gini",
                  "animasi plagiat begini",
                  "['animasi', 'plagiat', 'begini']",
                  "['animasi', 'plagiat']",
                  "animasi plagiat",
                  "Negatif"
                ],
                [
                  "16",
                  "2025-08-28",
                  "05:02:11",
                  "gatauauuu",
                  "bagusan buatan konten kreyator you tube yg modal   k",
                  "0",
                  "bagusan buatan konten kreyator you tube yg modal   k",
                  "bagusan buatan konten kreyator you tube yang modal k",
                  "['bagusan', 'buatan', 'konten', 'kreyator', 'you', 'tube', 'yang', 'modal', 'k']",
                  "['bagusan', 'buatan', 'konten', 'kreyator', 'you', 'tube', 'modal', 'k']",
                  "bagus buat konten kreyator you tube modal k",
                  "Positif"
                ],
                [
                  "17",
                  "2025-08-28",
                  "04:38:17",
                  "najlapinter7705",
                  "kalau bendera hilang iya beli",
                  "1",
                  "kalau bendera hilang iya beli",
                  "kalau bendera hilang iya beli",
                  "['kalau', 'bendera', 'hilang', 'iya', 'beli']",
                  "['bendera', 'hilang', 'iya', 'beli']",
                  "bendera hilang iya beli",
                  "Negatif"
                ],
                [
                  "18",
                  "2025-08-28",
                  "04:18:13",
                  "zainalarifin-zy5kh",
                  "Geli",
                  "0",
                  "geli",
                  "geli",
                  "['geli']",
                  "['geli']",
                  "geli",
                  "Negatif"
                ],
                [
                  "19",
                  "2025-08-28",
                  "03:39:25",
                  "winarsihnarsih7466",
                  "biaya elit animasi sulit",
                  "0",
                  "biaya elit animasi sulit",
                  "biaya elit animasi sulit",
                  "['biaya', 'elit', 'animasi', 'sulit']",
                  "['biaya', 'elit', 'animasi', 'sulit']",
                  "biaya elit animasi sulit",
                  "Positif"
                ],
                [
                  "20",
                  "2025-08-28",
                  "03:24:30",
                  "rizkymaulana-f9e",
                  "Caracter game ini mahgrafik smoot",
                  "0",
                  "caracter game ini mahgrafik smoot",
                  "caracter game ini mahgrafik smoot",
                  "['caracter', 'game', 'ini', 'mahgrafik', 'smoot']",
                  "['caracter', 'game', 'mahgrafik', 'smoot']",
                  "caracter game mahgrafik smoot",
                  "Positif"
                ],
                [
                  "21",
                  "2025-08-28",
                  "02:58:03",
                  "aleymahfud7302",
                  "Kan pas nyari bendera lewat pasar lah kenapa gk beli bendera di pasar mana nyari bendera nya sampe ke hutan hutan lagi",
                  "0",
                  "kan pas nyari bendera lewat pasar lah kenapa gk beli bendera di pasar mana nyari bendera nya sampe ke hutan hutan lagi",
                  "kan pas mencari bendera lewat pasar lah kenapa tidak beli bendera di pasar mana mencari bendera nya sampai ke hutan hutan lagi",
                  "['kan', 'pas', 'mencari', 'bendera', 'lewat', 'pasar', 'lah', 'kenapa', 'tidak', 'beli', 'bendera', 'di', 'pasar', 'mana', 'mencari', 'bendera', 'nya', 'sampai', 'ke', 'hutan', 'hutan', 'lagi']",
                  "['pas', 'mencari', 'bendera', 'pasar', 'beli', 'bendera', 'pasar', 'mencari', 'bendera', 'nya', 'hutan', 'hutan']",
                  "pas cari bendera pasar beli bendera pasar cari bendera nya hutan hutan",
                  "Negatif"
                ],
                [
                  "22",
                  "2025-08-28",
                  "02:27:17",
                  "mariadacosta-r2s",
                  "Beta buka gudang anggarannya hilang",
                  "0",
                  "beta buka gudang anggarannya hilang",
                  "beta buka gudang anggarannya hilang",
                  "['beta', 'buka', 'gudang', 'anggarannya', 'hilang']",
                  "['beta', 'buka', 'gudang', 'anggarannya', 'hilang']",
                  "beta buka gudang anggar hilang",
                  "Negatif"
                ],
                [
                  "23",
                  "2025-08-28",
                  "02:14:32",
                  "natananandra5929",
                  "Mayan nih buat hukuman koruptor",
                  "0",
                  "mayan nih buat hukuman koruptor",
                  "lumayan nih membuat hukuman koruptor",
                  "['lumayan', 'nih', 'membuat', 'hukuman', 'koruptor']",
                  "['lumayan', 'nih', 'hukuman', 'koruptor']",
                  "lumayan nih hukum koruptor",
                  "Positif"
                ],
                [
                  "24",
                  "2025-08-28",
                  "01:40:27",
                  "danil-i7g4j",
                  "ahh najisss nyeee",
                  "0",
                  "ahh najisss nyeee",
                  "ah najisss nyeee",
                  "['ah', 'najisss', 'nyeee']",
                  "['ah', 'najisss', 'nyeee']",
                  "ah najisss nyeee",
                  "Negatif"
                ],
                [
                  "25",
                  "2025-08-28",
                  "00:49:44",
                  "attar-v5",
                  "Kenapa sampe lewat hutan wak",
                  "0",
                  "kenapa sampe lewat hutan wak",
                  "kenapa sampai lewat hutan wak",
                  "['kenapa', 'sampai', 'lewat', 'hutan', 'wak']",
                  "['hutan', 'wak']",
                  "hutan wak",
                  "Positif"
                ],
                [
                  "26",
                  "2025-08-27",
                  "23:33:38",
                  "yosafatwanda",
                  "Beta buka gudang bendera hilang",
                  "0",
                  "beta buka gudang bendera hilang",
                  "beta buka gudang bendera hilang",
                  "['beta', 'buka', 'gudang', 'bendera', 'hilang']",
                  "['beta', 'buka', 'gudang', 'bendera', 'hilang']",
                  "beta buka gudang bendera hilang",
                  "Negatif"
                ],
                [
                  "27",
                  "2025-08-27",
                  "22:44:45",
                  "cecep_sirailfans",
                  "Keluarga somat aja grafik nya aja lebih bagus  Ini mah animasi jaman orde lama",
                  "0",
                  "keluarga somat aja grafik nya aja lebih bagus  ini mah animasi jaman orde lama",
                  "keluarga somat saja grafik nya saja lebih bagus ini mah animasi jaman orde lama",
                  "['keluarga', 'somat', 'saja', 'grafik', 'nya', 'saja', 'lebih', 'bagus', 'ini', 'mah', 'animasi', 'jaman', 'orde', 'lama']",
                  "['keluarga', 'somat', 'grafik', 'nya', 'bagus', 'mah', 'animasi', 'jaman', 'orde']",
                  "keluarga somat grafik nya bagus mah animasi jaman orde",
                  "Positif"
                ],
                [
                  "28",
                  "2025-08-27",
                  "21:36:48",
                  "itzkitty_xd",
                  "Beta buka gudang anggarannya kok hilang",
                  "0",
                  "beta buka gudang anggarannya kok hilang",
                  "beta buka gudang anggarannya kok hilang",
                  "['beta', 'buka', 'gudang', 'anggarannya', 'kok', 'hilang']",
                  "['beta', 'buka', 'gudang', 'anggarannya', 'hilang']",
                  "beta buka gudang anggar hilang",
                  "Negatif"
                ],
                [
                  "29",
                  "2025-08-27",
                  "21:21:45",
                  "along_fed",
                  "pehh sgt terkesan pada aku  kerna bisa bikin aku galau juga esmosi terus  aku wakil warga Malaysia sudah bangga dgn kartun sebelumnyaJUMBO Alih  karya yg ini  maaf andai kmentar aku buatkn sahabat Indonesia marah pd aku  to aku harus jujur agar karya seterusnya bisa saingi karya kartun Malaysia bisa kalahkn kami juga lebih bagus maka kami akn berusaha lebih agar bisa kalahkn semula karya Indonesia  bersaing secara sehat dan profesional agar bisa maju kehadapannya  salam MALINDO DAMAI  ASSALAMUALAIKUM",
                  "0",
                  "pehh sgt terkesan pada aku  kerna bisa bikin aku galau juga esmosi terus  aku wakil warga malaysia sudah bangga dgn kartun sebelumnyajumbo alih  karya yg ini  maaf andai kmentar aku buatkn sahabat indonesia marah pd aku  to aku harus jujur agar karya seterusnya bisa saingi karya kartun malaysia bisa kalahkn kami juga lebih bagus maka kami akn berusaha lebih agar bisa kalahkn semula karya indonesia  bersaing secara sehat dan profesional agar bisa maju kehadapannya  salam malindo damai  assalamualaikum",
                  "pehh sangat terkesan pada aku kerna dapat membuat aku galau juga esmosi terus aku wakil warga malaysia sudah bangga dengan kartun sebelumnyajumbo alih karya yang ini maaf andai kmentar aku buatkn sahabat indonesia marah pada aku to aku harus jujur agar karya seterusnya dapat saingi karya kartun malaysia dapat kalahkn kami juga lebih bagus maka kami akan berusaha lebih agar dapat kalahkn semula karya indonesia bersaing secara sehat dan profesional agar dapat maju kehadapannya salam malindo damai assalamualaikum",
                  "['pehh', 'sangat', 'terkesan', 'pada', 'aku', 'kerna', 'dapat', 'membuat', 'aku', 'galau', 'juga', 'esmosi', 'terus', 'aku', 'wakil', 'warga', 'malaysia', 'sudah', 'bangga', 'dengan', 'kartun', 'sebelumnyajumbo', 'alih', 'karya', 'yang', 'ini', 'maaf', 'andai', 'kmentar', 'aku', 'buatkn', 'sahabat', 'indonesia', 'marah', 'pada', 'aku', 'to', 'aku', 'harus', 'jujur', 'agar', 'karya', 'seterusnya', 'dapat', 'saingi', 'karya', 'kartun', 'malaysia', 'dapat', 'kalahkn', 'kami', 'juga', 'lebih', 'bagus', 'maka', 'kami', 'akan', 'berusaha', 'lebih', 'agar', 'dapat', 'kalahkn', 'semula', 'karya', 'indonesia', 'bersaing', 'secara', 'sehat', 'dan', 'profesional', 'agar', 'dapat', 'maju', 'kehadapannya', 'salam', 'malindo', 'damai', 'assalamualaikum']",
                  "['pehh', 'terkesan', 'kerna', 'galau', 'esmosi', 'wakil', 'warga', 'malaysia', 'bangga', 'kartun', 'sebelumnyajumbo', 'alih', 'karya', 'maaf', 'andai', 'kmentar', 'buatkn', 'sahabat', 'indonesia', 'marah', 'to', 'jujur', 'karya', 'saingi', 'karya', 'kartun', 'malaysia', 'kalahkn', 'bagus', 'berusaha', 'kalahkn', 'karya', 'indonesia', 'bersaing', 'sehat', 'profesional', 'maju', 'kehadapannya', 'salam', 'malindo', 'damai', 'assalamualaikum']",
                  "pehh kes kerna galau esmosi wakil warga malaysia bangga kartun sebelumnyajumbo alih karya maaf andai kmentar buatkn sahabat indonesia marah to jujur karya saing karya kartun malaysia kalahkn bagus usaha kalahkn karya indonesia saing sehat profesional maju hadap salam malindo damai assalamualaikum",
                  "Positif"
                ],
                [
                  "30",
                  "2025-08-27",
                  "20:34:41",
                  "legamnyooooo17",
                  "ANIMASI TAI",
                  "0",
                  "animasi tai",
                  "animasi tahi",
                  "['animasi', 'tahi']",
                  "['animasi', 'tahi']",
                  "animasi tahi",
                  "Negatif"
                ],
                [
                  "31",
                  "2025-08-27",
                  "20:15:23",
                  "dikarosi",
                  "ga layak tayang dan ditonton",
                  "0",
                  "ga layak tayang dan ditonton",
                  "tidak layak tayang dan ditonton",
                  "['tidak', 'layak', 'tayang', 'dan', 'ditonton']",
                  "['layak', 'tayang', 'ditonton']",
                  "layak tayang tonton",
                  "Positif"
                ],
                [
                  "32",
                  "2025-08-27",
                  "20:14:24",
                  "dikarosi",
                  "diliat negara orang woi",
                  "0",
                  "diliat negara orang woi",
                  "dilihat negara orang woi",
                  "['dilihat', 'negara', 'orang', 'woi']",
                  "['negara', 'orang', 'woi']",
                  "negara orang woi",
                  "Negatif"
                ],
                [
                  "33",
                  "2025-08-27",
                  "20:13:32",
                  "dikarosi",
                  "gw yg nonton malu banget anjayyy",
                  "0",
                  "gw yg nonton malu banget anjayyy",
                  "gue yang menonton malu sangat anjayyy",
                  "['gue', 'yang', 'menonton', 'malu', 'sangat', 'anjayyy']",
                  "['gue', 'menonton', 'malu', 'anjayyy']",
                  "gue tonton malu anjayyy",
                  "Negatif"
                ],
                [
                  "34",
                  "2025-08-27",
                  "18:26:38",
                  "f1r3hunt3rz5",
                  "Oh um     Impressive  Malaysian",
                  "0",
                  "oh um     impressive  malaysian",
                  "oh um impressive malaysian",
                  "['oh', 'um', 'impressive', 'malaysian']",
                  "['oh', 'um', 'impressive', 'malaysian']",
                  "oh um impressive malaysian",
                  "Positif"
                ],
                [
                  "35",
                  "2025-08-27",
                  "17:12:13",
                  "teguh35529",
                  "Ngelag",
                  "0",
                  "ngelag",
                  "ngelag",
                  "['ngelag']",
                  "['ngelag']",
                  "ngelag",
                  "Negatif"
                ],
                [
                  "36",
                  "2025-08-27",
                  "16:23:48",
                  "drmibrahimadamf",
                  "Saje nak tanya dari Malaysia korang hisap substance apa sebelum buat filem ni Kongsi sikit",
                  "0",
                  "saje nak tanya dari malaysia korang hisap substance apa sebelum buat filem ni kongsi sikit",
                  "saje nak tanya dari malaysia korang hisap substance apa sebelum membuat film ini kongsi sikit",
                  "['saje', 'nak', 'tanya', 'dari', 'malaysia', 'korang', 'hisap', 'substance', 'apa', 'sebelum', 'membuat', 'film', 'ini', 'kongsi', 'sikit']",
                  "['saje', 'nak', 'malaysia', 'korang', 'hisap', 'substance', 'film', 'kongsi', 'sikit']",
                  "saje nak malaysia korang hisap substance film kongsi sikit",
                  "Negatif"
                ],
                [
                  "37",
                  "2025-08-27",
                  "16:03:42",
                  "anandaaji571",
                  "Wah klo dijadikan nominasi kartun terbaik di dunia pasti menang ini  MenangGUNG malu",
                  "0",
                  "wah klo dijadikan nominasi kartun terbaik di dunia pasti menang ini  menanggung malu",
                  "wah kalau dijadikan nominasi kartun terbaik di dunia pasti menang ini menanggung malu",
                  "['wah', 'kalau', 'dijadikan', 'nominasi', 'kartun', 'terbaik', 'di', 'dunia', 'pasti', 'menang', 'ini', 'menanggung', 'malu']",
                  "['dijadikan', 'nominasi', 'kartun', 'terbaik', 'dunia', 'menang', 'menanggung', 'malu']",
                  "jadi nominasi kartun baik dunia menang tanggung malu",
                  "Negatif"
                ],
                [
                  "38",
                  "2025-08-27",
                  "15:38:21",
                  "irfan-sr6fp",
                  "Jenis narkoboy apa yg dikonsumsi yg membuat animasi ini",
                  "0",
                  "jenis narkoboy apa yg dikonsumsi yg membuat animasi ini",
                  "jenis narkoboy apa yang dikonsumsi yang membuat animasi ini",
                  "['jenis', 'narkoboy', 'apa', 'yang', 'dikonsumsi', 'yang', 'membuat', 'animasi', 'ini']",
                  "['jenis', 'narkoboy', 'dikonsumsi', 'animasi']",
                  "jenis narkoboy konsumsi animasi",
                  "Positif"
                ],
                [
                  "39",
                  "2025-08-27",
                  "15:04:46",
                  "hurrydotkom5339",
                  "jelek banget gilak",
                  "0",
                  "jelek banget gilak",
                  "jelek sangat gila",
                  "['jelek', 'sangat', 'gila']",
                  "['jelek', 'gila']",
                  "jelek gila",
                  "Negatif"
                ],
                [
                  "40",
                  "2025-08-27",
                  "15:01:18",
                  "imasmaolani999",
                  "Sampah",
                  "0",
                  "sampah",
                  "sampah",
                  "['sampah']",
                  "['sampah']",
                  "sampah",
                  "Negatif"
                ],
                [
                  "41",
                  "2025-08-27",
                  "14:35:48",
                  "faruq-l6w",
                  "Sakit cokk mata aku",
                  "0",
                  "sakit cokk mata aku",
                  "sakit cok mata aku",
                  "['sakit', 'cok', 'mata', 'aku']",
                  "['sakit', 'cok', 'mata']",
                  "sakit cok mata",
                  "Negatif"
                ],
                [
                  "42",
                  "2025-08-27",
                  "14:35:30",
                  "dorala-z2e",
                  "Film apaan nih jelek banget burung kakatua suara monyet terus kenapa bendera disandera salah bendera apa Itu tadi pas awal awal ada bendera banyak kenapa gak pakek itu aja terus ada senjata api saat cowok menyebrangi jembatan kayu kepala nya patah tiba tiba langsung nyemplung kolam terus anak baju merah tembus teman nya sendiri dan anak cewek jatuh itu kenapa gak ada rasa sakit harus nya muka nya sakit ini diam karton apa ini",
                  "0",
                  "film apaan nih jelek banget burung kakatua suara monyet terus kenapa bendera disandera salah bendera apa itu tadi pas awal awal ada bendera banyak kenapa gak pakek itu aja terus ada senjata api saat cowok menyebrangi jembatan kayu kepala nya patah tiba tiba langsung nyemplung kolam terus anak baju merah tembus teman nya sendiri dan anak cewek jatuh itu kenapa gak ada rasa sakit harus nya muka nya sakit ini diam karton apa ini",
                  "film apaan nih jelek sangat burung kakatua suara monyet terus kenapa bendera disandera salah bendera apa itu tadi pas awal awal ada bendera banyak kenapa tidak pakai itu saja terus ada senjata api saat menyebrangi jembatan kayu kepala nya patah tiba tiba langsung nyemplung kolam terus anak baju merah tembus teman nya sendiri dan anak cewek jatuh itu kenapa tidak ada rasa sakit harus nya muka nya sakit ini diam karton apa ini",
                  "['film', 'apaan', 'nih', 'jelek', 'sangat', 'burung', 'kakatua', 'suara', 'monyet', 'terus', 'kenapa', 'bendera', 'disandera', 'salah', 'bendera', 'apa', 'itu', 'tadi', 'pas', 'awal', 'awal', 'ada', 'bendera', 'banyak', 'kenapa', 'tidak', 'pakai', 'itu', 'saja', 'terus', 'ada', 'senjata', 'api', 'saat', 'menyebrangi', 'jembatan', 'kayu', 'kepala', 'nya', 'patah', 'tiba', 'tiba', 'langsung', 'nyemplung', 'kolam', 'terus', 'anak', 'baju', 'merah', 'tembus', 'teman', 'nya', 'sendiri', 'dan', 'anak', 'cewek', 'jatuh', 'itu', 'kenapa', 'tidak', 'ada', 'rasa', 'sakit', 'harus', 'nya', 'muka', 'nya', 'sakit', 'ini', 'diam', 'karton', 'apa', 'ini']",
                  "['film', 'nih', 'jelek', 'burung', 'kakatua', 'suara', 'monyet', 'bendera', 'disandera', 'salah', 'bendera', 'pas', 'bendera', 'pakai', 'senjata', 'api', 'menyebrangi', 'jembatan', 'kayu', 'kepala', 'nya', 'patah', 'langsung', 'nyemplung', 'kolam', 'anak', 'baju', 'merah', 'tembus', 'teman', 'nya', 'anak', 'cewek', 'jatuh', 'sakit', 'nya', 'muka', 'nya', 'sakit', 'diam', 'karton']",
                  "film nih jelek burung kakatua suara monyet bendera sandera salah bendera pas bendera pakai senjata api menyebrangi jembatan kayu kepala nya patah langsung nyemplung kolam anak baju merah tembus teman nya anak cewek jatuh sakit nya muka nya sakit diam karton",
                  "Negatif"
                ],
                [
                  "43",
                  "2025-08-27",
                  "14:24:50",
                  "hafizhnama-w4r",
                  "Bersyukur saja",
                  "0",
                  "bersyukur saja",
                  "bersyukur saja",
                  "['bersyukur', 'saja']",
                  "['bersyukur']",
                  "syukur",
                  "Positif"
                ],
                [
                  "44",
                  "2025-08-27",
                  "14:15:13",
                  "alien_t9",
                  "S u r a  b u r u n g  s u r a  m o n y e t",
                  "0",
                  "s u r a  b u r u n g  s u r a  m o n y e t",
                  "s lu r a b lu r lu dan tidak s lu r a sama o dan ya e t",
                  "['s', 'lu', 'r', 'a', 'b', 'lu', 'r', 'lu', 'dan', 'tidak', 's', 'lu', 'r', 'a', 'sama', 'o', 'dan', 'ya', 'e', 't']",
                  "['s', 'lu', 'r', 'a', 'b', 'lu', 'r', 'lu', 's', 'lu', 'r', 'a', 'o', 'ya', 'e', 't']",
                  "s lu r a b lu r lu s lu r a o ya e t",
                  "Positif"
                ],
                [
                  "45",
                  "2025-08-27",
                  "14:11:27",
                  "edwinprokmadani-k1g",
                  "Ini animasi atau Green screen doang burik bet",
                  "1",
                  "ini animasi atau green screen doang burik bet",
                  "ini animasi atau green screen doang buruk banget",
                  "['ini', 'animasi', 'atau', 'green', 'screen', 'doang', 'buruk', 'banget']",
                  "['animasi', 'green', 'screen', 'doang', 'buruk', 'banget']",
                  "animasi green screen doang buruk banget",
                  "Negatif"
                ],
                [
                  "46",
                  "2025-08-27",
                  "14:08:19",
                  "yoiki_kolip",
                  "Bajet miliarran grafik   an",
                  "0",
                  "bajet miliarran grafik   an",
                  "bajet miliarran grafik an",
                  "['bajet', 'miliarran', 'grafik', 'an']",
                  "['bajet', 'miliarran', 'grafik', 'an']",
                  "bajet miliarran grafik an",
                  "Positif"
                ],
                [
                  "47",
                  "2025-08-27",
                  "14:05:18",
                  "egyzul",
                  "Apakah ada ff one for all",
                  "0",
                  "apakah ada ff one for all",
                  "apakah ada ff one for all",
                  "['apakah', 'ada', 'ff', 'one', 'for', 'all']",
                  "['ff', 'one', 'for', 'all']",
                  "ff one for all",
                  "Negatif"
                ],
                [
                  "48",
                  "2025-08-27",
                  "13:49:41",
                  "akbarmaulana-di3xi",
                  "Jatuh di tengah pindahnya ke kiri",
                  "1",
                  "jatuh di tengah pindahnya ke kiri",
                  "jatuh di tengah pindahnya ke kiri",
                  "['jatuh', 'di', 'tengah', 'pindahnya', 'ke', 'kiri']",
                  "['jatuh', 'pindahnya', 'kiri']",
                  "jatuh pindah kiri",
                  "Negatif"
                ],
                [
                  "49",
                  "2025-08-27",
                  "13:49:23",
                  "akbarmaulana-di3xi",
                  "Sejak kapan mencari bendera langsung ke India",
                  "2",
                  "sejak kapan mencari bendera langsung ke india",
                  "sejak kapan mencari bendera langsung ke india",
                  "['sejak', 'kapan', 'mencari', 'bendera', 'langsung', 'ke', 'india']",
                  "['mencari', 'bendera', 'langsung', 'india']",
                  "cari bendera langsung india",
                  "Negatif"
                ]
              ],
              "shape": {
                "columns": 11,
                "rows": 4514
              }
            },
            "text/html": [
              "<div>\n",
              "<style scoped>\n",
              "    .dataframe tbody tr th:only-of-type {\n",
              "        vertical-align: middle;\n",
              "    }\n",
              "\n",
              "    .dataframe tbody tr th {\n",
              "        vertical-align: top;\n",
              "    }\n",
              "\n",
              "    .dataframe thead th {\n",
              "        text-align: right;\n",
              "    }\n",
              "</style>\n",
              "<table border=\"1\" class=\"dataframe\">\n",
              "  <thead>\n",
              "    <tr style=\"text-align: right;\">\n",
              "      <th></th>\n",
              "      <th>tanggal</th>\n",
              "      <th>jam</th>\n",
              "      <th>username</th>\n",
              "      <th>komentarBaru</th>\n",
              "      <th>likeCount</th>\n",
              "      <th>case_folding</th>\n",
              "      <th>normalisasi</th>\n",
              "      <th>tokenize</th>\n",
              "      <th>stopword removal</th>\n",
              "      <th>stemming</th>\n",
              "      <th>sentiment</th>\n",
              "    </tr>\n",
              "  </thead>\n",
              "  <tbody>\n",
              "    <tr>\n",
              "      <th>0</th>\n",
              "      <td>2025-08-28</td>\n",
              "      <td>08:45:34</td>\n",
              "      <td>syafeqah1990</td>\n",
              "      <td>Cartoon ni masuk pawagam</td>\n",
              "      <td>0</td>\n",
              "      <td>cartoon ni masuk pawagam</td>\n",
              "      <td>cartoon ini masuk pawagam</td>\n",
              "      <td>['cartoon', 'ini', 'masuk', 'pawagam']</td>\n",
              "      <td>['cartoon', 'masuk', 'pawagam']</td>\n",
              "      <td>cartoon masuk pawagam</td>\n",
              "      <td>Negatif</td>\n",
              "    </tr>\n",
              "    <tr>\n",
              "      <th>1</th>\n",
              "      <td>2025-08-28</td>\n",
              "      <td>08:29:35</td>\n",
              "      <td>husnanurul-m6h</td>\n",
              "      <td>ini yg katanya film mengeluarkan dan sampe mil...</td>\n",
              "      <td>0</td>\n",
              "      <td>ini yg katanya film mengeluarkan dan sampe mil...</td>\n",
              "      <td>ini yang katanya film mengeluarkan dan sampai ...</td>\n",
              "      <td>['ini', 'yang', 'katanya', 'film', 'mengeluark...</td>\n",
              "      <td>['film', 'mengeluarkan', 'miliyaran', 'film', ...</td>\n",
              "      <td>film keluar miliyaran film game android karakt...</td>\n",
              "      <td>Negatif</td>\n",
              "    </tr>\n",
              "    <tr>\n",
              "      <th>2</th>\n",
              "      <td>2025-08-28</td>\n",
              "      <td>08:14:10</td>\n",
              "      <td>alvinoawp</td>\n",
              "      <td>Burung nya suara monyet cok</td>\n",
              "      <td>0</td>\n",
              "      <td>burung nya suara monyet cok</td>\n",
              "      <td>burung nya suara monyet cok</td>\n",
              "      <td>['burung', 'nya', 'suara', 'monyet', 'cok']</td>\n",
              "      <td>['burung', 'nya', 'suara', 'monyet', 'cok']</td>\n",
              "      <td>burung nya suara monyet cok</td>\n",
              "      <td>Negatif</td>\n",
              "    </tr>\n",
              "    <tr>\n",
              "      <th>3</th>\n",
              "      <td>2025-08-28</td>\n",
              "      <td>07:56:15</td>\n",
              "      <td>arkanpradipta8934</td>\n",
              "      <td>apalah ada AMK M</td>\n",
              "      <td>0</td>\n",
              "      <td>apalah ada amk m</td>\n",
              "      <td>apalah ada amk sama</td>\n",
              "      <td>['apalah', 'ada', 'amk', 'sama']</td>\n",
              "      <td>['apalah', 'amk']</td>\n",
              "      <td>apa amk</td>\n",
              "      <td>Negatif</td>\n",
              "    </tr>\n",
              "    <tr>\n",
              "      <th>4</th>\n",
              "      <td>2025-08-28</td>\n",
              "      <td>07:50:36</td>\n",
              "      <td>galangadimaskhrisnaherlamb4053</td>\n",
              "      <td>bahkan jurasik park      lebih bagus dari ini</td>\n",
              "      <td>1</td>\n",
              "      <td>bahkan jurasik park      lebih bagus dari ini</td>\n",
              "      <td>bahkan jurasik park lebih bagus dari ini</td>\n",
              "      <td>['bahkan', 'jurasik', 'park', 'lebih', 'bagus'...</td>\n",
              "      <td>['jurasik', 'park', 'bagus']</td>\n",
              "      <td>jurasik park bagus</td>\n",
              "      <td>Positif</td>\n",
              "    </tr>\n",
              "    <tr>\n",
              "      <th>...</th>\n",
              "      <td>...</td>\n",
              "      <td>...</td>\n",
              "      <td>...</td>\n",
              "      <td>...</td>\n",
              "      <td>...</td>\n",
              "      <td>...</td>\n",
              "      <td>...</td>\n",
              "      <td>...</td>\n",
              "      <td>...</td>\n",
              "      <td>...</td>\n",
              "      <td>...</td>\n",
              "    </tr>\n",
              "    <tr>\n",
              "      <th>4634</th>\n",
              "      <td>2025-08-09</td>\n",
              "      <td>12:20:23</td>\n",
              "      <td>justanord1naryman</td>\n",
              "      <td>Dari pemerintah bro membangkang auto hilang</td>\n",
              "      <td>13</td>\n",
              "      <td>dari pemerintah bro membangkang auto hilang</td>\n",
              "      <td>dari pemerintah bro membangkang auto hilang</td>\n",
              "      <td>['dari', 'pemerintah', 'bro', 'membangkang', '...</td>\n",
              "      <td>['pemerintah', 'bro', 'membangkang', 'auto', '...</td>\n",
              "      <td>perintah bro bangkang auto hilang</td>\n",
              "      <td>Negatif</td>\n",
              "    </tr>\n",
              "    <tr>\n",
              "      <th>4635</th>\n",
              "      <td>2025-08-11</td>\n",
              "      <td>08:57:24</td>\n",
              "      <td>prod.starlight</td>\n",
              "      <td>JustAnOrd naryMankok XXI gaada trailer sih Gam...</td>\n",
              "      <td>6</td>\n",
              "      <td>justanord narymankok xxi gaada trailer sih gam...</td>\n",
              "      <td>justanord narymankok xxi trailer sih gamasuk x...</td>\n",
              "      <td>['justanord', 'narymankok', 'xxi', 'trailer', ...</td>\n",
              "      <td>['justanord', 'narymankok', 'xxi', 'trailer', ...</td>\n",
              "      <td>justanord narymankok xxi trailer sih gamasuk x...</td>\n",
              "      <td>Positif</td>\n",
              "    </tr>\n",
              "    <tr>\n",
              "      <th>4636</th>\n",
              "      <td>2025-08-15</td>\n",
              "      <td>09:15:28</td>\n",
              "      <td>dikaalvin657</td>\n",
              "      <td>Kalau fulusPasti mulus</td>\n",
              "      <td>2</td>\n",
              "      <td>kalau fuluspasti mulus</td>\n",
              "      <td>kalau fuluspasti mulus</td>\n",
              "      <td>['kalau', 'fuluspasti', 'mulus']</td>\n",
              "      <td>['fuluspasti', 'mulus']</td>\n",
              "      <td>fuluspasti mulus</td>\n",
              "      <td>Positif</td>\n",
              "    </tr>\n",
              "    <tr>\n",
              "      <th>4637</th>\n",
              "      <td>2025-08-15</td>\n",
              "      <td>23:23:43</td>\n",
              "      <td>matthewbrealey2026</td>\n",
              "      <td>prod starlight masuk di XXI loh</td>\n",
              "      <td>0</td>\n",
              "      <td>prod starlight masuk di xxi loh</td>\n",
              "      <td>prod starlight masuk di xxi loh</td>\n",
              "      <td>['prod', 'starlight', 'masuk', 'di', 'xxi', 'l...</td>\n",
              "      <td>['prod', 'starlight', 'masuk', 'xxi', 'loh']</td>\n",
              "      <td>prod starlight masuk xxi loh</td>\n",
              "      <td>Negatif</td>\n",
              "    </tr>\n",
              "    <tr>\n",
              "      <th>4638</th>\n",
              "      <td>2025-08-09</td>\n",
              "      <td>04:07:03</td>\n",
              "      <td>robbycarnando4512</td>\n",
              "      <td>Pengisi suara ny spa aj yahhh</td>\n",
              "      <td>1</td>\n",
              "      <td>pengisi suara ny spa aj yahhh</td>\n",
              "      <td>pengisi suara nya spa saja ya</td>\n",
              "      <td>['pengisi', 'suara', 'nya', 'spa', 'saja', 'ya']</td>\n",
              "      <td>['pengisi', 'suara', 'nya', 'spa', 'ya']</td>\n",
              "      <td>isi suara nya spa ya</td>\n",
              "      <td>Positif</td>\n",
              "    </tr>\n",
              "  </tbody>\n",
              "</table>\n",
              "<p>4514 rows × 11 columns</p>\n",
              "</div>"
            ],
            "text/plain": [
              "         tanggal       jam                        username  \\\n",
              "0     2025-08-28  08:45:34                    syafeqah1990   \n",
              "1     2025-08-28  08:29:35                  husnanurul-m6h   \n",
              "2     2025-08-28  08:14:10                       alvinoawp   \n",
              "3     2025-08-28  07:56:15               arkanpradipta8934   \n",
              "4     2025-08-28  07:50:36  galangadimaskhrisnaherlamb4053   \n",
              "...          ...       ...                             ...   \n",
              "4634  2025-08-09  12:20:23               justanord1naryman   \n",
              "4635  2025-08-11  08:57:24                  prod.starlight   \n",
              "4636  2025-08-15  09:15:28                    dikaalvin657   \n",
              "4637  2025-08-15  23:23:43              matthewbrealey2026   \n",
              "4638  2025-08-09  04:07:03               robbycarnando4512   \n",
              "\n",
              "                                           komentarBaru  likeCount  \\\n",
              "0                              Cartoon ni masuk pawagam          0   \n",
              "1     ini yg katanya film mengeluarkan dan sampe mil...          0   \n",
              "2                           Burung nya suara monyet cok          0   \n",
              "3                                      apalah ada AMK M          0   \n",
              "4         bahkan jurasik park      lebih bagus dari ini          1   \n",
              "...                                                 ...        ...   \n",
              "4634        Dari pemerintah bro membangkang auto hilang         13   \n",
              "4635  JustAnOrd naryMankok XXI gaada trailer sih Gam...          6   \n",
              "4636                             Kalau fulusPasti mulus          2   \n",
              "4637                    prod starlight masuk di XXI loh          0   \n",
              "4638                      Pengisi suara ny spa aj yahhh          1   \n",
              "\n",
              "                                           case_folding  \\\n",
              "0                              cartoon ni masuk pawagam   \n",
              "1     ini yg katanya film mengeluarkan dan sampe mil...   \n",
              "2                           burung nya suara monyet cok   \n",
              "3                                      apalah ada amk m   \n",
              "4         bahkan jurasik park      lebih bagus dari ini   \n",
              "...                                                 ...   \n",
              "4634        dari pemerintah bro membangkang auto hilang   \n",
              "4635  justanord narymankok xxi gaada trailer sih gam...   \n",
              "4636                             kalau fuluspasti mulus   \n",
              "4637                    prod starlight masuk di xxi loh   \n",
              "4638                      pengisi suara ny spa aj yahhh   \n",
              "\n",
              "                                            normalisasi  \\\n",
              "0                             cartoon ini masuk pawagam   \n",
              "1     ini yang katanya film mengeluarkan dan sampai ...   \n",
              "2                           burung nya suara monyet cok   \n",
              "3                                   apalah ada amk sama   \n",
              "4              bahkan jurasik park lebih bagus dari ini   \n",
              "...                                                 ...   \n",
              "4634        dari pemerintah bro membangkang auto hilang   \n",
              "4635  justanord narymankok xxi trailer sih gamasuk x...   \n",
              "4636                             kalau fuluspasti mulus   \n",
              "4637                    prod starlight masuk di xxi loh   \n",
              "4638                      pengisi suara nya spa saja ya   \n",
              "\n",
              "                                               tokenize  \\\n",
              "0                ['cartoon', 'ini', 'masuk', 'pawagam']   \n",
              "1     ['ini', 'yang', 'katanya', 'film', 'mengeluark...   \n",
              "2           ['burung', 'nya', 'suara', 'monyet', 'cok']   \n",
              "3                      ['apalah', 'ada', 'amk', 'sama']   \n",
              "4     ['bahkan', 'jurasik', 'park', 'lebih', 'bagus'...   \n",
              "...                                                 ...   \n",
              "4634  ['dari', 'pemerintah', 'bro', 'membangkang', '...   \n",
              "4635  ['justanord', 'narymankok', 'xxi', 'trailer', ...   \n",
              "4636                   ['kalau', 'fuluspasti', 'mulus']   \n",
              "4637  ['prod', 'starlight', 'masuk', 'di', 'xxi', 'l...   \n",
              "4638   ['pengisi', 'suara', 'nya', 'spa', 'saja', 'ya']   \n",
              "\n",
              "                                       stopword removal  \\\n",
              "0                       ['cartoon', 'masuk', 'pawagam']   \n",
              "1     ['film', 'mengeluarkan', 'miliyaran', 'film', ...   \n",
              "2           ['burung', 'nya', 'suara', 'monyet', 'cok']   \n",
              "3                                     ['apalah', 'amk']   \n",
              "4                          ['jurasik', 'park', 'bagus']   \n",
              "...                                                 ...   \n",
              "4634  ['pemerintah', 'bro', 'membangkang', 'auto', '...   \n",
              "4635  ['justanord', 'narymankok', 'xxi', 'trailer', ...   \n",
              "4636                            ['fuluspasti', 'mulus']   \n",
              "4637       ['prod', 'starlight', 'masuk', 'xxi', 'loh']   \n",
              "4638           ['pengisi', 'suara', 'nya', 'spa', 'ya']   \n",
              "\n",
              "                                               stemming sentiment  \n",
              "0                                 cartoon masuk pawagam   Negatif  \n",
              "1     film keluar miliyaran film game android karakt...   Negatif  \n",
              "2                           burung nya suara monyet cok   Negatif  \n",
              "3                                               apa amk   Negatif  \n",
              "4                                    jurasik park bagus   Positif  \n",
              "...                                                 ...       ...  \n",
              "4634                  perintah bro bangkang auto hilang   Negatif  \n",
              "4635  justanord narymankok xxi trailer sih gamasuk x...   Positif  \n",
              "4636                                   fuluspasti mulus   Positif  \n",
              "4637                       prod starlight masuk xxi loh   Negatif  \n",
              "4638                               isi suara nya spa ya   Positif  \n",
              "\n",
              "[4514 rows x 11 columns]"
            ]
          },
          "execution_count": 364,
          "metadata": {},
          "output_type": "execute_result"
        }
      ],
      "source": [
        "data"
      ]
    },
    {
      "cell_type": "code",
      "execution_count": 365,
      "metadata": {
        "colab": {
          "base_uri": "https://localhost:8080/",
          "height": 178
        },
        "id": "Ue0V1MxoBGWJ",
        "outputId": "851cf381-f62e-4f43-b164-dade9d7449ff"
      },
      "outputs": [
        {
          "data": {
            "application/vnd.microsoft.datawrangler.viewer.v0+json": {
              "columns": [
                {
                  "name": "sentiment",
                  "rawType": "object",
                  "type": "string"
                },
                {
                  "name": "count",
                  "rawType": "int64",
                  "type": "integer"
                }
              ],
              "ref": "134754ff-d867-4c51-9654-3dcf425fa2d9",
              "rows": [
                [
                  "Negatif",
                  "3050"
                ],
                [
                  "Positif",
                  "1464"
                ]
              ],
              "shape": {
                "columns": 1,
                "rows": 2
              }
            },
            "text/plain": [
              "sentiment\n",
              "Negatif    3050\n",
              "Positif    1464\n",
              "Name: count, dtype: int64"
            ]
          },
          "execution_count": 365,
          "metadata": {},
          "output_type": "execute_result"
        }
      ],
      "source": [
        "data['sentiment'].value_counts()"
      ]
    },
    {
      "cell_type": "code",
      "execution_count": 366,
      "metadata": {
        "id": "8jiKnDmIBLVS"
      },
      "outputs": [],
      "source": [
        "from sklearn.model_selection import train_test_split, GridSearchCV, RandomizedSearchCV, StratifiedKFold, cross_val_score, RandomizedSearchCV\n",
        "\n",
        "x = data['stemming']\n",
        "y = data['sentiment']\n",
        "\n",
        "x_train, x_test, y_train, y_test = train_test_split(x, y, test_size=0.2, random_state=0, stratify=y)"
      ]
    },
    {
      "cell_type": "code",
      "execution_count": 367,
      "metadata": {
        "id": "ow5gyocCVDyU"
      },
      "outputs": [],
      "source": [
        "kf = StratifiedKFold(n_splits=5, shuffle=True, random_state=42)"
      ]
    },
    {
      "cell_type": "code",
      "execution_count": 368,
      "metadata": {
        "colab": {
          "base_uri": "https://localhost:8080/",
          "height": 178
        },
        "id": "M3CJtd3MLKLa",
        "outputId": "718a5cc8-51fc-4c3c-91d2-4c2cbe678ec7"
      },
      "outputs": [
        {
          "data": {
            "application/vnd.microsoft.datawrangler.viewer.v0+json": {
              "columns": [
                {
                  "name": "sentiment",
                  "rawType": "object",
                  "type": "string"
                },
                {
                  "name": "count",
                  "rawType": "int64",
                  "type": "integer"
                }
              ],
              "ref": "564a61bc-92c0-412d-939f-120a26e258ea",
              "rows": [
                [
                  "Negatif",
                  "610"
                ],
                [
                  "Positif",
                  "293"
                ]
              ],
              "shape": {
                "columns": 1,
                "rows": 2
              }
            },
            "text/plain": [
              "sentiment\n",
              "Negatif    610\n",
              "Positif    293\n",
              "Name: count, dtype: int64"
            ]
          },
          "execution_count": 368,
          "metadata": {},
          "output_type": "execute_result"
        }
      ],
      "source": [
        "y_test.value_counts()"
      ]
    },
    {
      "cell_type": "code",
      "execution_count": null,
      "metadata": {
        "id": "9zFRTzoELPHC"
      },
      "outputs": [],
      "source": [
        "from sklearn.tree import DecisionTreeClassifier\n",
        "from sklearn.linear_model import LogisticRegression\n",
        "from sklearn.ensemble import RandomForestClassifier\n",
        "from sklearn.svm import SVC\n",
        "from sklearn.neighbors import KNeighborsClassifier\n",
        "from sklearn.metrics import accuracy_score, precision_score, confusion_matrix, classification_report, precision_recall_curve\n",
        "import numpy as np\n",
        "from sklearn.preprocessing import StandardScaler\n",
        "from sklearn.feature_extraction.text import CountVectorizer, TfidfVectorizer\n",
        "from sklearn.naive_bayes import MultinomialNB, ComplementNB, BernoulliNB"
      ]
    },
    {
      "cell_type": "code",
      "execution_count": 370,
      "metadata": {
        "id": "nVb_gK44OLlT"
      },
      "outputs": [],
      "source": [
        "vectorizer = TfidfVectorizer()\n",
        "x_train_vectorized = vectorizer.fit_transform(x_train)\n",
        "x_test_vectorized = vectorizer.transform(x_test)"
      ]
    },
    {
      "cell_type": "code",
      "execution_count": 371,
      "metadata": {
        "id": "u2r7kfq_QN5j"
      },
      "outputs": [],
      "source": [
        "from imblearn.over_sampling import SMOTE\n",
        "smote = SMOTE(random_state=42)\n",
        "x_train_vectorized, y_train = smote.fit_resample(x_train_vectorized, y_train)"
      ]
    },
    {
      "cell_type": "code",
      "execution_count": 372,
      "metadata": {
        "colab": {
          "base_uri": "https://localhost:8080/",
          "height": 178
        },
        "id": "o9fidZJC-M6r",
        "outputId": "384fa9c5-a94e-4776-ac04-75988d5d5566"
      },
      "outputs": [
        {
          "data": {
            "application/vnd.microsoft.datawrangler.viewer.v0+json": {
              "columns": [
                {
                  "name": "sentiment",
                  "rawType": "object",
                  "type": "string"
                },
                {
                  "name": "count",
                  "rawType": "int64",
                  "type": "integer"
                }
              ],
              "ref": "72f9b845-9cc2-47b6-8967-1b1221ce1ce8",
              "rows": [
                [
                  "Negatif",
                  "2440"
                ],
                [
                  "Positif",
                  "2440"
                ]
              ],
              "shape": {
                "columns": 1,
                "rows": 2
              }
            },
            "text/plain": [
              "sentiment\n",
              "Negatif    2440\n",
              "Positif    2440\n",
              "Name: count, dtype: int64"
            ]
          },
          "execution_count": 372,
          "metadata": {},
          "output_type": "execute_result"
        }
      ],
      "source": [
        "y_train.value_counts()"
      ]
    },
    {
      "cell_type": "code",
      "execution_count": 373,
      "metadata": {
        "colab": {
          "base_uri": "https://localhost:8080/"
        },
        "id": "3mq2RjnUOZaK",
        "outputId": "e98a5332-3ea2-48fb-e6bf-e5b3ef0870d2"
      },
      "outputs": [
        {
          "name": "stdout",
          "output_type": "stream",
          "text": [
            "matriks vektorisasi untuk data train\n",
            "[[0. 0. 0. ... 0. 0. 0.]\n",
            " [0. 0. 0. ... 0. 0. 0.]\n",
            " [0. 0. 0. ... 0. 0. 0.]\n",
            " ...\n",
            " [0. 0. 0. ... 0. 0. 0.]\n",
            " [0. 0. 0. ... 0. 0. 0.]\n",
            " [0. 0. 0. ... 0. 0. 0.]]\n"
          ]
        }
      ],
      "source": [
        "print('matriks vektorisasi untuk data train')\n",
        "print(x_train_vectorized.toarray())"
      ]
    },
    {
      "cell_type": "code",
      "execution_count": 374,
      "metadata": {
        "id": "uF_YmTo5L5nJ"
      },
      "outputs": [],
      "source": [
        "classifier = {\n",
        "    \"Decision Tree\": DecisionTreeClassifier(random_state=42),\n",
        "    \"Logistic Regression\": LogisticRegression(random_state=42),\n",
        "    \"Random Forest\": RandomForestClassifier(random_state=42, n_estimators=100),\n",
        "    \"SVM\": SVC(random_state=42),\n",
        "    \"KNN\": KNeighborsClassifier(n_neighbors=5,metric='euclidean'),\n",
        "    \"Multinomial NB\": MultinomialNB(),\n",
        "    \"Complement NB\": ComplementNB()\n",
        "    \n",
        "}"
      ]
    },
    {
      "cell_type": "code",
      "execution_count": 375,
      "metadata": {
        "colab": {
          "base_uri": "https://localhost:8080/"
        },
        "id": "cCZCxowFNLj9",
        "outputId": "51139de0-6d4d-454d-a617-029be973258f"
      },
      "outputs": [
        {
          "name": "stdout",
          "output_type": "stream",
          "text": [
            "performance pada masing-masing bagian : [0.79815574 0.78688525 0.78893443 0.78790984 0.80942623]\n",
            "accuracy (train) for : ('Decision Tree', 74.52934662236987)\n",
            "              precision    recall  f1-score   support\n",
            "\n",
            "     Negatif       0.79      0.84      0.82       610\n",
            "     Positif       0.62      0.54      0.58       293\n",
            "\n",
            "    accuracy                           0.75       903\n",
            "   macro avg       0.71      0.69      0.70       903\n",
            "weighted avg       0.74      0.75      0.74       903\n",
            "\n",
            "performance pada masing-masing bagian : [0.82889344 0.82479508 0.81762295 0.82377049 0.84118852]\n",
            "accuracy (train) for : ('Logistic Regression', 75.96899224806202)\n",
            "              precision    recall  f1-score   support\n",
            "\n",
            "     Negatif       0.85      0.79      0.82       610\n",
            "     Positif       0.61      0.70      0.65       293\n",
            "\n",
            "    accuracy                           0.76       903\n",
            "   macro avg       0.73      0.74      0.73       903\n",
            "weighted avg       0.77      0.76      0.76       903\n",
            "\n",
            "performance pada masing-masing bagian : [0.82172131 0.8125     0.82991803 0.82172131 0.84836066]\n",
            "accuracy (train) for : ('Random Forest', 77.29789590254707)\n",
            "              precision    recall  f1-score   support\n",
            "\n",
            "     Negatif       0.81      0.88      0.84       610\n",
            "     Positif       0.68      0.56      0.62       293\n",
            "\n",
            "    accuracy                           0.77       903\n",
            "   macro avg       0.74      0.72      0.73       903\n",
            "weighted avg       0.77      0.77      0.77       903\n",
            "\n",
            "performance pada masing-masing bagian : [0.85758197 0.86065574 0.87295082 0.86782787 0.86782787]\n",
            "accuracy (train) for : ('SVM', 80.06644518272425)\n",
            "              precision    recall  f1-score   support\n",
            "\n",
            "     Negatif       0.85      0.86      0.85       610\n",
            "     Positif       0.70      0.68      0.69       293\n",
            "\n",
            "    accuracy                           0.80       903\n",
            "   macro avg       0.77      0.77      0.77       903\n",
            "weighted avg       0.80      0.80      0.80       903\n",
            "\n",
            "performance pada masing-masing bagian : [0.72336066 0.70491803 0.7704918  0.73360656 0.76127049]\n",
            "accuracy (train) for : ('KNN', 66.44518272425249)\n",
            "              precision    recall  f1-score   support\n",
            "\n",
            "     Negatif       0.73      0.81      0.77       610\n",
            "     Positif       0.48      0.36      0.41       293\n",
            "\n",
            "    accuracy                           0.66       903\n",
            "   macro avg       0.60      0.59      0.59       903\n",
            "weighted avg       0.64      0.66      0.65       903\n",
            "\n",
            "performance pada masing-masing bagian : [0.81454918 0.79098361 0.77766393 0.80635246 0.81045082]\n",
            "accuracy (train) for : ('Multinomial NB', 74.52934662236987)\n",
            "              precision    recall  f1-score   support\n",
            "\n",
            "     Negatif       0.84      0.77      0.80       610\n",
            "     Positif       0.59      0.70      0.64       293\n",
            "\n",
            "    accuracy                           0.75       903\n",
            "   macro avg       0.72      0.73      0.72       903\n",
            "weighted avg       0.76      0.75      0.75       903\n",
            "\n",
            "performance pada masing-masing bagian : [0.81454918 0.79098361 0.77766393 0.80635246 0.81045082]\n",
            "accuracy (train) for : ('Complement NB', 74.52934662236987)\n",
            "              precision    recall  f1-score   support\n",
            "\n",
            "     Negatif       0.84      0.77      0.80       610\n",
            "     Positif       0.59      0.70      0.64       293\n",
            "\n",
            "    accuracy                           0.75       903\n",
            "   macro avg       0.72      0.73      0.72       903\n",
            "weighted avg       0.76      0.75      0.75       903\n",
            "\n"
          ]
        }
      ],
      "source": [
        "n_classifiers = len(classifier)\n",
        "\n",
        "for index, (name, classifier) in enumerate(classifier.items()):\n",
        "\n",
        "    classifier.fit(x_train_vectorized, np.ravel(y_train))\n",
        "    cv_score = cross_val_score(classifier, x_train_vectorized, y_train, cv=kf, scoring='accuracy')\n",
        "    y_pred = classifier.predict(x_test_vectorized)\n",
        "    accuracy = accuracy_score(y_test, y_pred)\n",
        "    print(f'performance pada masing-masing bagian : {cv_score}')\n",
        "    print(f\"accuracy (train) for : {name, accuracy*100}\")\n",
        "    print(classification_report(y_test, y_pred))"
      ]
    },
    {
      "cell_type": "code",
      "execution_count": 376,
      "metadata": {
        "id": "w8IEHZMu-YLn"
      },
      "outputs": [],
      "source": [
        "from sklearn.pipeline import Pipeline\n",
        "\n",
        "pipeline = Pipeline([\n",
        "    ('model', None)  # Placeholder untuk model\n",
        "])\n",
        "\n",
        "# buat list of dictionary untuk memuat beberapa model\n",
        "param_grid = [\n",
        "    {\n",
        "        'model': [KNeighborsClassifier()],\n",
        "        'model__n_neighbors': [3, 5, 7, 9],\n",
        "        'model__weights': ['uniform', 'distance'],\n",
        "        'model__p': [1, 2]\n",
        "    },\n",
        "    {\n",
        "        'model': [SVC()],\n",
        "        'model__C': [0.1, 1, 10, 100],\n",
        "        'model__kernel': ['linear', 'rbf'],\n",
        "        'model__gamma': ['scale', 'auto']\n",
        "    },\n",
        "    {\n",
        "        'model': [RandomForestClassifier(random_state=42)],\n",
        "        'model__n_estimators': [100, 200, 300],\n",
        "        'model__max_depth': [10, 20, 30, None],\n",
        "        'model__min_samples_split': [2, 5, 10]\n",
        "    },\n",
        "    {\n",
        "        'model': [LogisticRegression(max_iter=100, random_state=42)],\n",
        "        'model__C': [0.001, 0.01, 0.1, 1, 10, 100],\n",
        "        'model__penalty': ['l1', 'l2']\n",
        "    },\n",
        "    {\n",
        "        'model': [MultinomialNB()],\n",
        "        'model__alpha': [0.1, 0.5, 1.0],      # smoothing\n",
        "        'model__fit_prior': [True, False]\n",
        "    },\n",
        "    {\n",
        "        'model': [ComplementNB()],\n",
        "        'model__alpha': [0.1, 0.5, 1.0],\n",
        "        'model__fit_prior': [True, False],\n",
        "        # (opsional) 'model__norm': [True, False]\n",
        "    }\n",
        "]\n",
        "\n"
      ]
    },
    {
      "cell_type": "code",
      "execution_count": 377,
      "metadata": {
        "id": "HL6y3hdncJoH"
      },
      "outputs": [],
      "source": [
        "grid_search = GridSearchCV(\n",
        "    estimator=pipeline,\n",
        "    param_grid=param_grid,\n",
        "    cv=5,\n",
        "    scoring='accuracy',\n",
        "    n_jobs=-1,\n",
        "    verbose=1\n",
        ")"
      ]
    },
    {
      "cell_type": "code",
      "execution_count": 378,
      "metadata": {
        "colab": {
          "base_uri": "https://localhost:8080/",
          "height": 913
        },
        "id": "GRfwNG5_WMB-",
        "outputId": "1e2e61fa-7ad5-4179-f037-0792b499d7c1"
      },
      "outputs": [
        {
          "name": "stdout",
          "output_type": "stream",
          "text": [
            "Fitting 5 folds for each of 92 candidates, totalling 460 fits\n"
          ]
        },
        {
          "data": {
            "text/html": [
              "<style>#sk-container-id-5 {\n",
              "  /* Definition of color scheme common for light and dark mode */\n",
              "  --sklearn-color-text: black;\n",
              "  --sklearn-color-line: gray;\n",
              "  /* Definition of color scheme for unfitted estimators */\n",
              "  --sklearn-color-unfitted-level-0: #fff5e6;\n",
              "  --sklearn-color-unfitted-level-1: #f6e4d2;\n",
              "  --sklearn-color-unfitted-level-2: #ffe0b3;\n",
              "  --sklearn-color-unfitted-level-3: chocolate;\n",
              "  /* Definition of color scheme for fitted estimators */\n",
              "  --sklearn-color-fitted-level-0: #f0f8ff;\n",
              "  --sklearn-color-fitted-level-1: #d4ebff;\n",
              "  --sklearn-color-fitted-level-2: #b3dbfd;\n",
              "  --sklearn-color-fitted-level-3: cornflowerblue;\n",
              "\n",
              "  /* Specific color for light theme */\n",
              "  --sklearn-color-text-on-default-background: var(--sg-text-color, var(--theme-code-foreground, var(--jp-content-font-color1, black)));\n",
              "  --sklearn-color-background: var(--sg-background-color, var(--theme-background, var(--jp-layout-color0, white)));\n",
              "  --sklearn-color-border-box: var(--sg-text-color, var(--theme-code-foreground, var(--jp-content-font-color1, black)));\n",
              "  --sklearn-color-icon: #696969;\n",
              "\n",
              "  @media (prefers-color-scheme: dark) {\n",
              "    /* Redefinition of color scheme for dark theme */\n",
              "    --sklearn-color-text-on-default-background: var(--sg-text-color, var(--theme-code-foreground, var(--jp-content-font-color1, white)));\n",
              "    --sklearn-color-background: var(--sg-background-color, var(--theme-background, var(--jp-layout-color0, #111)));\n",
              "    --sklearn-color-border-box: var(--sg-text-color, var(--theme-code-foreground, var(--jp-content-font-color1, white)));\n",
              "    --sklearn-color-icon: #878787;\n",
              "  }\n",
              "}\n",
              "\n",
              "#sk-container-id-5 {\n",
              "  color: var(--sklearn-color-text);\n",
              "}\n",
              "\n",
              "#sk-container-id-5 pre {\n",
              "  padding: 0;\n",
              "}\n",
              "\n",
              "#sk-container-id-5 input.sk-hidden--visually {\n",
              "  border: 0;\n",
              "  clip: rect(1px 1px 1px 1px);\n",
              "  clip: rect(1px, 1px, 1px, 1px);\n",
              "  height: 1px;\n",
              "  margin: -1px;\n",
              "  overflow: hidden;\n",
              "  padding: 0;\n",
              "  position: absolute;\n",
              "  width: 1px;\n",
              "}\n",
              "\n",
              "#sk-container-id-5 div.sk-dashed-wrapped {\n",
              "  border: 1px dashed var(--sklearn-color-line);\n",
              "  margin: 0 0.4em 0.5em 0.4em;\n",
              "  box-sizing: border-box;\n",
              "  padding-bottom: 0.4em;\n",
              "  background-color: var(--sklearn-color-background);\n",
              "}\n",
              "\n",
              "#sk-container-id-5 div.sk-container {\n",
              "  /* jupyter's `normalize.less` sets `[hidden] { display: none; }`\n",
              "     but bootstrap.min.css set `[hidden] { display: none !important; }`\n",
              "     so we also need the `!important` here to be able to override the\n",
              "     default hidden behavior on the sphinx rendered scikit-learn.org.\n",
              "     See: https://github.com/scikit-learn/scikit-learn/issues/21755 */\n",
              "  display: inline-block !important;\n",
              "  position: relative;\n",
              "}\n",
              "\n",
              "#sk-container-id-5 div.sk-text-repr-fallback {\n",
              "  display: none;\n",
              "}\n",
              "\n",
              "div.sk-parallel-item,\n",
              "div.sk-serial,\n",
              "div.sk-item {\n",
              "  /* draw centered vertical line to link estimators */\n",
              "  background-image: linear-gradient(var(--sklearn-color-text-on-default-background), var(--sklearn-color-text-on-default-background));\n",
              "  background-size: 2px 100%;\n",
              "  background-repeat: no-repeat;\n",
              "  background-position: center center;\n",
              "}\n",
              "\n",
              "/* Parallel-specific style estimator block */\n",
              "\n",
              "#sk-container-id-5 div.sk-parallel-item::after {\n",
              "  content: \"\";\n",
              "  width: 100%;\n",
              "  border-bottom: 2px solid var(--sklearn-color-text-on-default-background);\n",
              "  flex-grow: 1;\n",
              "}\n",
              "\n",
              "#sk-container-id-5 div.sk-parallel {\n",
              "  display: flex;\n",
              "  align-items: stretch;\n",
              "  justify-content: center;\n",
              "  background-color: var(--sklearn-color-background);\n",
              "  position: relative;\n",
              "}\n",
              "\n",
              "#sk-container-id-5 div.sk-parallel-item {\n",
              "  display: flex;\n",
              "  flex-direction: column;\n",
              "}\n",
              "\n",
              "#sk-container-id-5 div.sk-parallel-item:first-child::after {\n",
              "  align-self: flex-end;\n",
              "  width: 50%;\n",
              "}\n",
              "\n",
              "#sk-container-id-5 div.sk-parallel-item:last-child::after {\n",
              "  align-self: flex-start;\n",
              "  width: 50%;\n",
              "}\n",
              "\n",
              "#sk-container-id-5 div.sk-parallel-item:only-child::after {\n",
              "  width: 0;\n",
              "}\n",
              "\n",
              "/* Serial-specific style estimator block */\n",
              "\n",
              "#sk-container-id-5 div.sk-serial {\n",
              "  display: flex;\n",
              "  flex-direction: column;\n",
              "  align-items: center;\n",
              "  background-color: var(--sklearn-color-background);\n",
              "  padding-right: 1em;\n",
              "  padding-left: 1em;\n",
              "}\n",
              "\n",
              "\n",
              "/* Toggleable style: style used for estimator/Pipeline/ColumnTransformer box that is\n",
              "clickable and can be expanded/collapsed.\n",
              "- Pipeline and ColumnTransformer use this feature and define the default style\n",
              "- Estimators will overwrite some part of the style using the `sk-estimator` class\n",
              "*/\n",
              "\n",
              "/* Pipeline and ColumnTransformer style (default) */\n",
              "\n",
              "#sk-container-id-5 div.sk-toggleable {\n",
              "  /* Default theme specific background. It is overwritten whether we have a\n",
              "  specific estimator or a Pipeline/ColumnTransformer */\n",
              "  background-color: var(--sklearn-color-background);\n",
              "}\n",
              "\n",
              "/* Toggleable label */\n",
              "#sk-container-id-5 label.sk-toggleable__label {\n",
              "  cursor: pointer;\n",
              "  display: block;\n",
              "  width: 100%;\n",
              "  margin-bottom: 0;\n",
              "  padding: 0.5em;\n",
              "  box-sizing: border-box;\n",
              "  text-align: center;\n",
              "}\n",
              "\n",
              "#sk-container-id-5 label.sk-toggleable__label-arrow:before {\n",
              "  /* Arrow on the left of the label */\n",
              "  content: \"▸\";\n",
              "  float: left;\n",
              "  margin-right: 0.25em;\n",
              "  color: var(--sklearn-color-icon);\n",
              "}\n",
              "\n",
              "#sk-container-id-5 label.sk-toggleable__label-arrow:hover:before {\n",
              "  color: var(--sklearn-color-text);\n",
              "}\n",
              "\n",
              "/* Toggleable content - dropdown */\n",
              "\n",
              "#sk-container-id-5 div.sk-toggleable__content {\n",
              "  max-height: 0;\n",
              "  max-width: 0;\n",
              "  overflow: hidden;\n",
              "  text-align: left;\n",
              "  /* unfitted */\n",
              "  background-color: var(--sklearn-color-unfitted-level-0);\n",
              "}\n",
              "\n",
              "#sk-container-id-5 div.sk-toggleable__content.fitted {\n",
              "  /* fitted */\n",
              "  background-color: var(--sklearn-color-fitted-level-0);\n",
              "}\n",
              "\n",
              "#sk-container-id-5 div.sk-toggleable__content pre {\n",
              "  margin: 0.2em;\n",
              "  border-radius: 0.25em;\n",
              "  color: var(--sklearn-color-text);\n",
              "  /* unfitted */\n",
              "  background-color: var(--sklearn-color-unfitted-level-0);\n",
              "}\n",
              "\n",
              "#sk-container-id-5 div.sk-toggleable__content.fitted pre {\n",
              "  /* unfitted */\n",
              "  background-color: var(--sklearn-color-fitted-level-0);\n",
              "}\n",
              "\n",
              "#sk-container-id-5 input.sk-toggleable__control:checked~div.sk-toggleable__content {\n",
              "  /* Expand drop-down */\n",
              "  max-height: 200px;\n",
              "  max-width: 100%;\n",
              "  overflow: auto;\n",
              "}\n",
              "\n",
              "#sk-container-id-5 input.sk-toggleable__control:checked~label.sk-toggleable__label-arrow:before {\n",
              "  content: \"▾\";\n",
              "}\n",
              "\n",
              "/* Pipeline/ColumnTransformer-specific style */\n",
              "\n",
              "#sk-container-id-5 div.sk-label input.sk-toggleable__control:checked~label.sk-toggleable__label {\n",
              "  color: var(--sklearn-color-text);\n",
              "  background-color: var(--sklearn-color-unfitted-level-2);\n",
              "}\n",
              "\n",
              "#sk-container-id-5 div.sk-label.fitted input.sk-toggleable__control:checked~label.sk-toggleable__label {\n",
              "  background-color: var(--sklearn-color-fitted-level-2);\n",
              "}\n",
              "\n",
              "/* Estimator-specific style */\n",
              "\n",
              "/* Colorize estimator box */\n",
              "#sk-container-id-5 div.sk-estimator input.sk-toggleable__control:checked~label.sk-toggleable__label {\n",
              "  /* unfitted */\n",
              "  background-color: var(--sklearn-color-unfitted-level-2);\n",
              "}\n",
              "\n",
              "#sk-container-id-5 div.sk-estimator.fitted input.sk-toggleable__control:checked~label.sk-toggleable__label {\n",
              "  /* fitted */\n",
              "  background-color: var(--sklearn-color-fitted-level-2);\n",
              "}\n",
              "\n",
              "#sk-container-id-5 div.sk-label label.sk-toggleable__label,\n",
              "#sk-container-id-5 div.sk-label label {\n",
              "  /* The background is the default theme color */\n",
              "  color: var(--sklearn-color-text-on-default-background);\n",
              "}\n",
              "\n",
              "/* On hover, darken the color of the background */\n",
              "#sk-container-id-5 div.sk-label:hover label.sk-toggleable__label {\n",
              "  color: var(--sklearn-color-text);\n",
              "  background-color: var(--sklearn-color-unfitted-level-2);\n",
              "}\n",
              "\n",
              "/* Label box, darken color on hover, fitted */\n",
              "#sk-container-id-5 div.sk-label.fitted:hover label.sk-toggleable__label.fitted {\n",
              "  color: var(--sklearn-color-text);\n",
              "  background-color: var(--sklearn-color-fitted-level-2);\n",
              "}\n",
              "\n",
              "/* Estimator label */\n",
              "\n",
              "#sk-container-id-5 div.sk-label label {\n",
              "  font-family: monospace;\n",
              "  font-weight: bold;\n",
              "  display: inline-block;\n",
              "  line-height: 1.2em;\n",
              "}\n",
              "\n",
              "#sk-container-id-5 div.sk-label-container {\n",
              "  text-align: center;\n",
              "}\n",
              "\n",
              "/* Estimator-specific */\n",
              "#sk-container-id-5 div.sk-estimator {\n",
              "  font-family: monospace;\n",
              "  border: 1px dotted var(--sklearn-color-border-box);\n",
              "  border-radius: 0.25em;\n",
              "  box-sizing: border-box;\n",
              "  margin-bottom: 0.5em;\n",
              "  /* unfitted */\n",
              "  background-color: var(--sklearn-color-unfitted-level-0);\n",
              "}\n",
              "\n",
              "#sk-container-id-5 div.sk-estimator.fitted {\n",
              "  /* fitted */\n",
              "  background-color: var(--sklearn-color-fitted-level-0);\n",
              "}\n",
              "\n",
              "/* on hover */\n",
              "#sk-container-id-5 div.sk-estimator:hover {\n",
              "  /* unfitted */\n",
              "  background-color: var(--sklearn-color-unfitted-level-2);\n",
              "}\n",
              "\n",
              "#sk-container-id-5 div.sk-estimator.fitted:hover {\n",
              "  /* fitted */\n",
              "  background-color: var(--sklearn-color-fitted-level-2);\n",
              "}\n",
              "\n",
              "/* Specification for estimator info (e.g. \"i\" and \"?\") */\n",
              "\n",
              "/* Common style for \"i\" and \"?\" */\n",
              "\n",
              ".sk-estimator-doc-link,\n",
              "a:link.sk-estimator-doc-link,\n",
              "a:visited.sk-estimator-doc-link {\n",
              "  float: right;\n",
              "  font-size: smaller;\n",
              "  line-height: 1em;\n",
              "  font-family: monospace;\n",
              "  background-color: var(--sklearn-color-background);\n",
              "  border-radius: 1em;\n",
              "  height: 1em;\n",
              "  width: 1em;\n",
              "  text-decoration: none !important;\n",
              "  margin-left: 1ex;\n",
              "  /* unfitted */\n",
              "  border: var(--sklearn-color-unfitted-level-1) 1pt solid;\n",
              "  color: var(--sklearn-color-unfitted-level-1);\n",
              "}\n",
              "\n",
              ".sk-estimator-doc-link.fitted,\n",
              "a:link.sk-estimator-doc-link.fitted,\n",
              "a:visited.sk-estimator-doc-link.fitted {\n",
              "  /* fitted */\n",
              "  border: var(--sklearn-color-fitted-level-1) 1pt solid;\n",
              "  color: var(--sklearn-color-fitted-level-1);\n",
              "}\n",
              "\n",
              "/* On hover */\n",
              "div.sk-estimator:hover .sk-estimator-doc-link:hover,\n",
              ".sk-estimator-doc-link:hover,\n",
              "div.sk-label-container:hover .sk-estimator-doc-link:hover,\n",
              ".sk-estimator-doc-link:hover {\n",
              "  /* unfitted */\n",
              "  background-color: var(--sklearn-color-unfitted-level-3);\n",
              "  color: var(--sklearn-color-background);\n",
              "  text-decoration: none;\n",
              "}\n",
              "\n",
              "div.sk-estimator.fitted:hover .sk-estimator-doc-link.fitted:hover,\n",
              ".sk-estimator-doc-link.fitted:hover,\n",
              "div.sk-label-container:hover .sk-estimator-doc-link.fitted:hover,\n",
              ".sk-estimator-doc-link.fitted:hover {\n",
              "  /* fitted */\n",
              "  background-color: var(--sklearn-color-fitted-level-3);\n",
              "  color: var(--sklearn-color-background);\n",
              "  text-decoration: none;\n",
              "}\n",
              "\n",
              "/* Span, style for the box shown on hovering the info icon */\n",
              ".sk-estimator-doc-link span {\n",
              "  display: none;\n",
              "  z-index: 9999;\n",
              "  position: relative;\n",
              "  font-weight: normal;\n",
              "  right: .2ex;\n",
              "  padding: .5ex;\n",
              "  margin: .5ex;\n",
              "  width: min-content;\n",
              "  min-width: 20ex;\n",
              "  max-width: 50ex;\n",
              "  color: var(--sklearn-color-text);\n",
              "  box-shadow: 2pt 2pt 4pt #999;\n",
              "  /* unfitted */\n",
              "  background: var(--sklearn-color-unfitted-level-0);\n",
              "  border: .5pt solid var(--sklearn-color-unfitted-level-3);\n",
              "}\n",
              "\n",
              ".sk-estimator-doc-link.fitted span {\n",
              "  /* fitted */\n",
              "  background: var(--sklearn-color-fitted-level-0);\n",
              "  border: var(--sklearn-color-fitted-level-3);\n",
              "}\n",
              "\n",
              ".sk-estimator-doc-link:hover span {\n",
              "  display: block;\n",
              "}\n",
              "\n",
              "/* \"?\"-specific style due to the `<a>` HTML tag */\n",
              "\n",
              "#sk-container-id-5 a.estimator_doc_link {\n",
              "  float: right;\n",
              "  font-size: 1rem;\n",
              "  line-height: 1em;\n",
              "  font-family: monospace;\n",
              "  background-color: var(--sklearn-color-background);\n",
              "  border-radius: 1rem;\n",
              "  height: 1rem;\n",
              "  width: 1rem;\n",
              "  text-decoration: none;\n",
              "  /* unfitted */\n",
              "  color: var(--sklearn-color-unfitted-level-1);\n",
              "  border: var(--sklearn-color-unfitted-level-1) 1pt solid;\n",
              "}\n",
              "\n",
              "#sk-container-id-5 a.estimator_doc_link.fitted {\n",
              "  /* fitted */\n",
              "  border: var(--sklearn-color-fitted-level-1) 1pt solid;\n",
              "  color: var(--sklearn-color-fitted-level-1);\n",
              "}\n",
              "\n",
              "/* On hover */\n",
              "#sk-container-id-5 a.estimator_doc_link:hover {\n",
              "  /* unfitted */\n",
              "  background-color: var(--sklearn-color-unfitted-level-3);\n",
              "  color: var(--sklearn-color-background);\n",
              "  text-decoration: none;\n",
              "}\n",
              "\n",
              "#sk-container-id-5 a.estimator_doc_link.fitted:hover {\n",
              "  /* fitted */\n",
              "  background-color: var(--sklearn-color-fitted-level-3);\n",
              "}\n",
              "</style><div id=\"sk-container-id-5\" class=\"sk-top-container\"><div class=\"sk-text-repr-fallback\"><pre>GridSearchCV(cv=5, estimator=Pipeline(steps=[(&#x27;model&#x27;, None)]), n_jobs=-1,\n",
              "             param_grid=[{&#x27;model&#x27;: [KNeighborsClassifier()],\n",
              "                          &#x27;model__n_neighbors&#x27;: [3, 5, 7, 9],\n",
              "                          &#x27;model__p&#x27;: [1, 2],\n",
              "                          &#x27;model__weights&#x27;: [&#x27;uniform&#x27;, &#x27;distance&#x27;]},\n",
              "                         {&#x27;model&#x27;: [SVC()], &#x27;model__C&#x27;: [0.1, 1, 10, 100],\n",
              "                          &#x27;model__gamma&#x27;: [&#x27;scale&#x27;, &#x27;auto&#x27;],\n",
              "                          &#x27;model__kernel&#x27;: [&#x27;linear&#x27;, &#x27;rbf&#x27;]},\n",
              "                         {&#x27;model&#x27;: [RandomForestClassifier(ra...\n",
              "                          &#x27;model__n_estimators&#x27;: [100, 200, 300]},\n",
              "                         {&#x27;model&#x27;: [LogisticRegression(random_state=42)],\n",
              "                          &#x27;model__C&#x27;: [0.001, 0.01, 0.1, 1, 10, 100],\n",
              "                          &#x27;model__penalty&#x27;: [&#x27;l1&#x27;, &#x27;l2&#x27;]},\n",
              "                         {&#x27;model&#x27;: [MultinomialNB()],\n",
              "                          &#x27;model__alpha&#x27;: [0.1, 0.5, 1.0],\n",
              "                          &#x27;model__fit_prior&#x27;: [True, False]},\n",
              "                         {&#x27;model&#x27;: [ComplementNB()],\n",
              "                          &#x27;model__alpha&#x27;: [0.1, 0.5, 1.0],\n",
              "                          &#x27;model__fit_prior&#x27;: [True, False]}],\n",
              "             scoring=&#x27;accuracy&#x27;, verbose=1)</pre><b>In a Jupyter environment, please rerun this cell to show the HTML representation or trust the notebook. <br />On GitHub, the HTML representation is unable to render, please try loading this page with nbviewer.org.</b></div><div class=\"sk-container\" hidden><div class=\"sk-item sk-dashed-wrapped\"><div class=\"sk-label-container\"><div class=\"sk-label fitted sk-toggleable\"><input class=\"sk-toggleable__control sk-hidden--visually\" id=\"sk-estimator-id-13\" type=\"checkbox\" ><label for=\"sk-estimator-id-13\" class=\"sk-toggleable__label fitted sk-toggleable__label-arrow fitted\">&nbsp;&nbsp;GridSearchCV<a class=\"sk-estimator-doc-link fitted\" rel=\"noreferrer\" target=\"_blank\" href=\"https://scikit-learn.org/1.5/modules/generated/sklearn.model_selection.GridSearchCV.html\">?<span>Documentation for GridSearchCV</span></a><span class=\"sk-estimator-doc-link fitted\">i<span>Fitted</span></span></label><div class=\"sk-toggleable__content fitted\"><pre>GridSearchCV(cv=5, estimator=Pipeline(steps=[(&#x27;model&#x27;, None)]), n_jobs=-1,\n",
              "             param_grid=[{&#x27;model&#x27;: [KNeighborsClassifier()],\n",
              "                          &#x27;model__n_neighbors&#x27;: [3, 5, 7, 9],\n",
              "                          &#x27;model__p&#x27;: [1, 2],\n",
              "                          &#x27;model__weights&#x27;: [&#x27;uniform&#x27;, &#x27;distance&#x27;]},\n",
              "                         {&#x27;model&#x27;: [SVC()], &#x27;model__C&#x27;: [0.1, 1, 10, 100],\n",
              "                          &#x27;model__gamma&#x27;: [&#x27;scale&#x27;, &#x27;auto&#x27;],\n",
              "                          &#x27;model__kernel&#x27;: [&#x27;linear&#x27;, &#x27;rbf&#x27;]},\n",
              "                         {&#x27;model&#x27;: [RandomForestClassifier(ra...\n",
              "                          &#x27;model__n_estimators&#x27;: [100, 200, 300]},\n",
              "                         {&#x27;model&#x27;: [LogisticRegression(random_state=42)],\n",
              "                          &#x27;model__C&#x27;: [0.001, 0.01, 0.1, 1, 10, 100],\n",
              "                          &#x27;model__penalty&#x27;: [&#x27;l1&#x27;, &#x27;l2&#x27;]},\n",
              "                         {&#x27;model&#x27;: [MultinomialNB()],\n",
              "                          &#x27;model__alpha&#x27;: [0.1, 0.5, 1.0],\n",
              "                          &#x27;model__fit_prior&#x27;: [True, False]},\n",
              "                         {&#x27;model&#x27;: [ComplementNB()],\n",
              "                          &#x27;model__alpha&#x27;: [0.1, 0.5, 1.0],\n",
              "                          &#x27;model__fit_prior&#x27;: [True, False]}],\n",
              "             scoring=&#x27;accuracy&#x27;, verbose=1)</pre></div> </div></div><div class=\"sk-parallel\"><div class=\"sk-parallel-item\"><div class=\"sk-item\"><div class=\"sk-label-container\"><div class=\"sk-label fitted sk-toggleable\"><input class=\"sk-toggleable__control sk-hidden--visually\" id=\"sk-estimator-id-14\" type=\"checkbox\" ><label for=\"sk-estimator-id-14\" class=\"sk-toggleable__label fitted sk-toggleable__label-arrow fitted\">best_estimator_: Pipeline</label><div class=\"sk-toggleable__content fitted\"><pre>Pipeline(steps=[(&#x27;model&#x27;, SVC(C=10))])</pre></div> </div></div><div class=\"sk-serial\"><div class=\"sk-item\"><div class=\"sk-serial\"><div class=\"sk-item\"><div class=\"sk-estimator fitted sk-toggleable\"><input class=\"sk-toggleable__control sk-hidden--visually\" id=\"sk-estimator-id-15\" type=\"checkbox\" ><label for=\"sk-estimator-id-15\" class=\"sk-toggleable__label fitted sk-toggleable__label-arrow fitted\">&nbsp;SVC<a class=\"sk-estimator-doc-link fitted\" rel=\"noreferrer\" target=\"_blank\" href=\"https://scikit-learn.org/1.5/modules/generated/sklearn.svm.SVC.html\">?<span>Documentation for SVC</span></a></label><div class=\"sk-toggleable__content fitted\"><pre>SVC(C=10)</pre></div> </div></div></div></div></div></div></div></div></div></div></div>"
            ],
            "text/plain": [
              "GridSearchCV(cv=5, estimator=Pipeline(steps=[('model', None)]), n_jobs=-1,\n",
              "             param_grid=[{'model': [KNeighborsClassifier()],\n",
              "                          'model__n_neighbors': [3, 5, 7, 9],\n",
              "                          'model__p': [1, 2],\n",
              "                          'model__weights': ['uniform', 'distance']},\n",
              "                         {'model': [SVC()], 'model__C': [0.1, 1, 10, 100],\n",
              "                          'model__gamma': ['scale', 'auto'],\n",
              "                          'model__kernel': ['linear', 'rbf']},\n",
              "                         {'model': [RandomForestClassifier(ra...\n",
              "                          'model__n_estimators': [100, 200, 300]},\n",
              "                         {'model': [LogisticRegression(random_state=42)],\n",
              "                          'model__C': [0.001, 0.01, 0.1, 1, 10, 100],\n",
              "                          'model__penalty': ['l1', 'l2']},\n",
              "                         {'model': [MultinomialNB()],\n",
              "                          'model__alpha': [0.1, 0.5, 1.0],\n",
              "                          'model__fit_prior': [True, False]},\n",
              "                         {'model': [ComplementNB()],\n",
              "                          'model__alpha': [0.1, 0.5, 1.0],\n",
              "                          'model__fit_prior': [True, False]}],\n",
              "             scoring='accuracy', verbose=1)"
            ]
          },
          "execution_count": 378,
          "metadata": {},
          "output_type": "execute_result"
        }
      ],
      "source": [
        "grid_search.fit(x_train_vectorized, y_train)"
      ]
    },
    {
      "cell_type": "code",
      "execution_count": 379,
      "metadata": {
        "id": "ev8f8SB5Wdlo"
      },
      "outputs": [],
      "source": [
        "y_pred_gscv = grid_search.predict(x_test_vectorized)"
      ]
    },
    {
      "cell_type": "code",
      "execution_count": 380,
      "metadata": {
        "colab": {
          "base_uri": "https://localhost:8080/"
        },
        "id": "VXzMvnwZWzgU",
        "outputId": "0354a982-ffc2-4a0d-fd8a-9aa6fe77b884"
      },
      "outputs": [
        {
          "name": "stdout",
          "output_type": "stream",
          "text": [
            "0.7774086378737541\n",
            "              precision    recall  f1-score   support\n",
            "\n",
            "     Negatif       0.82      0.86      0.84       610\n",
            "     Positif       0.67      0.61      0.64       293\n",
            "\n",
            "    accuracy                           0.78       903\n",
            "   macro avg       0.75      0.73      0.74       903\n",
            "weighted avg       0.77      0.78      0.77       903\n",
            "\n"
          ]
        }
      ],
      "source": [
        "print(accuracy_score(y_test, y_pred_gscv))\n",
        "print(classification_report(y_test, y_pred_gscv))"
      ]
    },
    {
      "cell_type": "code",
      "execution_count": 381,
      "metadata": {
        "id": "JS7vMlh6XDKC"
      },
      "outputs": [],
      "source": [
        "randomized_search = RandomizedSearchCV(\n",
        "    estimator=pipeline,\n",
        "    param_distributions=param_grid,\n",
        "    n_iter=50,  # Jumlah kombinasi hyperparameter yang akan diuji\n",
        "    cv=5,\n",
        "    scoring='accuracy',\n",
        "    n_jobs=-1,\n",
        "    verbose=1,\n",
        "    random_state=42\n",
        ")"
      ]
    },
    {
      "cell_type": "code",
      "execution_count": 382,
      "metadata": {
        "colab": {
          "base_uri": "https://localhost:8080/",
          "height": 826
        },
        "id": "4jkiHonRnCeV",
        "outputId": "c10ac1d1-ad96-4f02-d710-9918c65ac83d"
      },
      "outputs": [
        {
          "name": "stdout",
          "output_type": "stream",
          "text": [
            "Fitting 5 folds for each of 50 candidates, totalling 250 fits\n"
          ]
        },
        {
          "data": {
            "text/html": [
              "<style>#sk-container-id-6 {\n",
              "  /* Definition of color scheme common for light and dark mode */\n",
              "  --sklearn-color-text: black;\n",
              "  --sklearn-color-line: gray;\n",
              "  /* Definition of color scheme for unfitted estimators */\n",
              "  --sklearn-color-unfitted-level-0: #fff5e6;\n",
              "  --sklearn-color-unfitted-level-1: #f6e4d2;\n",
              "  --sklearn-color-unfitted-level-2: #ffe0b3;\n",
              "  --sklearn-color-unfitted-level-3: chocolate;\n",
              "  /* Definition of color scheme for fitted estimators */\n",
              "  --sklearn-color-fitted-level-0: #f0f8ff;\n",
              "  --sklearn-color-fitted-level-1: #d4ebff;\n",
              "  --sklearn-color-fitted-level-2: #b3dbfd;\n",
              "  --sklearn-color-fitted-level-3: cornflowerblue;\n",
              "\n",
              "  /* Specific color for light theme */\n",
              "  --sklearn-color-text-on-default-background: var(--sg-text-color, var(--theme-code-foreground, var(--jp-content-font-color1, black)));\n",
              "  --sklearn-color-background: var(--sg-background-color, var(--theme-background, var(--jp-layout-color0, white)));\n",
              "  --sklearn-color-border-box: var(--sg-text-color, var(--theme-code-foreground, var(--jp-content-font-color1, black)));\n",
              "  --sklearn-color-icon: #696969;\n",
              "\n",
              "  @media (prefers-color-scheme: dark) {\n",
              "    /* Redefinition of color scheme for dark theme */\n",
              "    --sklearn-color-text-on-default-background: var(--sg-text-color, var(--theme-code-foreground, var(--jp-content-font-color1, white)));\n",
              "    --sklearn-color-background: var(--sg-background-color, var(--theme-background, var(--jp-layout-color0, #111)));\n",
              "    --sklearn-color-border-box: var(--sg-text-color, var(--theme-code-foreground, var(--jp-content-font-color1, white)));\n",
              "    --sklearn-color-icon: #878787;\n",
              "  }\n",
              "}\n",
              "\n",
              "#sk-container-id-6 {\n",
              "  color: var(--sklearn-color-text);\n",
              "}\n",
              "\n",
              "#sk-container-id-6 pre {\n",
              "  padding: 0;\n",
              "}\n",
              "\n",
              "#sk-container-id-6 input.sk-hidden--visually {\n",
              "  border: 0;\n",
              "  clip: rect(1px 1px 1px 1px);\n",
              "  clip: rect(1px, 1px, 1px, 1px);\n",
              "  height: 1px;\n",
              "  margin: -1px;\n",
              "  overflow: hidden;\n",
              "  padding: 0;\n",
              "  position: absolute;\n",
              "  width: 1px;\n",
              "}\n",
              "\n",
              "#sk-container-id-6 div.sk-dashed-wrapped {\n",
              "  border: 1px dashed var(--sklearn-color-line);\n",
              "  margin: 0 0.4em 0.5em 0.4em;\n",
              "  box-sizing: border-box;\n",
              "  padding-bottom: 0.4em;\n",
              "  background-color: var(--sklearn-color-background);\n",
              "}\n",
              "\n",
              "#sk-container-id-6 div.sk-container {\n",
              "  /* jupyter's `normalize.less` sets `[hidden] { display: none; }`\n",
              "     but bootstrap.min.css set `[hidden] { display: none !important; }`\n",
              "     so we also need the `!important` here to be able to override the\n",
              "     default hidden behavior on the sphinx rendered scikit-learn.org.\n",
              "     See: https://github.com/scikit-learn/scikit-learn/issues/21755 */\n",
              "  display: inline-block !important;\n",
              "  position: relative;\n",
              "}\n",
              "\n",
              "#sk-container-id-6 div.sk-text-repr-fallback {\n",
              "  display: none;\n",
              "}\n",
              "\n",
              "div.sk-parallel-item,\n",
              "div.sk-serial,\n",
              "div.sk-item {\n",
              "  /* draw centered vertical line to link estimators */\n",
              "  background-image: linear-gradient(var(--sklearn-color-text-on-default-background), var(--sklearn-color-text-on-default-background));\n",
              "  background-size: 2px 100%;\n",
              "  background-repeat: no-repeat;\n",
              "  background-position: center center;\n",
              "}\n",
              "\n",
              "/* Parallel-specific style estimator block */\n",
              "\n",
              "#sk-container-id-6 div.sk-parallel-item::after {\n",
              "  content: \"\";\n",
              "  width: 100%;\n",
              "  border-bottom: 2px solid var(--sklearn-color-text-on-default-background);\n",
              "  flex-grow: 1;\n",
              "}\n",
              "\n",
              "#sk-container-id-6 div.sk-parallel {\n",
              "  display: flex;\n",
              "  align-items: stretch;\n",
              "  justify-content: center;\n",
              "  background-color: var(--sklearn-color-background);\n",
              "  position: relative;\n",
              "}\n",
              "\n",
              "#sk-container-id-6 div.sk-parallel-item {\n",
              "  display: flex;\n",
              "  flex-direction: column;\n",
              "}\n",
              "\n",
              "#sk-container-id-6 div.sk-parallel-item:first-child::after {\n",
              "  align-self: flex-end;\n",
              "  width: 50%;\n",
              "}\n",
              "\n",
              "#sk-container-id-6 div.sk-parallel-item:last-child::after {\n",
              "  align-self: flex-start;\n",
              "  width: 50%;\n",
              "}\n",
              "\n",
              "#sk-container-id-6 div.sk-parallel-item:only-child::after {\n",
              "  width: 0;\n",
              "}\n",
              "\n",
              "/* Serial-specific style estimator block */\n",
              "\n",
              "#sk-container-id-6 div.sk-serial {\n",
              "  display: flex;\n",
              "  flex-direction: column;\n",
              "  align-items: center;\n",
              "  background-color: var(--sklearn-color-background);\n",
              "  padding-right: 1em;\n",
              "  padding-left: 1em;\n",
              "}\n",
              "\n",
              "\n",
              "/* Toggleable style: style used for estimator/Pipeline/ColumnTransformer box that is\n",
              "clickable and can be expanded/collapsed.\n",
              "- Pipeline and ColumnTransformer use this feature and define the default style\n",
              "- Estimators will overwrite some part of the style using the `sk-estimator` class\n",
              "*/\n",
              "\n",
              "/* Pipeline and ColumnTransformer style (default) */\n",
              "\n",
              "#sk-container-id-6 div.sk-toggleable {\n",
              "  /* Default theme specific background. It is overwritten whether we have a\n",
              "  specific estimator or a Pipeline/ColumnTransformer */\n",
              "  background-color: var(--sklearn-color-background);\n",
              "}\n",
              "\n",
              "/* Toggleable label */\n",
              "#sk-container-id-6 label.sk-toggleable__label {\n",
              "  cursor: pointer;\n",
              "  display: block;\n",
              "  width: 100%;\n",
              "  margin-bottom: 0;\n",
              "  padding: 0.5em;\n",
              "  box-sizing: border-box;\n",
              "  text-align: center;\n",
              "}\n",
              "\n",
              "#sk-container-id-6 label.sk-toggleable__label-arrow:before {\n",
              "  /* Arrow on the left of the label */\n",
              "  content: \"▸\";\n",
              "  float: left;\n",
              "  margin-right: 0.25em;\n",
              "  color: var(--sklearn-color-icon);\n",
              "}\n",
              "\n",
              "#sk-container-id-6 label.sk-toggleable__label-arrow:hover:before {\n",
              "  color: var(--sklearn-color-text);\n",
              "}\n",
              "\n",
              "/* Toggleable content - dropdown */\n",
              "\n",
              "#sk-container-id-6 div.sk-toggleable__content {\n",
              "  max-height: 0;\n",
              "  max-width: 0;\n",
              "  overflow: hidden;\n",
              "  text-align: left;\n",
              "  /* unfitted */\n",
              "  background-color: var(--sklearn-color-unfitted-level-0);\n",
              "}\n",
              "\n",
              "#sk-container-id-6 div.sk-toggleable__content.fitted {\n",
              "  /* fitted */\n",
              "  background-color: var(--sklearn-color-fitted-level-0);\n",
              "}\n",
              "\n",
              "#sk-container-id-6 div.sk-toggleable__content pre {\n",
              "  margin: 0.2em;\n",
              "  border-radius: 0.25em;\n",
              "  color: var(--sklearn-color-text);\n",
              "  /* unfitted */\n",
              "  background-color: var(--sklearn-color-unfitted-level-0);\n",
              "}\n",
              "\n",
              "#sk-container-id-6 div.sk-toggleable__content.fitted pre {\n",
              "  /* unfitted */\n",
              "  background-color: var(--sklearn-color-fitted-level-0);\n",
              "}\n",
              "\n",
              "#sk-container-id-6 input.sk-toggleable__control:checked~div.sk-toggleable__content {\n",
              "  /* Expand drop-down */\n",
              "  max-height: 200px;\n",
              "  max-width: 100%;\n",
              "  overflow: auto;\n",
              "}\n",
              "\n",
              "#sk-container-id-6 input.sk-toggleable__control:checked~label.sk-toggleable__label-arrow:before {\n",
              "  content: \"▾\";\n",
              "}\n",
              "\n",
              "/* Pipeline/ColumnTransformer-specific style */\n",
              "\n",
              "#sk-container-id-6 div.sk-label input.sk-toggleable__control:checked~label.sk-toggleable__label {\n",
              "  color: var(--sklearn-color-text);\n",
              "  background-color: var(--sklearn-color-unfitted-level-2);\n",
              "}\n",
              "\n",
              "#sk-container-id-6 div.sk-label.fitted input.sk-toggleable__control:checked~label.sk-toggleable__label {\n",
              "  background-color: var(--sklearn-color-fitted-level-2);\n",
              "}\n",
              "\n",
              "/* Estimator-specific style */\n",
              "\n",
              "/* Colorize estimator box */\n",
              "#sk-container-id-6 div.sk-estimator input.sk-toggleable__control:checked~label.sk-toggleable__label {\n",
              "  /* unfitted */\n",
              "  background-color: var(--sklearn-color-unfitted-level-2);\n",
              "}\n",
              "\n",
              "#sk-container-id-6 div.sk-estimator.fitted input.sk-toggleable__control:checked~label.sk-toggleable__label {\n",
              "  /* fitted */\n",
              "  background-color: var(--sklearn-color-fitted-level-2);\n",
              "}\n",
              "\n",
              "#sk-container-id-6 div.sk-label label.sk-toggleable__label,\n",
              "#sk-container-id-6 div.sk-label label {\n",
              "  /* The background is the default theme color */\n",
              "  color: var(--sklearn-color-text-on-default-background);\n",
              "}\n",
              "\n",
              "/* On hover, darken the color of the background */\n",
              "#sk-container-id-6 div.sk-label:hover label.sk-toggleable__label {\n",
              "  color: var(--sklearn-color-text);\n",
              "  background-color: var(--sklearn-color-unfitted-level-2);\n",
              "}\n",
              "\n",
              "/* Label box, darken color on hover, fitted */\n",
              "#sk-container-id-6 div.sk-label.fitted:hover label.sk-toggleable__label.fitted {\n",
              "  color: var(--sklearn-color-text);\n",
              "  background-color: var(--sklearn-color-fitted-level-2);\n",
              "}\n",
              "\n",
              "/* Estimator label */\n",
              "\n",
              "#sk-container-id-6 div.sk-label label {\n",
              "  font-family: monospace;\n",
              "  font-weight: bold;\n",
              "  display: inline-block;\n",
              "  line-height: 1.2em;\n",
              "}\n",
              "\n",
              "#sk-container-id-6 div.sk-label-container {\n",
              "  text-align: center;\n",
              "}\n",
              "\n",
              "/* Estimator-specific */\n",
              "#sk-container-id-6 div.sk-estimator {\n",
              "  font-family: monospace;\n",
              "  border: 1px dotted var(--sklearn-color-border-box);\n",
              "  border-radius: 0.25em;\n",
              "  box-sizing: border-box;\n",
              "  margin-bottom: 0.5em;\n",
              "  /* unfitted */\n",
              "  background-color: var(--sklearn-color-unfitted-level-0);\n",
              "}\n",
              "\n",
              "#sk-container-id-6 div.sk-estimator.fitted {\n",
              "  /* fitted */\n",
              "  background-color: var(--sklearn-color-fitted-level-0);\n",
              "}\n",
              "\n",
              "/* on hover */\n",
              "#sk-container-id-6 div.sk-estimator:hover {\n",
              "  /* unfitted */\n",
              "  background-color: var(--sklearn-color-unfitted-level-2);\n",
              "}\n",
              "\n",
              "#sk-container-id-6 div.sk-estimator.fitted:hover {\n",
              "  /* fitted */\n",
              "  background-color: var(--sklearn-color-fitted-level-2);\n",
              "}\n",
              "\n",
              "/* Specification for estimator info (e.g. \"i\" and \"?\") */\n",
              "\n",
              "/* Common style for \"i\" and \"?\" */\n",
              "\n",
              ".sk-estimator-doc-link,\n",
              "a:link.sk-estimator-doc-link,\n",
              "a:visited.sk-estimator-doc-link {\n",
              "  float: right;\n",
              "  font-size: smaller;\n",
              "  line-height: 1em;\n",
              "  font-family: monospace;\n",
              "  background-color: var(--sklearn-color-background);\n",
              "  border-radius: 1em;\n",
              "  height: 1em;\n",
              "  width: 1em;\n",
              "  text-decoration: none !important;\n",
              "  margin-left: 1ex;\n",
              "  /* unfitted */\n",
              "  border: var(--sklearn-color-unfitted-level-1) 1pt solid;\n",
              "  color: var(--sklearn-color-unfitted-level-1);\n",
              "}\n",
              "\n",
              ".sk-estimator-doc-link.fitted,\n",
              "a:link.sk-estimator-doc-link.fitted,\n",
              "a:visited.sk-estimator-doc-link.fitted {\n",
              "  /* fitted */\n",
              "  border: var(--sklearn-color-fitted-level-1) 1pt solid;\n",
              "  color: var(--sklearn-color-fitted-level-1);\n",
              "}\n",
              "\n",
              "/* On hover */\n",
              "div.sk-estimator:hover .sk-estimator-doc-link:hover,\n",
              ".sk-estimator-doc-link:hover,\n",
              "div.sk-label-container:hover .sk-estimator-doc-link:hover,\n",
              ".sk-estimator-doc-link:hover {\n",
              "  /* unfitted */\n",
              "  background-color: var(--sklearn-color-unfitted-level-3);\n",
              "  color: var(--sklearn-color-background);\n",
              "  text-decoration: none;\n",
              "}\n",
              "\n",
              "div.sk-estimator.fitted:hover .sk-estimator-doc-link.fitted:hover,\n",
              ".sk-estimator-doc-link.fitted:hover,\n",
              "div.sk-label-container:hover .sk-estimator-doc-link.fitted:hover,\n",
              ".sk-estimator-doc-link.fitted:hover {\n",
              "  /* fitted */\n",
              "  background-color: var(--sklearn-color-fitted-level-3);\n",
              "  color: var(--sklearn-color-background);\n",
              "  text-decoration: none;\n",
              "}\n",
              "\n",
              "/* Span, style for the box shown on hovering the info icon */\n",
              ".sk-estimator-doc-link span {\n",
              "  display: none;\n",
              "  z-index: 9999;\n",
              "  position: relative;\n",
              "  font-weight: normal;\n",
              "  right: .2ex;\n",
              "  padding: .5ex;\n",
              "  margin: .5ex;\n",
              "  width: min-content;\n",
              "  min-width: 20ex;\n",
              "  max-width: 50ex;\n",
              "  color: var(--sklearn-color-text);\n",
              "  box-shadow: 2pt 2pt 4pt #999;\n",
              "  /* unfitted */\n",
              "  background: var(--sklearn-color-unfitted-level-0);\n",
              "  border: .5pt solid var(--sklearn-color-unfitted-level-3);\n",
              "}\n",
              "\n",
              ".sk-estimator-doc-link.fitted span {\n",
              "  /* fitted */\n",
              "  background: var(--sklearn-color-fitted-level-0);\n",
              "  border: var(--sklearn-color-fitted-level-3);\n",
              "}\n",
              "\n",
              ".sk-estimator-doc-link:hover span {\n",
              "  display: block;\n",
              "}\n",
              "\n",
              "/* \"?\"-specific style due to the `<a>` HTML tag */\n",
              "\n",
              "#sk-container-id-6 a.estimator_doc_link {\n",
              "  float: right;\n",
              "  font-size: 1rem;\n",
              "  line-height: 1em;\n",
              "  font-family: monospace;\n",
              "  background-color: var(--sklearn-color-background);\n",
              "  border-radius: 1rem;\n",
              "  height: 1rem;\n",
              "  width: 1rem;\n",
              "  text-decoration: none;\n",
              "  /* unfitted */\n",
              "  color: var(--sklearn-color-unfitted-level-1);\n",
              "  border: var(--sklearn-color-unfitted-level-1) 1pt solid;\n",
              "}\n",
              "\n",
              "#sk-container-id-6 a.estimator_doc_link.fitted {\n",
              "  /* fitted */\n",
              "  border: var(--sklearn-color-fitted-level-1) 1pt solid;\n",
              "  color: var(--sklearn-color-fitted-level-1);\n",
              "}\n",
              "\n",
              "/* On hover */\n",
              "#sk-container-id-6 a.estimator_doc_link:hover {\n",
              "  /* unfitted */\n",
              "  background-color: var(--sklearn-color-unfitted-level-3);\n",
              "  color: var(--sklearn-color-background);\n",
              "  text-decoration: none;\n",
              "}\n",
              "\n",
              "#sk-container-id-6 a.estimator_doc_link.fitted:hover {\n",
              "  /* fitted */\n",
              "  background-color: var(--sklearn-color-fitted-level-3);\n",
              "}\n",
              "</style><div id=\"sk-container-id-6\" class=\"sk-top-container\"><div class=\"sk-text-repr-fallback\"><pre>RandomizedSearchCV(cv=5, estimator=Pipeline(steps=[(&#x27;model&#x27;, None)]), n_iter=50,\n",
              "                   n_jobs=-1,\n",
              "                   param_distributions=[{&#x27;model&#x27;: [KNeighborsClassifier()],\n",
              "                                         &#x27;model__n_neighbors&#x27;: [3, 5, 7, 9],\n",
              "                                         &#x27;model__p&#x27;: [1, 2],\n",
              "                                         &#x27;model__weights&#x27;: [&#x27;uniform&#x27;,\n",
              "                                                            &#x27;distance&#x27;]},\n",
              "                                        {&#x27;model&#x27;: [SVC()],\n",
              "                                         &#x27;model__C&#x27;: [0.1, 1, 10, 100],\n",
              "                                         &#x27;model__gamma&#x27;: [&#x27;scale&#x27;, &#x27;auto&#x27;],\n",
              "                                         &#x27;model__kernel&#x27;: [&#x27;linear&#x27;, &#x27;rbf&#x27;]},\n",
              "                                        {&#x27;model&#x27;: [...\n",
              "                                         &#x27;model__n_estimators&#x27;: [100, 200,\n",
              "                                                                 300]},\n",
              "                                        {&#x27;model&#x27;: [LogisticRegression(random_state=42)],\n",
              "                                         &#x27;model__C&#x27;: [0.001, 0.01, 0.1, 1, 10,\n",
              "                                                      100],\n",
              "                                         &#x27;model__penalty&#x27;: [&#x27;l1&#x27;, &#x27;l2&#x27;]},\n",
              "                                        {&#x27;model&#x27;: [MultinomialNB()],\n",
              "                                         &#x27;model__alpha&#x27;: [0.1, 0.5, 1.0],\n",
              "                                         &#x27;model__fit_prior&#x27;: [True, False]},\n",
              "                                        {&#x27;model&#x27;: [ComplementNB()],\n",
              "                                         &#x27;model__alpha&#x27;: [0.1, 0.5, 1.0],\n",
              "                                         &#x27;model__fit_prior&#x27;: [True, False]}],\n",
              "                   random_state=42, scoring=&#x27;accuracy&#x27;, verbose=1)</pre><b>In a Jupyter environment, please rerun this cell to show the HTML representation or trust the notebook. <br />On GitHub, the HTML representation is unable to render, please try loading this page with nbviewer.org.</b></div><div class=\"sk-container\" hidden><div class=\"sk-item sk-dashed-wrapped\"><div class=\"sk-label-container\"><div class=\"sk-label fitted sk-toggleable\"><input class=\"sk-toggleable__control sk-hidden--visually\" id=\"sk-estimator-id-16\" type=\"checkbox\" ><label for=\"sk-estimator-id-16\" class=\"sk-toggleable__label fitted sk-toggleable__label-arrow fitted\">&nbsp;&nbsp;RandomizedSearchCV<a class=\"sk-estimator-doc-link fitted\" rel=\"noreferrer\" target=\"_blank\" href=\"https://scikit-learn.org/1.5/modules/generated/sklearn.model_selection.RandomizedSearchCV.html\">?<span>Documentation for RandomizedSearchCV</span></a><span class=\"sk-estimator-doc-link fitted\">i<span>Fitted</span></span></label><div class=\"sk-toggleable__content fitted\"><pre>RandomizedSearchCV(cv=5, estimator=Pipeline(steps=[(&#x27;model&#x27;, None)]), n_iter=50,\n",
              "                   n_jobs=-1,\n",
              "                   param_distributions=[{&#x27;model&#x27;: [KNeighborsClassifier()],\n",
              "                                         &#x27;model__n_neighbors&#x27;: [3, 5, 7, 9],\n",
              "                                         &#x27;model__p&#x27;: [1, 2],\n",
              "                                         &#x27;model__weights&#x27;: [&#x27;uniform&#x27;,\n",
              "                                                            &#x27;distance&#x27;]},\n",
              "                                        {&#x27;model&#x27;: [SVC()],\n",
              "                                         &#x27;model__C&#x27;: [0.1, 1, 10, 100],\n",
              "                                         &#x27;model__gamma&#x27;: [&#x27;scale&#x27;, &#x27;auto&#x27;],\n",
              "                                         &#x27;model__kernel&#x27;: [&#x27;linear&#x27;, &#x27;rbf&#x27;]},\n",
              "                                        {&#x27;model&#x27;: [...\n",
              "                                         &#x27;model__n_estimators&#x27;: [100, 200,\n",
              "                                                                 300]},\n",
              "                                        {&#x27;model&#x27;: [LogisticRegression(random_state=42)],\n",
              "                                         &#x27;model__C&#x27;: [0.001, 0.01, 0.1, 1, 10,\n",
              "                                                      100],\n",
              "                                         &#x27;model__penalty&#x27;: [&#x27;l1&#x27;, &#x27;l2&#x27;]},\n",
              "                                        {&#x27;model&#x27;: [MultinomialNB()],\n",
              "                                         &#x27;model__alpha&#x27;: [0.1, 0.5, 1.0],\n",
              "                                         &#x27;model__fit_prior&#x27;: [True, False]},\n",
              "                                        {&#x27;model&#x27;: [ComplementNB()],\n",
              "                                         &#x27;model__alpha&#x27;: [0.1, 0.5, 1.0],\n",
              "                                         &#x27;model__fit_prior&#x27;: [True, False]}],\n",
              "                   random_state=42, scoring=&#x27;accuracy&#x27;, verbose=1)</pre></div> </div></div><div class=\"sk-parallel\"><div class=\"sk-parallel-item\"><div class=\"sk-item\"><div class=\"sk-label-container\"><div class=\"sk-label fitted sk-toggleable\"><input class=\"sk-toggleable__control sk-hidden--visually\" id=\"sk-estimator-id-17\" type=\"checkbox\" ><label for=\"sk-estimator-id-17\" class=\"sk-toggleable__label fitted sk-toggleable__label-arrow fitted\">best_estimator_: Pipeline</label><div class=\"sk-toggleable__content fitted\"><pre>Pipeline(steps=[(&#x27;model&#x27;, SVC(C=10))])</pre></div> </div></div><div class=\"sk-serial\"><div class=\"sk-item\"><div class=\"sk-serial\"><div class=\"sk-item\"><div class=\"sk-estimator fitted sk-toggleable\"><input class=\"sk-toggleable__control sk-hidden--visually\" id=\"sk-estimator-id-18\" type=\"checkbox\" ><label for=\"sk-estimator-id-18\" class=\"sk-toggleable__label fitted sk-toggleable__label-arrow fitted\">&nbsp;SVC<a class=\"sk-estimator-doc-link fitted\" rel=\"noreferrer\" target=\"_blank\" href=\"https://scikit-learn.org/1.5/modules/generated/sklearn.svm.SVC.html\">?<span>Documentation for SVC</span></a></label><div class=\"sk-toggleable__content fitted\"><pre>SVC(C=10)</pre></div> </div></div></div></div></div></div></div></div></div></div></div>"
            ],
            "text/plain": [
              "RandomizedSearchCV(cv=5, estimator=Pipeline(steps=[('model', None)]), n_iter=50,\n",
              "                   n_jobs=-1,\n",
              "                   param_distributions=[{'model': [KNeighborsClassifier()],\n",
              "                                         'model__n_neighbors': [3, 5, 7, 9],\n",
              "                                         'model__p': [1, 2],\n",
              "                                         'model__weights': ['uniform',\n",
              "                                                            'distance']},\n",
              "                                        {'model': [SVC()],\n",
              "                                         'model__C': [0.1, 1, 10, 100],\n",
              "                                         'model__gamma': ['scale', 'auto'],\n",
              "                                         'model__kernel': ['linear', 'rbf']},\n",
              "                                        {'model': [...\n",
              "                                         'model__n_estimators': [100, 200,\n",
              "                                                                 300]},\n",
              "                                        {'model': [LogisticRegression(random_state=42)],\n",
              "                                         'model__C': [0.001, 0.01, 0.1, 1, 10,\n",
              "                                                      100],\n",
              "                                         'model__penalty': ['l1', 'l2']},\n",
              "                                        {'model': [MultinomialNB()],\n",
              "                                         'model__alpha': [0.1, 0.5, 1.0],\n",
              "                                         'model__fit_prior': [True, False]},\n",
              "                                        {'model': [ComplementNB()],\n",
              "                                         'model__alpha': [0.1, 0.5, 1.0],\n",
              "                                         'model__fit_prior': [True, False]}],\n",
              "                   random_state=42, scoring='accuracy', verbose=1)"
            ]
          },
          "execution_count": 382,
          "metadata": {},
          "output_type": "execute_result"
        }
      ],
      "source": [
        "randomized_search.fit(x_train_vectorized, y_train)"
      ]
    },
    {
      "cell_type": "code",
      "execution_count": 383,
      "metadata": {
        "id": "JJhDRWEem5pB"
      },
      "outputs": [],
      "source": [
        "y_pred_rscv = randomized_search.predict(x_test_vectorized)"
      ]
    },
    {
      "cell_type": "code",
      "execution_count": 385,
      "metadata": {
        "colab": {
          "base_uri": "https://localhost:8080/"
        },
        "id": "K-lk6M8xonuj",
        "outputId": "0bdcaaac-909b-481c-b816-9d9fb19f1a34"
      },
      "outputs": [
        {
          "name": "stdout",
          "output_type": "stream",
          "text": [
            "0.7774086378737541\n",
            "              precision    recall  f1-score   support\n",
            "\n",
            "     Negatif       0.82      0.86      0.84       610\n",
            "     Positif       0.67      0.61      0.64       293\n",
            "\n",
            "    accuracy                           0.78       903\n",
            "   macro avg       0.75      0.73      0.74       903\n",
            "weighted avg       0.77      0.78      0.77       903\n",
            "\n"
          ]
        }
      ],
      "source": [
        "print(accuracy_score(y_test, y_pred_rscv))\n",
        "print(classification_report(y_test, y_pred_rscv))"
      ]
    },
    {
      "cell_type": "code",
      "execution_count": 387,
      "metadata": {},
      "outputs": [
        {
          "data": {
            "text/plain": [
              "['../model/sentiment_model.pkl']"
            ]
          },
          "execution_count": 387,
          "metadata": {},
          "output_type": "execute_result"
        }
      ],
      "source": [
        "import joblib\n",
        "\n",
        "joblib.dump((randomized_search, y), '../model/sentiment_model.pkl')"
      ]
    },
    {
      "cell_type": "code",
      "execution_count": null,
      "metadata": {},
      "outputs": [],
      "source": []
    }
  ],
  "metadata": {
    "accelerator": "GPU",
    "colab": {
      "gpuType": "T4",
      "include_colab_link": true,
      "provenance": []
    },
    "kernelspec": {
      "display_name": "DL",
      "language": "python",
      "name": "python3"
    },
    "language_info": {
      "codemirror_mode": {
        "name": "ipython",
        "version": 3
      },
      "file_extension": ".py",
      "mimetype": "text/x-python",
      "name": "python",
      "nbconvert_exporter": "python",
      "pygments_lexer": "ipython3",
      "version": "3.11.13"
    }
  },
  "nbformat": 4,
  "nbformat_minor": 0
}
